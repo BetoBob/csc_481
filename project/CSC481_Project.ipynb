{
  "nbformat": 4,
  "nbformat_minor": 0,
  "metadata": {
    "colab": {
      "name": "CSC481_Project.ipynb",
      "provenance": [],
      "collapsed_sections": [],
      "toc_visible": true
    },
    "kernelspec": {
      "name": "python3",
      "display_name": "Python 3"
    }
  },
  "cells": [
    {
      "cell_type": "markdown",
      "metadata": {
        "id": "oTroG4NJ3hRb",
        "colab_type": "text"
      },
      "source": [
        "# CSC 481 Project \n",
        "\n",
        "Ayan Patel, Robert Hensley\n",
        "\n",
        "* [Gowalla Dataset](https://snap.stanford.edu/data/loc-gowalla.html)"
      ]
    },
    {
      "cell_type": "markdown",
      "metadata": {
        "id": "awcG8UUHvMkE",
        "colab_type": "text"
      },
      "source": [
        "\n",
        "\n",
        "---\n",
        "\n"
      ]
    },
    {
      "cell_type": "code",
      "metadata": {
        "id": "o97-EZtj3FOg",
        "colab_type": "code",
        "outputId": "40794ba2-5734-4921-d420-7f58a0ebee75",
        "colab": {
          "base_uri": "https://localhost:8080/",
          "height": 168
        }
      },
      "source": [
        "# !pip install snap-stanford\n",
        "!pip install python-igraph"
      ],
      "execution_count": 0,
      "outputs": [
        {
          "output_type": "stream",
          "text": [
            "Collecting python-igraph\n",
            "\u001b[?25l  Downloading https://files.pythonhosted.org/packages/8b/74/24a1afbf3abaf1d5f393b668192888d04091d1a6d106319661cd4af05406/python_igraph-0.8.2-cp36-cp36m-manylinux2010_x86_64.whl (3.2MB)\n",
            "\u001b[K     |████████████████████████████████| 3.2MB 2.8MB/s \n",
            "\u001b[?25hCollecting texttable>=1.6.2\n",
            "  Downloading https://files.pythonhosted.org/packages/ec/b1/8a1c659ce288bf771d5b1c7cae318ada466f73bd0e16df8d86f27a2a3ee7/texttable-1.6.2-py2.py3-none-any.whl\n",
            "Installing collected packages: texttable, python-igraph\n",
            "Successfully installed python-igraph-0.8.2 texttable-1.6.2\n"
          ],
          "name": "stdout"
        }
      ]
    },
    {
      "cell_type": "code",
      "metadata": {
        "id": "VwrNPT2ww5Pn",
        "colab_type": "code",
        "colab": {}
      },
      "source": [
        "# import snap ???\n",
        "import igraph\n",
        "from igraph import *\n",
        "\n",
        "import pandas as pd\n",
        "\n",
        "import time\n",
        "from datetime import datetime"
      ],
      "execution_count": 0,
      "outputs": []
    },
    {
      "cell_type": "markdown",
      "metadata": {
        "id": "NpqW2Upl4fm5",
        "colab_type": "text"
      },
      "source": [
        "## Loading Data\n",
        "\n",
        "* use the following path with your google drive\n",
        "* this can takes 3 - 5 minutes to fully load all dataframes"
      ]
    },
    {
      "cell_type": "code",
      "metadata": {
        "id": "I1EbbKnAy9vJ",
        "colab_type": "code",
        "outputId": "b1405774-16bb-4992-8be5-34438702a121",
        "colab": {
          "base_uri": "https://localhost:8080/",
          "height": 131
        }
      },
      "source": [
        "from google.colab import drive\n",
        "drive.mount('/content/drive/')\n",
        "\n",
        "data_path = 'drive/My Drive/CSC 481 Project/data'\n",
        "\n",
        "# creating dataframes\n",
        "edges = pd.read_csv(data_path + 'Gowalla_edges.txt', sep='\\t', names=['u1', 'u2'])\n",
        "totalCheckins = pd.read_csv(data_path + 'Gowalla_totalCheckins.txt', sep='\\t',\n",
        "                            names=['user', 'time', 'lat', 'long', 'locid'])\n",
        "\n",
        "totalCheckins['time'] = totalCheckins['time'].map(lambda x: datetime.strptime(x, \"%Y-%m-%dT%H:%M:%SZ\"))"
      ],
      "execution_count": 0,
      "outputs": [
        {
          "output_type": "stream",
          "text": [
            "Go to this URL in a browser: https://accounts.google.com/o/oauth2/auth?client_id=947318989803-6bn6qk8qdgf4n4g3pfee6491hc0brc4i.apps.googleusercontent.com&redirect_uri=urn%3aietf%3awg%3aoauth%3a2.0%3aoob&response_type=code&scope=email%20https%3a%2f%2fwww.googleapis.com%2fauth%2fdocs.test%20https%3a%2f%2fwww.googleapis.com%2fauth%2fdrive%20https%3a%2f%2fwww.googleapis.com%2fauth%2fdrive.photos.readonly%20https%3a%2f%2fwww.googleapis.com%2fauth%2fpeopleapi.readonly\n",
            "\n",
            "Enter your authorization code:\n",
            "··········\n",
            "Mounted at /content/drive\n"
          ],
          "name": "stdout"
        }
      ]
    },
    {
      "cell_type": "code",
      "metadata": {
        "id": "KreKc4JQzIUs",
        "colab_type": "code",
        "outputId": "f9049caf-76b9-45b2-9f02-f90ef049c208",
        "colab": {
          "base_uri": "https://localhost:8080/",
          "height": 36
        }
      },
      "source": [
        "!ls 'drive/My Drive/CSC 481 Project/data'"
      ],
      "execution_count": 0,
      "outputs": [
        {
          "output_type": "stream",
          "text": [
            "Gowalla_edges.txt  Gowalla_totalCheckins.txt\n"
          ],
          "name": "stdout"
        }
      ]
    },
    {
      "cell_type": "code",
      "metadata": {
        "id": "UoqfogdT0uoM",
        "colab_type": "code",
        "outputId": "c6156307-d8c6-442b-8b8e-bb9b844b0395",
        "colab": {
          "base_uri": "https://localhost:8080/",
          "height": 424
        }
      },
      "source": [
        "totalCheckins"
      ],
      "execution_count": 0,
      "outputs": [
        {
          "output_type": "execute_result",
          "data": {
            "text/html": [
              "<div>\n",
              "<style scoped>\n",
              "    .dataframe tbody tr th:only-of-type {\n",
              "        vertical-align: middle;\n",
              "    }\n",
              "\n",
              "    .dataframe tbody tr th {\n",
              "        vertical-align: top;\n",
              "    }\n",
              "\n",
              "    .dataframe thead th {\n",
              "        text-align: right;\n",
              "    }\n",
              "</style>\n",
              "<table border=\"1\" class=\"dataframe\">\n",
              "  <thead>\n",
              "    <tr style=\"text-align: right;\">\n",
              "      <th></th>\n",
              "      <th>user</th>\n",
              "      <th>time</th>\n",
              "      <th>lat</th>\n",
              "      <th>long</th>\n",
              "      <th>locid</th>\n",
              "    </tr>\n",
              "  </thead>\n",
              "  <tbody>\n",
              "    <tr>\n",
              "      <th>0</th>\n",
              "      <td>0</td>\n",
              "      <td>2010-10-19 23:55:27</td>\n",
              "      <td>30.235909</td>\n",
              "      <td>-97.795140</td>\n",
              "      <td>22847</td>\n",
              "    </tr>\n",
              "    <tr>\n",
              "      <th>1</th>\n",
              "      <td>0</td>\n",
              "      <td>2010-10-18 22:17:43</td>\n",
              "      <td>30.269103</td>\n",
              "      <td>-97.749395</td>\n",
              "      <td>420315</td>\n",
              "    </tr>\n",
              "    <tr>\n",
              "      <th>2</th>\n",
              "      <td>0</td>\n",
              "      <td>2010-10-17 23:42:03</td>\n",
              "      <td>30.255731</td>\n",
              "      <td>-97.763386</td>\n",
              "      <td>316637</td>\n",
              "    </tr>\n",
              "    <tr>\n",
              "      <th>3</th>\n",
              "      <td>0</td>\n",
              "      <td>2010-10-17 19:26:05</td>\n",
              "      <td>30.263418</td>\n",
              "      <td>-97.757597</td>\n",
              "      <td>16516</td>\n",
              "    </tr>\n",
              "    <tr>\n",
              "      <th>4</th>\n",
              "      <td>0</td>\n",
              "      <td>2010-10-16 18:50:42</td>\n",
              "      <td>30.274292</td>\n",
              "      <td>-97.740523</td>\n",
              "      <td>5535878</td>\n",
              "    </tr>\n",
              "    <tr>\n",
              "      <th>...</th>\n",
              "      <td>...</td>\n",
              "      <td>...</td>\n",
              "      <td>...</td>\n",
              "      <td>...</td>\n",
              "      <td>...</td>\n",
              "    </tr>\n",
              "    <tr>\n",
              "      <th>6442887</th>\n",
              "      <td>196578</td>\n",
              "      <td>2010-06-11 13:32:26</td>\n",
              "      <td>51.742988</td>\n",
              "      <td>-0.488065</td>\n",
              "      <td>906885</td>\n",
              "    </tr>\n",
              "    <tr>\n",
              "      <th>6442888</th>\n",
              "      <td>196578</td>\n",
              "      <td>2010-06-11 13:26:45</td>\n",
              "      <td>51.746492</td>\n",
              "      <td>-0.490780</td>\n",
              "      <td>965121</td>\n",
              "    </tr>\n",
              "    <tr>\n",
              "      <th>6442889</th>\n",
              "      <td>196578</td>\n",
              "      <td>2010-06-11 13:26:34</td>\n",
              "      <td>51.741916</td>\n",
              "      <td>-0.496729</td>\n",
              "      <td>1174322</td>\n",
              "    </tr>\n",
              "    <tr>\n",
              "      <th>6442890</th>\n",
              "      <td>196585</td>\n",
              "      <td>2010-10-08 21:01:49</td>\n",
              "      <td>50.105516</td>\n",
              "      <td>8.571525</td>\n",
              "      <td>471724</td>\n",
              "    </tr>\n",
              "    <tr>\n",
              "      <th>6442891</th>\n",
              "      <td>196585</td>\n",
              "      <td>2010-10-07 17:39:18</td>\n",
              "      <td>50.027812</td>\n",
              "      <td>8.785098</td>\n",
              "      <td>4555073</td>\n",
              "    </tr>\n",
              "  </tbody>\n",
              "</table>\n",
              "<p>6442892 rows × 5 columns</p>\n",
              "</div>"
            ],
            "text/plain": [
              "           user                time        lat       long    locid\n",
              "0             0 2010-10-19 23:55:27  30.235909 -97.795140    22847\n",
              "1             0 2010-10-18 22:17:43  30.269103 -97.749395   420315\n",
              "2             0 2010-10-17 23:42:03  30.255731 -97.763386   316637\n",
              "3             0 2010-10-17 19:26:05  30.263418 -97.757597    16516\n",
              "4             0 2010-10-16 18:50:42  30.274292 -97.740523  5535878\n",
              "...         ...                 ...        ...        ...      ...\n",
              "6442887  196578 2010-06-11 13:32:26  51.742988  -0.488065   906885\n",
              "6442888  196578 2010-06-11 13:26:45  51.746492  -0.490780   965121\n",
              "6442889  196578 2010-06-11 13:26:34  51.741916  -0.496729  1174322\n",
              "6442890  196585 2010-10-08 21:01:49  50.105516   8.571525   471724\n",
              "6442891  196585 2010-10-07 17:39:18  50.027812   8.785098  4555073\n",
              "\n",
              "[6442892 rows x 5 columns]"
            ]
          },
          "metadata": {
            "tags": []
          },
          "execution_count": 45
        }
      ]
    },
    {
      "cell_type": "code",
      "metadata": {
        "id": "C20BDFlN0nd6",
        "colab_type": "code",
        "outputId": "368a445a-630c-426a-eb15-f0384fd28754",
        "colab": {
          "base_uri": "https://localhost:8080/",
          "height": 424
        }
      },
      "source": [
        "edges"
      ],
      "execution_count": 0,
      "outputs": [
        {
          "output_type": "execute_result",
          "data": {
            "text/html": [
              "<div>\n",
              "<style scoped>\n",
              "    .dataframe tbody tr th:only-of-type {\n",
              "        vertical-align: middle;\n",
              "    }\n",
              "\n",
              "    .dataframe tbody tr th {\n",
              "        vertical-align: top;\n",
              "    }\n",
              "\n",
              "    .dataframe thead th {\n",
              "        text-align: right;\n",
              "    }\n",
              "</style>\n",
              "<table border=\"1\" class=\"dataframe\">\n",
              "  <thead>\n",
              "    <tr style=\"text-align: right;\">\n",
              "      <th></th>\n",
              "      <th>u1</th>\n",
              "      <th>u2</th>\n",
              "    </tr>\n",
              "  </thead>\n",
              "  <tbody>\n",
              "    <tr>\n",
              "      <th>0</th>\n",
              "      <td>0</td>\n",
              "      <td>1</td>\n",
              "    </tr>\n",
              "    <tr>\n",
              "      <th>1</th>\n",
              "      <td>0</td>\n",
              "      <td>2</td>\n",
              "    </tr>\n",
              "    <tr>\n",
              "      <th>2</th>\n",
              "      <td>0</td>\n",
              "      <td>3</td>\n",
              "    </tr>\n",
              "    <tr>\n",
              "      <th>3</th>\n",
              "      <td>0</td>\n",
              "      <td>4</td>\n",
              "    </tr>\n",
              "    <tr>\n",
              "      <th>4</th>\n",
              "      <td>0</td>\n",
              "      <td>5</td>\n",
              "    </tr>\n",
              "    <tr>\n",
              "      <th>...</th>\n",
              "      <td>...</td>\n",
              "      <td>...</td>\n",
              "    </tr>\n",
              "    <tr>\n",
              "      <th>1900649</th>\n",
              "      <td>196586</td>\n",
              "      <td>196539</td>\n",
              "    </tr>\n",
              "    <tr>\n",
              "      <th>1900650</th>\n",
              "      <td>196587</td>\n",
              "      <td>196540</td>\n",
              "    </tr>\n",
              "    <tr>\n",
              "      <th>1900651</th>\n",
              "      <td>196588</td>\n",
              "      <td>196540</td>\n",
              "    </tr>\n",
              "    <tr>\n",
              "      <th>1900652</th>\n",
              "      <td>196589</td>\n",
              "      <td>196547</td>\n",
              "    </tr>\n",
              "    <tr>\n",
              "      <th>1900653</th>\n",
              "      <td>196590</td>\n",
              "      <td>196561</td>\n",
              "    </tr>\n",
              "  </tbody>\n",
              "</table>\n",
              "<p>1900654 rows × 2 columns</p>\n",
              "</div>"
            ],
            "text/plain": [
              "             u1      u2\n",
              "0             0       1\n",
              "1             0       2\n",
              "2             0       3\n",
              "3             0       4\n",
              "4             0       5\n",
              "...         ...     ...\n",
              "1900649  196586  196539\n",
              "1900650  196587  196540\n",
              "1900651  196588  196540\n",
              "1900652  196589  196547\n",
              "1900653  196590  196561\n",
              "\n",
              "[1900654 rows x 2 columns]"
            ]
          },
          "metadata": {
            "tags": []
          },
          "execution_count": 44
        }
      ]
    },
    {
      "cell_type": "markdown",
      "metadata": {
        "id": "QAXhhM5QCRL6",
        "colab_type": "text"
      },
      "source": [
        "### User Notes\n",
        "\n",
        "* userCheckins appears to cover only 1245 users\n",
        "  * this makes me wonder if the userIDs match the edges userIDs (most likely not)\n",
        "  * therefore it might be better to create our own graphs based off the checkin data and ignore the edges data\n",
        "    * this means we cannot make the assumptions that two users are friends \n",
        "    * we should test to see if our predicted meetups (same location at around the same time) match the meetups in the edges file\n",
        "  * also notice that user ID's appear to range from 0 - 1440, but there are only 1245 rows, implying some missing users\n",
        "\n",
        "\n",
        "* we can get an idea of where the users are generally located by gather the mean of their latitude on longitudinal locations\n",
        "* other user attributes to collect:\n",
        "  * earliest time checked in\n",
        "  * latest time checked in \n",
        "    * this shows the general timespan the user has been on the app "
      ]
    },
    {
      "cell_type": "code",
      "metadata": {
        "id": "_0JlEiRAB_xQ",
        "colab_type": "code",
        "outputId": "55c1e07b-6b34-49da-a6f5-c29b93884154",
        "colab": {
          "base_uri": "https://localhost:8080/",
          "height": 36
        }
      },
      "source": [
        "totalCheckins['user'].max()"
      ],
      "execution_count": 0,
      "outputs": [
        {
          "output_type": "execute_result",
          "data": {
            "text/plain": [
              "196585"
            ]
          },
          "metadata": {
            "tags": []
          },
          "execution_count": 46
        }
      ]
    },
    {
      "cell_type": "code",
      "metadata": {
        "id": "zxffVygg6FEX",
        "colab_type": "code",
        "outputId": "ad78c9ea-df97-4519-ed4c-d45b09b46197",
        "colab": {
          "base_uri": "https://localhost:8080/",
          "height": 455
        }
      },
      "source": [
        "users = totalCheckins.groupby('user').mean()[['lat', 'long']]\n",
        "users"
      ],
      "execution_count": 0,
      "outputs": [
        {
          "output_type": "execute_result",
          "data": {
            "text/html": [
              "<div>\n",
              "<style scoped>\n",
              "    .dataframe tbody tr th:only-of-type {\n",
              "        vertical-align: middle;\n",
              "    }\n",
              "\n",
              "    .dataframe tbody tr th {\n",
              "        vertical-align: top;\n",
              "    }\n",
              "\n",
              "    .dataframe thead th {\n",
              "        text-align: right;\n",
              "    }\n",
              "</style>\n",
              "<table border=\"1\" class=\"dataframe\">\n",
              "  <thead>\n",
              "    <tr style=\"text-align: right;\">\n",
              "      <th></th>\n",
              "      <th>lat</th>\n",
              "      <th>long</th>\n",
              "    </tr>\n",
              "    <tr>\n",
              "      <th>user</th>\n",
              "      <th></th>\n",
              "      <th></th>\n",
              "    </tr>\n",
              "  </thead>\n",
              "  <tbody>\n",
              "    <tr>\n",
              "      <th>0</th>\n",
              "      <td>33.558308</td>\n",
              "      <td>-97.894601</td>\n",
              "    </tr>\n",
              "    <tr>\n",
              "      <th>1</th>\n",
              "      <td>47.204338</td>\n",
              "      <td>4.499703</td>\n",
              "    </tr>\n",
              "    <tr>\n",
              "      <th>2</th>\n",
              "      <td>35.659617</td>\n",
              "      <td>-120.016716</td>\n",
              "    </tr>\n",
              "    <tr>\n",
              "      <th>4</th>\n",
              "      <td>36.800202</td>\n",
              "      <td>-124.714027</td>\n",
              "    </tr>\n",
              "    <tr>\n",
              "      <th>5</th>\n",
              "      <td>32.290069</td>\n",
              "      <td>-96.123008</td>\n",
              "    </tr>\n",
              "    <tr>\n",
              "      <th>...</th>\n",
              "      <td>...</td>\n",
              "      <td>...</td>\n",
              "    </tr>\n",
              "    <tr>\n",
              "      <th>196544</th>\n",
              "      <td>-25.433409</td>\n",
              "      <td>-49.281533</td>\n",
              "    </tr>\n",
              "    <tr>\n",
              "      <th>196561</th>\n",
              "      <td>37.528650</td>\n",
              "      <td>-122.004623</td>\n",
              "    </tr>\n",
              "    <tr>\n",
              "      <th>196577</th>\n",
              "      <td>51.514905</td>\n",
              "      <td>-0.081277</td>\n",
              "    </tr>\n",
              "    <tr>\n",
              "      <th>196578</th>\n",
              "      <td>51.744557</td>\n",
              "      <td>-0.478051</td>\n",
              "    </tr>\n",
              "    <tr>\n",
              "      <th>196585</th>\n",
              "      <td>50.066664</td>\n",
              "      <td>8.678312</td>\n",
              "    </tr>\n",
              "  </tbody>\n",
              "</table>\n",
              "<p>107092 rows × 2 columns</p>\n",
              "</div>"
            ],
            "text/plain": [
              "              lat        long\n",
              "user                         \n",
              "0       33.558308  -97.894601\n",
              "1       47.204338    4.499703\n",
              "2       35.659617 -120.016716\n",
              "4       36.800202 -124.714027\n",
              "5       32.290069  -96.123008\n",
              "...           ...         ...\n",
              "196544 -25.433409  -49.281533\n",
              "196561  37.528650 -122.004623\n",
              "196577  51.514905   -0.081277\n",
              "196578  51.744557   -0.478051\n",
              "196585  50.066664    8.678312\n",
              "\n",
              "[107092 rows x 2 columns]"
            ]
          },
          "metadata": {
            "tags": []
          },
          "execution_count": 47
        }
      ]
    },
    {
      "cell_type": "markdown",
      "metadata": {
        "id": "1a_dGVQTK1gl",
        "colab_type": "text"
      },
      "source": [
        "* look at how many checkins the average user makes\n",
        "  * this seems almost too big?\n",
        "  * I assume this is a collection of users classified as very active on Gowalla"
      ]
    },
    {
      "cell_type": "code",
      "metadata": {
        "id": "pSStIU_wKS0y",
        "colab_type": "code",
        "outputId": "3316854e-9a4e-48b6-a09a-a8da920c2b83",
        "colab": {
          "base_uri": "https://localhost:8080/",
          "height": 35
        }
      },
      "source": [
        "# average amounts of visits per user\n",
        "totalCheckins.shape[0] / users.shape[0]"
      ],
      "execution_count": 0,
      "outputs": [
        {
          "output_type": "execute_result",
          "data": {
            "text/plain": [
              "338.13253012048193"
            ]
          },
          "metadata": {
            "tags": []
          },
          "execution_count": 108
        }
      ]
    },
    {
      "cell_type": "markdown",
      "metadata": {
        "id": "NpsxtesdBGgZ",
        "colab_type": "text"
      },
      "source": [
        "### Place Notes\n",
        "\n",
        "* same grouping process as users\n",
        "* maybe also include beginning and end of times visited?\n",
        "  * probably not necessary for this dataset"
      ]
    },
    {
      "cell_type": "code",
      "metadata": {
        "id": "9jYO7LGWBMDR",
        "colab_type": "code",
        "colab": {}
      },
      "source": [
        "places = totalCheckins.groupby('locid').mean()[['lat', 'long']]"
      ],
      "execution_count": 0,
      "outputs": []
    },
    {
      "cell_type": "code",
      "metadata": {
        "id": "8-kPvM27CI6P",
        "colab_type": "code",
        "outputId": "9a03ba41-ec06-441a-b64c-86a1dc999c47",
        "colab": {
          "base_uri": "https://localhost:8080/",
          "height": 455
        }
      },
      "source": [
        "places"
      ],
      "execution_count": 0,
      "outputs": [
        {
          "output_type": "execute_result",
          "data": {
            "text/html": [
              "<div>\n",
              "<style scoped>\n",
              "    .dataframe tbody tr th:only-of-type {\n",
              "        vertical-align: middle;\n",
              "    }\n",
              "\n",
              "    .dataframe tbody tr th {\n",
              "        vertical-align: top;\n",
              "    }\n",
              "\n",
              "    .dataframe thead th {\n",
              "        text-align: right;\n",
              "    }\n",
              "</style>\n",
              "<table border=\"1\" class=\"dataframe\">\n",
              "  <thead>\n",
              "    <tr style=\"text-align: right;\">\n",
              "      <th></th>\n",
              "      <th>lat</th>\n",
              "      <th>long</th>\n",
              "    </tr>\n",
              "    <tr>\n",
              "      <th>locid</th>\n",
              "      <th></th>\n",
              "      <th></th>\n",
              "    </tr>\n",
              "  </thead>\n",
              "  <tbody>\n",
              "    <tr>\n",
              "      <th>8904</th>\n",
              "      <td>39.052318</td>\n",
              "      <td>-94.607499</td>\n",
              "    </tr>\n",
              "    <tr>\n",
              "      <th>8932</th>\n",
              "      <td>32.927662</td>\n",
              "      <td>-97.254356</td>\n",
              "    </tr>\n",
              "    <tr>\n",
              "      <th>8936</th>\n",
              "      <td>39.053318</td>\n",
              "      <td>-94.591995</td>\n",
              "    </tr>\n",
              "    <tr>\n",
              "      <th>8938</th>\n",
              "      <td>39.052824</td>\n",
              "      <td>-94.590311</td>\n",
              "    </tr>\n",
              "    <tr>\n",
              "      <th>8947</th>\n",
              "      <td>37.331880</td>\n",
              "      <td>-122.029631</td>\n",
              "    </tr>\n",
              "    <tr>\n",
              "      <th>...</th>\n",
              "      <td>...</td>\n",
              "      <td>...</td>\n",
              "    </tr>\n",
              "    <tr>\n",
              "      <th>5975123</th>\n",
              "      <td>38.020788</td>\n",
              "      <td>-7.874773</td>\n",
              "    </tr>\n",
              "    <tr>\n",
              "      <th>5976149</th>\n",
              "      <td>12.939186</td>\n",
              "      <td>100.882264</td>\n",
              "    </tr>\n",
              "    <tr>\n",
              "      <th>5976173</th>\n",
              "      <td>13.668828</td>\n",
              "      <td>100.644486</td>\n",
              "    </tr>\n",
              "    <tr>\n",
              "      <th>5977211</th>\n",
              "      <td>4.888548</td>\n",
              "      <td>114.838631</td>\n",
              "    </tr>\n",
              "    <tr>\n",
              "      <th>5977757</th>\n",
              "      <td>13.447479</td>\n",
              "      <td>101.019928</td>\n",
              "    </tr>\n",
              "  </tbody>\n",
              "</table>\n",
              "<p>1280969 rows × 2 columns</p>\n",
              "</div>"
            ],
            "text/plain": [
              "               lat        long\n",
              "locid                         \n",
              "8904     39.052318  -94.607499\n",
              "8932     32.927662  -97.254356\n",
              "8936     39.053318  -94.591995\n",
              "8938     39.052824  -94.590311\n",
              "8947     37.331880 -122.029631\n",
              "...            ...         ...\n",
              "5975123  38.020788   -7.874773\n",
              "5976149  12.939186  100.882264\n",
              "5976173  13.668828  100.644486\n",
              "5977211   4.888548  114.838631\n",
              "5977757  13.447479  101.019928\n",
              "\n",
              "[1280969 rows x 2 columns]"
            ]
          },
          "metadata": {
            "tags": []
          },
          "execution_count": 49
        }
      ]
    },
    {
      "cell_type": "markdown",
      "metadata": {
        "id": "RKb_GW3NxVYV",
        "colab_type": "text"
      },
      "source": [
        "Let's try to find the country all this data is from. We will query location information using [geopy](https://geopy.readthedocs.io/en/stable/). Below is a sample query."
      ]
    },
    {
      "cell_type": "code",
      "metadata": {
        "id": "GpzGKp7-wCah",
        "colab_type": "code",
        "outputId": "b7faf624-e9ab-4c66-9de3-c4636fea28c8",
        "colab": {
          "base_uri": "https://localhost:8080/",
          "height": 74
        }
      },
      "source": [
        "from geopy.geocoders import Nominatim\n",
        "\n",
        "geolocator = Nominatim()\n",
        "\n",
        "location = geolocator.reverse(\"52.509669, 13.376294\")"
      ],
      "execution_count": 0,
      "outputs": [
        {
          "output_type": "stream",
          "text": [
            "/usr/local/lib/python3.6/dist-packages/geopy/geocoders/osm.py:143: UserWarning: Using Nominatim with the default \"geopy/1.17.0\" `user_agent` is strongly discouraged, as it violates Nominatim's ToS https://operations.osmfoundation.org/policies/nominatim/ and may possibly cause 403 and 429 HTTP errors. Please specify a custom `user_agent` with `Nominatim(user_agent=\"my-application\")` or by overriding the default `user_agent`: `geopy.geocoders.options.default_user_agent = \"my-application\"`. In geopy 2.0 this will become an exception.\n",
            "  UserWarning\n"
          ],
          "name": "stderr"
        }
      ]
    },
    {
      "cell_type": "code",
      "metadata": {
        "id": "CbxNA2jIyO3e",
        "colab_type": "code",
        "outputId": "e4a070ed-0f91-4da0-9086-b1315352e290",
        "colab": {
          "base_uri": "https://localhost:8080/",
          "height": 355
        }
      },
      "source": [
        "location.raw"
      ],
      "execution_count": 0,
      "outputs": [
        {
          "output_type": "execute_result",
          "data": {
            "text/plain": [
              "{'address': {'borough': 'Mitte',\n",
              "  'city': 'Berlin',\n",
              "  'country': 'Deutschland',\n",
              "  'country_code': 'de',\n",
              "  'postcode': '10785',\n",
              "  'quarter': 'Botschaftsviertel',\n",
              "  'road': 'Bellevuestraße',\n",
              "  'suburb': 'Tiergarten',\n",
              "  'tourism': 'Potsdamer Platz'},\n",
              " 'boundingbox': ['52.5082999', '52.5100374', '13.3750548', '13.3769528'],\n",
              " 'display_name': 'Potsdamer Platz, Bellevuestraße, Botschaftsviertel, Tiergarten, Mitte, Berlin, 10785, Deutschland',\n",
              " 'lat': '52.5098014',\n",
              " 'licence': 'Data © OpenStreetMap contributors, ODbL 1.0. https://osm.org/copyright',\n",
              " 'lon': '13.375589791291057',\n",
              " 'osm_id': 3200536,\n",
              " 'osm_type': 'relation',\n",
              " 'place_id': 235599123}"
            ]
          },
          "metadata": {
            "tags": []
          },
          "execution_count": 21
        }
      ]
    },
    {
      "cell_type": "code",
      "metadata": {
        "id": "A6TUCbFSyT28",
        "colab_type": "code",
        "outputId": "d3723075-49eb-4f9c-a9d2-17d14857dddb",
        "colab": {
          "base_uri": "https://localhost:8080/",
          "height": 36
        }
      },
      "source": [
        "location.raw['address']['country']"
      ],
      "execution_count": 0,
      "outputs": [
        {
          "output_type": "execute_result",
          "data": {
            "text/plain": [
              "'Deutschland'"
            ]
          },
          "metadata": {
            "tags": []
          },
          "execution_count": 23
        }
      ]
    },
    {
      "cell_type": "markdown",
      "metadata": {
        "id": "FeZzfKMq7vBU",
        "colab_type": "text"
      },
      "source": [
        "* do the query below offline because it's taking too much time in Google Collab\n",
        "  * assuming it's a resource limitation of Collab\n",
        "  * could be inefficient to append each row when querying"
      ]
    },
    {
      "cell_type": "code",
      "metadata": {
        "id": "3PmP9SkDyeQX",
        "colab_type": "code",
        "outputId": "677fa135-1e99-4359-95ab-37c833ae7be8",
        "colab": {
          "base_uri": "https://localhost:8080/",
          "height": 519
        }
      },
      "source": [
        "geolocator = Nominatim()\n",
        "\n",
        "for index, row in places.iterrows():\n",
        "  row['loc_json'] = geolocator.reverse(str(row[\"lat\"]) + \", \" + str(row[\"long\"])).raw"
      ],
      "execution_count": 0,
      "outputs": [
        {
          "output_type": "stream",
          "text": [
            "/usr/local/lib/python3.6/dist-packages/geopy/geocoders/osm.py:143: UserWarning: Using Nominatim with the default \"geopy/1.17.0\" `user_agent` is strongly discouraged, as it violates Nominatim's ToS https://operations.osmfoundation.org/policies/nominatim/ and may possibly cause 403 and 429 HTTP errors. Please specify a custom `user_agent` with `Nominatim(user_agent=\"my-application\")` or by overriding the default `user_agent`: `geopy.geocoders.options.default_user_agent = \"my-application\"`. In geopy 2.0 this will become an exception.\n",
            "  UserWarning\n"
          ],
          "name": "stderr"
        },
        {
          "output_type": "error",
          "ename": "GeocoderTimedOut",
          "evalue": "ignored",
          "traceback": [
            "\u001b[0;31m---------------------------------------------------------------------------\u001b[0m",
            "\u001b[0;31mtimeout\u001b[0m                                   Traceback (most recent call last)",
            "\u001b[0;32m/usr/local/lib/python3.6/dist-packages/geopy/geocoders/base.py\u001b[0m in \u001b[0;36m_call_geocoder\u001b[0;34m(self, url, timeout, raw, requester, deserializer, **kwargs)\u001b[0m\n\u001b[1;32m    343\u001b[0m         \u001b[0;32mtry\u001b[0m\u001b[0;34m:\u001b[0m\u001b[0;34m\u001b[0m\u001b[0;34m\u001b[0m\u001b[0m\n\u001b[0;32m--> 344\u001b[0;31m             \u001b[0mpage\u001b[0m \u001b[0;34m=\u001b[0m \u001b[0mrequester\u001b[0m\u001b[0;34m(\u001b[0m\u001b[0mreq\u001b[0m\u001b[0;34m,\u001b[0m \u001b[0mtimeout\u001b[0m\u001b[0;34m=\u001b[0m\u001b[0mtimeout\u001b[0m\u001b[0;34m,\u001b[0m \u001b[0;34m**\u001b[0m\u001b[0mkwargs\u001b[0m\u001b[0;34m)\u001b[0m\u001b[0;34m\u001b[0m\u001b[0;34m\u001b[0m\u001b[0m\n\u001b[0m\u001b[1;32m    345\u001b[0m         \u001b[0;32mexcept\u001b[0m \u001b[0mException\u001b[0m \u001b[0;32mas\u001b[0m \u001b[0merror\u001b[0m\u001b[0;34m:\u001b[0m\u001b[0;34m\u001b[0m\u001b[0;34m\u001b[0m\u001b[0m\n",
            "\u001b[0;32m/usr/lib/python3.6/urllib/request.py\u001b[0m in \u001b[0;36mopen\u001b[0;34m(self, fullurl, data, timeout)\u001b[0m\n\u001b[1;32m    525\u001b[0m \u001b[0;34m\u001b[0m\u001b[0m\n\u001b[0;32m--> 526\u001b[0;31m         \u001b[0mresponse\u001b[0m \u001b[0;34m=\u001b[0m \u001b[0mself\u001b[0m\u001b[0;34m.\u001b[0m\u001b[0m_open\u001b[0m\u001b[0;34m(\u001b[0m\u001b[0mreq\u001b[0m\u001b[0;34m,\u001b[0m \u001b[0mdata\u001b[0m\u001b[0;34m)\u001b[0m\u001b[0;34m\u001b[0m\u001b[0;34m\u001b[0m\u001b[0m\n\u001b[0m\u001b[1;32m    527\u001b[0m \u001b[0;34m\u001b[0m\u001b[0m\n",
            "\u001b[0;32m/usr/lib/python3.6/urllib/request.py\u001b[0m in \u001b[0;36m_open\u001b[0;34m(self, req, data)\u001b[0m\n\u001b[1;32m    543\u001b[0m         result = self._call_chain(self.handle_open, protocol, protocol +\n\u001b[0;32m--> 544\u001b[0;31m                                   '_open', req)\n\u001b[0m\u001b[1;32m    545\u001b[0m         \u001b[0;32mif\u001b[0m \u001b[0mresult\u001b[0m\u001b[0;34m:\u001b[0m\u001b[0;34m\u001b[0m\u001b[0;34m\u001b[0m\u001b[0m\n",
            "\u001b[0;32m/usr/lib/python3.6/urllib/request.py\u001b[0m in \u001b[0;36m_call_chain\u001b[0;34m(self, chain, kind, meth_name, *args)\u001b[0m\n\u001b[1;32m    503\u001b[0m             \u001b[0mfunc\u001b[0m \u001b[0;34m=\u001b[0m \u001b[0mgetattr\u001b[0m\u001b[0;34m(\u001b[0m\u001b[0mhandler\u001b[0m\u001b[0;34m,\u001b[0m \u001b[0mmeth_name\u001b[0m\u001b[0;34m)\u001b[0m\u001b[0;34m\u001b[0m\u001b[0;34m\u001b[0m\u001b[0m\n\u001b[0;32m--> 504\u001b[0;31m             \u001b[0mresult\u001b[0m \u001b[0;34m=\u001b[0m \u001b[0mfunc\u001b[0m\u001b[0;34m(\u001b[0m\u001b[0;34m*\u001b[0m\u001b[0margs\u001b[0m\u001b[0;34m)\u001b[0m\u001b[0;34m\u001b[0m\u001b[0;34m\u001b[0m\u001b[0m\n\u001b[0m\u001b[1;32m    505\u001b[0m             \u001b[0;32mif\u001b[0m \u001b[0mresult\u001b[0m \u001b[0;32mis\u001b[0m \u001b[0;32mnot\u001b[0m \u001b[0;32mNone\u001b[0m\u001b[0;34m:\u001b[0m\u001b[0;34m\u001b[0m\u001b[0;34m\u001b[0m\u001b[0m\n",
            "\u001b[0;32m/usr/lib/python3.6/urllib/request.py\u001b[0m in \u001b[0;36mhttps_open\u001b[0;34m(self, req)\u001b[0m\n\u001b[1;32m   1367\u001b[0m             return self.do_open(http.client.HTTPSConnection, req,\n\u001b[0;32m-> 1368\u001b[0;31m                 context=self._context, check_hostname=self._check_hostname)\n\u001b[0m\u001b[1;32m   1369\u001b[0m \u001b[0;34m\u001b[0m\u001b[0m\n",
            "\u001b[0;32m/usr/lib/python3.6/urllib/request.py\u001b[0m in \u001b[0;36mdo_open\u001b[0;34m(self, http_class, req, **http_conn_args)\u001b[0m\n\u001b[1;32m   1327\u001b[0m                 \u001b[0;32mraise\u001b[0m \u001b[0mURLError\u001b[0m\u001b[0;34m(\u001b[0m\u001b[0merr\u001b[0m\u001b[0;34m)\u001b[0m\u001b[0;34m\u001b[0m\u001b[0;34m\u001b[0m\u001b[0m\n\u001b[0;32m-> 1328\u001b[0;31m             \u001b[0mr\u001b[0m \u001b[0;34m=\u001b[0m \u001b[0mh\u001b[0m\u001b[0;34m.\u001b[0m\u001b[0mgetresponse\u001b[0m\u001b[0;34m(\u001b[0m\u001b[0;34m)\u001b[0m\u001b[0;34m\u001b[0m\u001b[0;34m\u001b[0m\u001b[0m\n\u001b[0m\u001b[1;32m   1329\u001b[0m         \u001b[0;32mexcept\u001b[0m\u001b[0;34m:\u001b[0m\u001b[0;34m\u001b[0m\u001b[0;34m\u001b[0m\u001b[0m\n",
            "\u001b[0;32m/usr/lib/python3.6/http/client.py\u001b[0m in \u001b[0;36mgetresponse\u001b[0;34m(self)\u001b[0m\n\u001b[1;32m   1355\u001b[0m             \u001b[0;32mtry\u001b[0m\u001b[0;34m:\u001b[0m\u001b[0;34m\u001b[0m\u001b[0;34m\u001b[0m\u001b[0m\n\u001b[0;32m-> 1356\u001b[0;31m                 \u001b[0mresponse\u001b[0m\u001b[0;34m.\u001b[0m\u001b[0mbegin\u001b[0m\u001b[0;34m(\u001b[0m\u001b[0;34m)\u001b[0m\u001b[0;34m\u001b[0m\u001b[0;34m\u001b[0m\u001b[0m\n\u001b[0m\u001b[1;32m   1357\u001b[0m             \u001b[0;32mexcept\u001b[0m \u001b[0mConnectionError\u001b[0m\u001b[0;34m:\u001b[0m\u001b[0;34m\u001b[0m\u001b[0;34m\u001b[0m\u001b[0m\n",
            "\u001b[0;32m/usr/lib/python3.6/http/client.py\u001b[0m in \u001b[0;36mbegin\u001b[0;34m(self)\u001b[0m\n\u001b[1;32m    306\u001b[0m         \u001b[0;32mwhile\u001b[0m \u001b[0;32mTrue\u001b[0m\u001b[0;34m:\u001b[0m\u001b[0;34m\u001b[0m\u001b[0;34m\u001b[0m\u001b[0m\n\u001b[0;32m--> 307\u001b[0;31m             \u001b[0mversion\u001b[0m\u001b[0;34m,\u001b[0m \u001b[0mstatus\u001b[0m\u001b[0;34m,\u001b[0m \u001b[0mreason\u001b[0m \u001b[0;34m=\u001b[0m \u001b[0mself\u001b[0m\u001b[0;34m.\u001b[0m\u001b[0m_read_status\u001b[0m\u001b[0;34m(\u001b[0m\u001b[0;34m)\u001b[0m\u001b[0;34m\u001b[0m\u001b[0;34m\u001b[0m\u001b[0m\n\u001b[0m\u001b[1;32m    308\u001b[0m             \u001b[0;32mif\u001b[0m \u001b[0mstatus\u001b[0m \u001b[0;34m!=\u001b[0m \u001b[0mCONTINUE\u001b[0m\u001b[0;34m:\u001b[0m\u001b[0;34m\u001b[0m\u001b[0;34m\u001b[0m\u001b[0m\n",
            "\u001b[0;32m/usr/lib/python3.6/http/client.py\u001b[0m in \u001b[0;36m_read_status\u001b[0;34m(self)\u001b[0m\n\u001b[1;32m    267\u001b[0m     \u001b[0;32mdef\u001b[0m \u001b[0m_read_status\u001b[0m\u001b[0;34m(\u001b[0m\u001b[0mself\u001b[0m\u001b[0;34m)\u001b[0m\u001b[0;34m:\u001b[0m\u001b[0;34m\u001b[0m\u001b[0;34m\u001b[0m\u001b[0m\n\u001b[0;32m--> 268\u001b[0;31m         \u001b[0mline\u001b[0m \u001b[0;34m=\u001b[0m \u001b[0mstr\u001b[0m\u001b[0;34m(\u001b[0m\u001b[0mself\u001b[0m\u001b[0;34m.\u001b[0m\u001b[0mfp\u001b[0m\u001b[0;34m.\u001b[0m\u001b[0mreadline\u001b[0m\u001b[0;34m(\u001b[0m\u001b[0m_MAXLINE\u001b[0m \u001b[0;34m+\u001b[0m \u001b[0;36m1\u001b[0m\u001b[0;34m)\u001b[0m\u001b[0;34m,\u001b[0m \u001b[0;34m\"iso-8859-1\"\u001b[0m\u001b[0;34m)\u001b[0m\u001b[0;34m\u001b[0m\u001b[0;34m\u001b[0m\u001b[0m\n\u001b[0m\u001b[1;32m    269\u001b[0m         \u001b[0;32mif\u001b[0m \u001b[0mlen\u001b[0m\u001b[0;34m(\u001b[0m\u001b[0mline\u001b[0m\u001b[0;34m)\u001b[0m \u001b[0;34m>\u001b[0m \u001b[0m_MAXLINE\u001b[0m\u001b[0;34m:\u001b[0m\u001b[0;34m\u001b[0m\u001b[0;34m\u001b[0m\u001b[0m\n",
            "\u001b[0;32m/usr/lib/python3.6/socket.py\u001b[0m in \u001b[0;36mreadinto\u001b[0;34m(self, b)\u001b[0m\n\u001b[1;32m    585\u001b[0m             \u001b[0;32mtry\u001b[0m\u001b[0;34m:\u001b[0m\u001b[0;34m\u001b[0m\u001b[0;34m\u001b[0m\u001b[0m\n\u001b[0;32m--> 586\u001b[0;31m                 \u001b[0;32mreturn\u001b[0m \u001b[0mself\u001b[0m\u001b[0;34m.\u001b[0m\u001b[0m_sock\u001b[0m\u001b[0;34m.\u001b[0m\u001b[0mrecv_into\u001b[0m\u001b[0;34m(\u001b[0m\u001b[0mb\u001b[0m\u001b[0;34m)\u001b[0m\u001b[0;34m\u001b[0m\u001b[0;34m\u001b[0m\u001b[0m\n\u001b[0m\u001b[1;32m    587\u001b[0m             \u001b[0;32mexcept\u001b[0m \u001b[0mtimeout\u001b[0m\u001b[0;34m:\u001b[0m\u001b[0;34m\u001b[0m\u001b[0;34m\u001b[0m\u001b[0m\n",
            "\u001b[0;32m/usr/lib/python3.6/ssl.py\u001b[0m in \u001b[0;36mrecv_into\u001b[0;34m(self, buffer, nbytes, flags)\u001b[0m\n\u001b[1;32m   1011\u001b[0m                   self.__class__)\n\u001b[0;32m-> 1012\u001b[0;31m             \u001b[0;32mreturn\u001b[0m \u001b[0mself\u001b[0m\u001b[0;34m.\u001b[0m\u001b[0mread\u001b[0m\u001b[0;34m(\u001b[0m\u001b[0mnbytes\u001b[0m\u001b[0;34m,\u001b[0m \u001b[0mbuffer\u001b[0m\u001b[0;34m)\u001b[0m\u001b[0;34m\u001b[0m\u001b[0;34m\u001b[0m\u001b[0m\n\u001b[0m\u001b[1;32m   1013\u001b[0m         \u001b[0;32melse\u001b[0m\u001b[0;34m:\u001b[0m\u001b[0;34m\u001b[0m\u001b[0;34m\u001b[0m\u001b[0m\n",
            "\u001b[0;32m/usr/lib/python3.6/ssl.py\u001b[0m in \u001b[0;36mread\u001b[0;34m(self, len, buffer)\u001b[0m\n\u001b[1;32m    873\u001b[0m         \u001b[0;32mtry\u001b[0m\u001b[0;34m:\u001b[0m\u001b[0;34m\u001b[0m\u001b[0;34m\u001b[0m\u001b[0m\n\u001b[0;32m--> 874\u001b[0;31m             \u001b[0;32mreturn\u001b[0m \u001b[0mself\u001b[0m\u001b[0;34m.\u001b[0m\u001b[0m_sslobj\u001b[0m\u001b[0;34m.\u001b[0m\u001b[0mread\u001b[0m\u001b[0;34m(\u001b[0m\u001b[0mlen\u001b[0m\u001b[0;34m,\u001b[0m \u001b[0mbuffer\u001b[0m\u001b[0;34m)\u001b[0m\u001b[0;34m\u001b[0m\u001b[0;34m\u001b[0m\u001b[0m\n\u001b[0m\u001b[1;32m    875\u001b[0m         \u001b[0;32mexcept\u001b[0m \u001b[0mSSLError\u001b[0m \u001b[0;32mas\u001b[0m \u001b[0mx\u001b[0m\u001b[0;34m:\u001b[0m\u001b[0;34m\u001b[0m\u001b[0;34m\u001b[0m\u001b[0m\n",
            "\u001b[0;32m/usr/lib/python3.6/ssl.py\u001b[0m in \u001b[0;36mread\u001b[0;34m(self, len, buffer)\u001b[0m\n\u001b[1;32m    630\u001b[0m         \u001b[0;32mif\u001b[0m \u001b[0mbuffer\u001b[0m \u001b[0;32mis\u001b[0m \u001b[0;32mnot\u001b[0m \u001b[0;32mNone\u001b[0m\u001b[0;34m:\u001b[0m\u001b[0;34m\u001b[0m\u001b[0;34m\u001b[0m\u001b[0m\n\u001b[0;32m--> 631\u001b[0;31m             \u001b[0mv\u001b[0m \u001b[0;34m=\u001b[0m \u001b[0mself\u001b[0m\u001b[0;34m.\u001b[0m\u001b[0m_sslobj\u001b[0m\u001b[0;34m.\u001b[0m\u001b[0mread\u001b[0m\u001b[0;34m(\u001b[0m\u001b[0mlen\u001b[0m\u001b[0;34m,\u001b[0m \u001b[0mbuffer\u001b[0m\u001b[0;34m)\u001b[0m\u001b[0;34m\u001b[0m\u001b[0;34m\u001b[0m\u001b[0m\n\u001b[0m\u001b[1;32m    632\u001b[0m         \u001b[0;32melse\u001b[0m\u001b[0;34m:\u001b[0m\u001b[0;34m\u001b[0m\u001b[0;34m\u001b[0m\u001b[0m\n",
            "\u001b[0;31mtimeout\u001b[0m: The read operation timed out",
            "\nDuring handling of the above exception, another exception occurred:\n",
            "\u001b[0;31mGeocoderTimedOut\u001b[0m                          Traceback (most recent call last)",
            "\u001b[0;32m<ipython-input-63-9c4452894757>\u001b[0m in \u001b[0;36m<module>\u001b[0;34m()\u001b[0m\n\u001b[1;32m      2\u001b[0m \u001b[0;34m\u001b[0m\u001b[0m\n\u001b[1;32m      3\u001b[0m \u001b[0;32mfor\u001b[0m \u001b[0mindex\u001b[0m\u001b[0;34m,\u001b[0m \u001b[0mrow\u001b[0m \u001b[0;32min\u001b[0m \u001b[0mplaces\u001b[0m\u001b[0;34m.\u001b[0m\u001b[0miterrows\u001b[0m\u001b[0;34m(\u001b[0m\u001b[0;34m)\u001b[0m\u001b[0;34m:\u001b[0m\u001b[0;34m\u001b[0m\u001b[0;34m\u001b[0m\u001b[0m\n\u001b[0;32m----> 4\u001b[0;31m   \u001b[0mrow\u001b[0m\u001b[0;34m[\u001b[0m\u001b[0;34m'loc_json'\u001b[0m\u001b[0;34m]\u001b[0m \u001b[0;34m=\u001b[0m \u001b[0mgeolocator\u001b[0m\u001b[0;34m.\u001b[0m\u001b[0mreverse\u001b[0m\u001b[0;34m(\u001b[0m\u001b[0mstr\u001b[0m\u001b[0;34m(\u001b[0m\u001b[0mrow\u001b[0m\u001b[0;34m[\u001b[0m\u001b[0;34m\"lat\"\u001b[0m\u001b[0;34m]\u001b[0m\u001b[0;34m)\u001b[0m \u001b[0;34m+\u001b[0m \u001b[0;34m\", \"\u001b[0m \u001b[0;34m+\u001b[0m \u001b[0mstr\u001b[0m\u001b[0;34m(\u001b[0m\u001b[0mrow\u001b[0m\u001b[0;34m[\u001b[0m\u001b[0;34m\"long\"\u001b[0m\u001b[0;34m]\u001b[0m\u001b[0;34m)\u001b[0m\u001b[0;34m)\u001b[0m\u001b[0;34m.\u001b[0m\u001b[0mraw\u001b[0m\u001b[0;34m\u001b[0m\u001b[0;34m\u001b[0m\u001b[0m\n\u001b[0m",
            "\u001b[0;32m/usr/local/lib/python3.6/dist-packages/geopy/geocoders/osm.py\u001b[0m in \u001b[0;36mreverse\u001b[0;34m(self, query, exactly_one, timeout, language, addressdetails)\u001b[0m\n\u001b[1;32m    367\u001b[0m \u001b[0;34m\u001b[0m\u001b[0m\n\u001b[1;32m    368\u001b[0m         return self._parse_json(\n\u001b[0;32m--> 369\u001b[0;31m             \u001b[0mself\u001b[0m\u001b[0;34m.\u001b[0m\u001b[0m_call_geocoder\u001b[0m\u001b[0;34m(\u001b[0m\u001b[0murl\u001b[0m\u001b[0;34m,\u001b[0m \u001b[0mtimeout\u001b[0m\u001b[0;34m=\u001b[0m\u001b[0mtimeout\u001b[0m\u001b[0;34m)\u001b[0m\u001b[0;34m,\u001b[0m \u001b[0mexactly_one\u001b[0m\u001b[0;34m\u001b[0m\u001b[0;34m\u001b[0m\u001b[0m\n\u001b[0m\u001b[1;32m    370\u001b[0m         )\n\u001b[1;32m    371\u001b[0m \u001b[0;34m\u001b[0m\u001b[0m\n",
            "\u001b[0;32m/usr/local/lib/python3.6/dist-packages/geopy/geocoders/base.py\u001b[0m in \u001b[0;36m_call_geocoder\u001b[0;34m(self, url, timeout, raw, requester, deserializer, **kwargs)\u001b[0m\n\u001b[1;32m    369\u001b[0m                     \u001b[0;32mraise\u001b[0m \u001b[0mGeocoderUnavailable\u001b[0m\u001b[0;34m(\u001b[0m\u001b[0;34m'Service not available'\u001b[0m\u001b[0;34m)\u001b[0m\u001b[0;34m\u001b[0m\u001b[0;34m\u001b[0m\u001b[0m\n\u001b[1;32m    370\u001b[0m             \u001b[0;32melif\u001b[0m \u001b[0misinstance\u001b[0m\u001b[0;34m(\u001b[0m\u001b[0merror\u001b[0m\u001b[0;34m,\u001b[0m \u001b[0mSocketTimeout\u001b[0m\u001b[0;34m)\u001b[0m\u001b[0;34m:\u001b[0m\u001b[0;34m\u001b[0m\u001b[0;34m\u001b[0m\u001b[0m\n\u001b[0;32m--> 371\u001b[0;31m                 \u001b[0;32mraise\u001b[0m \u001b[0mGeocoderTimedOut\u001b[0m\u001b[0;34m(\u001b[0m\u001b[0;34m'Service timed out'\u001b[0m\u001b[0;34m)\u001b[0m\u001b[0;34m\u001b[0m\u001b[0;34m\u001b[0m\u001b[0m\n\u001b[0m\u001b[1;32m    372\u001b[0m             \u001b[0;32melif\u001b[0m \u001b[0misinstance\u001b[0m\u001b[0;34m(\u001b[0m\u001b[0merror\u001b[0m\u001b[0;34m,\u001b[0m \u001b[0mSSLError\u001b[0m\u001b[0;34m)\u001b[0m\u001b[0;34m:\u001b[0m\u001b[0;34m\u001b[0m\u001b[0;34m\u001b[0m\u001b[0m\n\u001b[1;32m    373\u001b[0m                 \u001b[0;32mif\u001b[0m \u001b[0;34m\"timed out\"\u001b[0m \u001b[0;32min\u001b[0m \u001b[0mmessage\u001b[0m\u001b[0;34m:\u001b[0m\u001b[0;34m\u001b[0m\u001b[0;34m\u001b[0m\u001b[0m\n",
            "\u001b[0;31mGeocoderTimedOut\u001b[0m: Service timed out"
          ]
        }
      ]
    },
    {
      "cell_type": "markdown",
      "metadata": {
        "id": "Vc34EgY2sP_R",
        "colab_type": "text"
      },
      "source": [
        "## Graph Representations\n",
        "\n",
        "* having some issues importing Stanford Snap (conflicts with another library called snap)\n",
        "* I'm going to try iGraph in the meantime\n",
        "\n",
        "### Limitations\n",
        "\n",
        "* the max userID will be the number of edges required in the graph (assumption)\n",
        "* using the maximum number of nodes in the graph (196591) takes a long time to generate the graph\n",
        "  * this I would assume makes the algorithms for these graphs tricky to run\n",
        "  * I could also be adding the edges in an unefficient way (explore ways of generating graphs)\n",
        "    * might be better to add edges in batches instead of one edge at a time (explore this)\n",
        "\n",
        "#### Ways to set limits\n",
        "* we can limit the groups to the first n number of users (example only nodes 0 - 1000)\n",
        "  * however under the assumption that userIDs are added based on the time the user adds themselves to the network, then there will be a lot of graphs that aren't connected because they are in geographically seperate locations\n",
        "* a better soltuion would be to take a group of n people in close proximety of one another\n",
        "  * we could find the average latitude and longitude of a users and record this as the area they are generally in\n",
        "  * we'll then randomly select a user and select the n amount of people closest to this user (ranking by the distance between their average locations)\n"
      ]
    },
    {
      "cell_type": "code",
      "metadata": {
        "id": "u4o3JaqkspRc",
        "colab_type": "code",
        "outputId": "b4049289-ad49-4073-bc22-4bdd626af1ab",
        "colab": {
          "base_uri": "https://localhost:8080/",
          "height": 35
        }
      },
      "source": [
        "edgesG = Graph()\n",
        "total_edges = max(edges['u1'].max(), edges['u2'].max())\n",
        "total_edges"
      ],
      "execution_count": 0,
      "outputs": [
        {
          "output_type": "execute_result",
          "data": {
            "text/plain": [
              "196590"
            ]
          },
          "metadata": {
            "tags": []
          },
          "execution_count": 68
        }
      ]
    },
    {
      "cell_type": "code",
      "metadata": {
        "id": "B9QhZryu1hTX",
        "colab_type": "code",
        "colab": {}
      },
      "source": [
        "edgesG.add_vertices(total_edges)"
      ],
      "execution_count": 0,
      "outputs": []
    },
    {
      "cell_type": "code",
      "metadata": {
        "id": "eW-zer7Uz6g6",
        "colab_type": "code",
        "colab": {}
      },
      "source": [
        "# this takes too long; there's got to be a better way!\n",
        "\n",
        "for i in range(len(edges)):\n",
        "  edgesG.add_edge(edges.loc[i, \"u1\"], edges.loc[i, \"u2\"])"
      ],
      "execution_count": 0,
      "outputs": []
    },
    {
      "cell_type": "markdown",
      "metadata": {
        "id": "QHJo-Twy69xq",
        "colab_type": "text"
      },
      "source": [
        "## Map APIs\n",
        "\n",
        "* important for querying specific information about locations people visit\n",
        "* data visualization is not an essential part of the project, but is worth exploring if data visualization is easy"
      ]
    },
    {
      "cell_type": "markdown",
      "metadata": {
        "id": "4VuliqhVBA4_",
        "colab_type": "text"
      },
      "source": [
        "### Notes About OSM\n",
        "* [OpenStreetMap Article](https://towardsdatascience.com/loading-data-from-openstreetmap-with-python-and-the-overpass-api-513882a27fd0)\n",
        "\n",
        "* We will be using the Overpass API to get information about our locations\n",
        "  * [Overpass Querying Language](https://wiki.openstreetmap.org/wiki/Overpass_API/Overpass_QL)\n",
        "  * [Site for Testing Overpass Queries](http://overpass-turbo.eu/)\n",
        "\n",
        "\n",
        "* **node**: a specific lat, long point\n",
        "* **relation**: a region (typically for buildings that require multiple polygons\n",
        "  * probably will be using this for our project (need a way to query if a user's location is in a certain relation)\n",
        "  * includes tags which can helps us "
      ]
    },
    {
      "cell_type": "code",
      "metadata": {
        "id": "-GvF3_Rz7FoG",
        "colab_type": "code",
        "colab": {}
      },
      "source": [
        "# example of an overpass query that collects all the biergartens in germany\n",
        "# there are a lot of biergartens in Germany lol; so the query will take long to run \n",
        "# notice that it includes every OpenStreetMap datatype (node, way, rel); maybe there are biergarten streets? (way)\n",
        "\n",
        "import requests\n",
        "import json\n",
        "\n",
        "overpass_url = \"http://overpass-api.de/api/interpreter\"\n",
        "overpass_query = \"\"\"\n",
        "[out:json];\n",
        "area[\"ISO3166-1\"=\"DE\"][admin_level=2];\n",
        "(node[\"amenity\"=\"biergarten\"](area);\n",
        " way[\"amenity\"=\"biergarten\"](area);\n",
        " rel[\"amenity\"=\"biergarten\"](area);\n",
        ");\n",
        "out center;\n",
        "\"\"\"\n",
        "response = requests.get(overpass_url, \n",
        "                        params={'data': overpass_query})\n",
        "data = response.json()"
      ],
      "execution_count": 0,
      "outputs": []
    },
    {
      "cell_type": "code",
      "metadata": {
        "id": "2yXJ3Ait83sN",
        "colab_type": "code",
        "outputId": "0a914508-ca5a-4de7-ab38-8efc2286231f",
        "colab": {
          "base_uri": "https://localhost:8080/",
          "height": 1000
        }
      },
      "source": [
        "# notice how descriptive the API is for relations\n",
        "\n",
        "data['elements'][5:10]"
      ],
      "execution_count": 0,
      "outputs": [
        {
          "output_type": "execute_result",
          "data": {
            "text/plain": [
              "[{'id': 27318009,\n",
              "  'lat': 52.4200885,\n",
              "  'lon': 13.1763456,\n",
              "  'tags': {'addr:city': 'Berlin',\n",
              "   'addr:housenumber': '260',\n",
              "   'addr:postcode': '14109',\n",
              "   'addr:street': 'Kronprinzessinnenweg',\n",
              "   'amenity': 'biergarten',\n",
              "   'contact:email': 'info@loretta-berlin.de',\n",
              "   'contact:fax': '+49 30 80105334',\n",
              "   'contact:phone': '+49 30 80105333',\n",
              "   'contact:website': 'https://www.loretta-wannsee.de/biergarten/',\n",
              "   'name': 'Loretta',\n",
              "   'opening_hours': '12:00+',\n",
              "   'wheelchair': 'limited'},\n",
              "  'type': 'node'},\n",
              " {'id': 27352197,\n",
              "  'lat': 50.3638373,\n",
              "  'lon': 7.5769021,\n",
              "  'tags': {'amenity': 'biergarten', 'wheelchair': 'limited'},\n",
              "  'type': 'node'},\n",
              " {'id': 27787909,\n",
              "  'lat': 52.9822191,\n",
              "  'lon': 8.845254,\n",
              "  'tags': {'amenity': 'biergarten',\n",
              "   'name': 'Schwarzbiergarten',\n",
              "   'wheelchair': 'limited'},\n",
              "  'type': 'node'},\n",
              " {'id': 29812167,\n",
              "  'lat': 49.4814353,\n",
              "  'lon': 10.993033,\n",
              "  'tags': {'amenity': 'biergarten',\n",
              "   'toilets:wheelchair': 'no',\n",
              "   'wheelchair': 'limited'},\n",
              "  'type': 'node'},\n",
              " {'id': 32628620,\n",
              "  'lat': 47.9927509,\n",
              "  'lon': 7.8558873,\n",
              "  'tags': {'addr:city': 'Freiburg im Breisgau',\n",
              "   'addr:housenumber': '3',\n",
              "   'addr:postcode': '79098',\n",
              "   'addr:street': 'Schlossbergring',\n",
              "   'amenity': 'biergarten',\n",
              "   'contact:email': 'info@kastaniengarten-freiburg.de',\n",
              "   'contact:fax': '+49 761 289602',\n",
              "   'contact:phone': '+49 761 32728',\n",
              "   'contact:website': 'http://www.kastaniengarten-freiburg.de/',\n",
              "   'name': 'Kastaniengarten',\n",
              "   'opening_hours': 'Mo-Su 11:00-24:00',\n",
              "   'phone': '+49 761 32728',\n",
              "   'toilets:wheelchair': 'no',\n",
              "   'website': 'http://www.greiffenegg.de/kastaniengarten.html',\n",
              "   'wheelchair': 'limited'},\n",
              "  'type': 'node'}]"
            ]
          },
          "metadata": {
            "tags": []
          },
          "execution_count": 90
        }
      ]
    },
    {
      "cell_type": "markdown",
      "metadata": {
        "id": "xLmuNT6hLjZl",
        "colab_type": "text"
      },
      "source": [
        "# Sources\n",
        "\n",
        "A collection of sources to include in the final paper:\n",
        "\n",
        "* [OpenStreetMap Article](https://towardsdatascience.com/loading-data-from-openstreetmap-with-python-and-the-overpass-api-513882a27fd0)"
      ]
    },
    {
      "cell_type": "code",
      "metadata": {
        "id": "Bmd_-LgAIMs8",
        "colab_type": "code",
        "colab": {}
      },
      "source": [
        ""
      ],
      "execution_count": 0,
      "outputs": []
    }
  ]
}
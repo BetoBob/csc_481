{
 "cells": [
  {
   "cell_type": "markdown",
   "metadata": {
    "colab_type": "text",
    "id": "oTroG4NJ3hRb"
   },
   "source": [
    "# CSC 481 Project \n",
    "\n",
    "Ayan Patel, Robert Hensley\n",
    "\n",
    "* [Gowalla Dataset](https://snap.stanford.edu/data/loc-gowalla.html)"
   ]
  },
  {
   "cell_type": "markdown",
   "metadata": {
    "colab_type": "text",
    "id": "awcG8UUHvMkE"
   },
   "source": [
    "\n",
    "\n",
    "---\n",
    "\n"
   ]
  },
  {
   "cell_type": "code",
   "execution_count": 2,
   "metadata": {
    "colab": {
     "base_uri": "https://localhost:8080/",
     "height": 168
    },
    "colab_type": "code",
    "id": "o97-EZtj3FOg",
    "outputId": "40794ba2-5734-4921-d420-7f58a0ebee75"
   },
   "outputs": [
    {
     "name": "stdout",
     "output_type": "stream",
     "text": [
      "Collecting python-igraph\n",
      "  Downloading python_igraph-0.8.2-cp37-cp37m-win_amd64.whl (1.3 MB)\n",
      "Collecting texttable>=1.6.2\n",
      "  Downloading texttable-1.6.2-py2.py3-none-any.whl (10 kB)\n",
      "Installing collected packages: texttable, python-igraph\n",
      "Successfully installed python-igraph-0.8.2 texttable-1.6.2\n"
     ]
    }
   ],
   "source": [
    "# !pip install snap-stanford\n",
    "!pip install python-igraph"
   ]
  },
  {
   "cell_type": "code",
   "execution_count": 1,
   "metadata": {
    "colab": {},
    "colab_type": "code",
    "id": "VwrNPT2ww5Pn"
   },
   "outputs": [],
   "source": [
    "# import snap ???\n",
    "import igraph\n",
    "from igraph import *\n",
    "\n",
    "import pandas as pd\n",
    "\n",
    "import time\n",
    "from datetime import datetime\n",
    "\n",
    "import geopy\n",
    "from geopy.geocoders import Nominatim"
   ]
  },
  {
   "cell_type": "markdown",
   "metadata": {
    "colab_type": "text",
    "id": "NpqW2Upl4fm5"
   },
   "source": [
    "## Loading Data\n",
    "\n",
    "* this can takes 3 - 5 minutes to fully load all dataframes"
   ]
  },
  {
   "cell_type": "code",
   "execution_count": 2,
   "metadata": {
    "colab": {
     "base_uri": "https://localhost:8080/",
     "height": 131
    },
    "colab_type": "code",
    "id": "I1EbbKnAy9vJ",
    "outputId": "b1405774-16bb-4992-8be5-34438702a121"
   },
   "outputs": [],
   "source": [
    "data_path = 'data/'\n",
    "\n",
    "# creating dataframes\n",
    "edges = pd.read_csv(data_path + 'Gowalla_edges.txt', sep='\\t', names=['u1', 'u2'])\n",
    "totalCheckins = pd.read_csv(data_path + 'Gowalla_totalCheckins.txt', sep='\\t',\n",
    "                            names=['user', 'time', 'lat', 'long', 'locid'])\n",
    "\n",
    "totalCheckins['time'] = totalCheckins['time'].map(lambda x: datetime.strptime(x, \"%Y-%m-%dT%H:%M:%SZ\"))"
   ]
  },
  {
   "cell_type": "code",
   "execution_count": 3,
   "metadata": {
    "colab": {
     "base_uri": "https://localhost:8080/",
     "height": 424
    },
    "colab_type": "code",
    "id": "UoqfogdT0uoM",
    "outputId": "c6156307-d8c6-442b-8b8e-bb9b844b0395"
   },
   "outputs": [
    {
     "data": {
      "text/html": [
       "<div>\n",
       "<style scoped>\n",
       "    .dataframe tbody tr th:only-of-type {\n",
       "        vertical-align: middle;\n",
       "    }\n",
       "\n",
       "    .dataframe tbody tr th {\n",
       "        vertical-align: top;\n",
       "    }\n",
       "\n",
       "    .dataframe thead th {\n",
       "        text-align: right;\n",
       "    }\n",
       "</style>\n",
       "<table border=\"1\" class=\"dataframe\">\n",
       "  <thead>\n",
       "    <tr style=\"text-align: right;\">\n",
       "      <th></th>\n",
       "      <th>user</th>\n",
       "      <th>time</th>\n",
       "      <th>lat</th>\n",
       "      <th>long</th>\n",
       "      <th>locid</th>\n",
       "    </tr>\n",
       "  </thead>\n",
       "  <tbody>\n",
       "    <tr>\n",
       "      <th>0</th>\n",
       "      <td>0</td>\n",
       "      <td>2010-10-19 23:55:27</td>\n",
       "      <td>30.235909</td>\n",
       "      <td>-97.795140</td>\n",
       "      <td>22847</td>\n",
       "    </tr>\n",
       "    <tr>\n",
       "      <th>1</th>\n",
       "      <td>0</td>\n",
       "      <td>2010-10-18 22:17:43</td>\n",
       "      <td>30.269103</td>\n",
       "      <td>-97.749395</td>\n",
       "      <td>420315</td>\n",
       "    </tr>\n",
       "    <tr>\n",
       "      <th>2</th>\n",
       "      <td>0</td>\n",
       "      <td>2010-10-17 23:42:03</td>\n",
       "      <td>30.255731</td>\n",
       "      <td>-97.763386</td>\n",
       "      <td>316637</td>\n",
       "    </tr>\n",
       "    <tr>\n",
       "      <th>3</th>\n",
       "      <td>0</td>\n",
       "      <td>2010-10-17 19:26:05</td>\n",
       "      <td>30.263418</td>\n",
       "      <td>-97.757597</td>\n",
       "      <td>16516</td>\n",
       "    </tr>\n",
       "    <tr>\n",
       "      <th>4</th>\n",
       "      <td>0</td>\n",
       "      <td>2010-10-16 18:50:42</td>\n",
       "      <td>30.274292</td>\n",
       "      <td>-97.740523</td>\n",
       "      <td>5535878</td>\n",
       "    </tr>\n",
       "    <tr>\n",
       "      <th>...</th>\n",
       "      <td>...</td>\n",
       "      <td>...</td>\n",
       "      <td>...</td>\n",
       "      <td>...</td>\n",
       "      <td>...</td>\n",
       "    </tr>\n",
       "    <tr>\n",
       "      <th>6442887</th>\n",
       "      <td>196578</td>\n",
       "      <td>2010-06-11 13:32:26</td>\n",
       "      <td>51.742988</td>\n",
       "      <td>-0.488065</td>\n",
       "      <td>906885</td>\n",
       "    </tr>\n",
       "    <tr>\n",
       "      <th>6442888</th>\n",
       "      <td>196578</td>\n",
       "      <td>2010-06-11 13:26:45</td>\n",
       "      <td>51.746492</td>\n",
       "      <td>-0.490780</td>\n",
       "      <td>965121</td>\n",
       "    </tr>\n",
       "    <tr>\n",
       "      <th>6442889</th>\n",
       "      <td>196578</td>\n",
       "      <td>2010-06-11 13:26:34</td>\n",
       "      <td>51.741916</td>\n",
       "      <td>-0.496729</td>\n",
       "      <td>1174322</td>\n",
       "    </tr>\n",
       "    <tr>\n",
       "      <th>6442890</th>\n",
       "      <td>196585</td>\n",
       "      <td>2010-10-08 21:01:49</td>\n",
       "      <td>50.105516</td>\n",
       "      <td>8.571525</td>\n",
       "      <td>471724</td>\n",
       "    </tr>\n",
       "    <tr>\n",
       "      <th>6442891</th>\n",
       "      <td>196585</td>\n",
       "      <td>2010-10-07 17:39:18</td>\n",
       "      <td>50.027812</td>\n",
       "      <td>8.785098</td>\n",
       "      <td>4555073</td>\n",
       "    </tr>\n",
       "  </tbody>\n",
       "</table>\n",
       "<p>6442892 rows × 5 columns</p>\n",
       "</div>"
      ],
      "text/plain": [
       "           user                time        lat       long    locid\n",
       "0             0 2010-10-19 23:55:27  30.235909 -97.795140    22847\n",
       "1             0 2010-10-18 22:17:43  30.269103 -97.749395   420315\n",
       "2             0 2010-10-17 23:42:03  30.255731 -97.763386   316637\n",
       "3             0 2010-10-17 19:26:05  30.263418 -97.757597    16516\n",
       "4             0 2010-10-16 18:50:42  30.274292 -97.740523  5535878\n",
       "...         ...                 ...        ...        ...      ...\n",
       "6442887  196578 2010-06-11 13:32:26  51.742988  -0.488065   906885\n",
       "6442888  196578 2010-06-11 13:26:45  51.746492  -0.490780   965121\n",
       "6442889  196578 2010-06-11 13:26:34  51.741916  -0.496729  1174322\n",
       "6442890  196585 2010-10-08 21:01:49  50.105516   8.571525   471724\n",
       "6442891  196585 2010-10-07 17:39:18  50.027812   8.785098  4555073\n",
       "\n",
       "[6442892 rows x 5 columns]"
      ]
     },
     "execution_count": 3,
     "metadata": {},
     "output_type": "execute_result"
    }
   ],
   "source": [
    "totalCheckins"
   ]
  },
  {
   "cell_type": "code",
   "execution_count": 0,
   "metadata": {
    "colab": {
     "base_uri": "https://localhost:8080/",
     "height": 424
    },
    "colab_type": "code",
    "id": "C20BDFlN0nd6",
    "outputId": "368a445a-630c-426a-eb15-f0384fd28754"
   },
   "outputs": [
    {
     "data": {
      "text/html": [
       "<div>\n",
       "<style scoped>\n",
       "    .dataframe tbody tr th:only-of-type {\n",
       "        vertical-align: middle;\n",
       "    }\n",
       "\n",
       "    .dataframe tbody tr th {\n",
       "        vertical-align: top;\n",
       "    }\n",
       "\n",
       "    .dataframe thead th {\n",
       "        text-align: right;\n",
       "    }\n",
       "</style>\n",
       "<table border=\"1\" class=\"dataframe\">\n",
       "  <thead>\n",
       "    <tr style=\"text-align: right;\">\n",
       "      <th></th>\n",
       "      <th>u1</th>\n",
       "      <th>u2</th>\n",
       "    </tr>\n",
       "  </thead>\n",
       "  <tbody>\n",
       "    <tr>\n",
       "      <th>0</th>\n",
       "      <td>0</td>\n",
       "      <td>1</td>\n",
       "    </tr>\n",
       "    <tr>\n",
       "      <th>1</th>\n",
       "      <td>0</td>\n",
       "      <td>2</td>\n",
       "    </tr>\n",
       "    <tr>\n",
       "      <th>2</th>\n",
       "      <td>0</td>\n",
       "      <td>3</td>\n",
       "    </tr>\n",
       "    <tr>\n",
       "      <th>3</th>\n",
       "      <td>0</td>\n",
       "      <td>4</td>\n",
       "    </tr>\n",
       "    <tr>\n",
       "      <th>4</th>\n",
       "      <td>0</td>\n",
       "      <td>5</td>\n",
       "    </tr>\n",
       "    <tr>\n",
       "      <th>...</th>\n",
       "      <td>...</td>\n",
       "      <td>...</td>\n",
       "    </tr>\n",
       "    <tr>\n",
       "      <th>1900649</th>\n",
       "      <td>196586</td>\n",
       "      <td>196539</td>\n",
       "    </tr>\n",
       "    <tr>\n",
       "      <th>1900650</th>\n",
       "      <td>196587</td>\n",
       "      <td>196540</td>\n",
       "    </tr>\n",
       "    <tr>\n",
       "      <th>1900651</th>\n",
       "      <td>196588</td>\n",
       "      <td>196540</td>\n",
       "    </tr>\n",
       "    <tr>\n",
       "      <th>1900652</th>\n",
       "      <td>196589</td>\n",
       "      <td>196547</td>\n",
       "    </tr>\n",
       "    <tr>\n",
       "      <th>1900653</th>\n",
       "      <td>196590</td>\n",
       "      <td>196561</td>\n",
       "    </tr>\n",
       "  </tbody>\n",
       "</table>\n",
       "<p>1900654 rows × 2 columns</p>\n",
       "</div>"
      ],
      "text/plain": [
       "             u1      u2\n",
       "0             0       1\n",
       "1             0       2\n",
       "2             0       3\n",
       "3             0       4\n",
       "4             0       5\n",
       "...         ...     ...\n",
       "1900649  196586  196539\n",
       "1900650  196587  196540\n",
       "1900651  196588  196540\n",
       "1900652  196589  196547\n",
       "1900653  196590  196561\n",
       "\n",
       "[1900654 rows x 2 columns]"
      ]
     },
     "execution_count": 44,
     "metadata": {
      "tags": []
     },
     "output_type": "execute_result"
    }
   ],
   "source": [
    "edges"
   ]
  },
  {
   "cell_type": "markdown",
   "metadata": {
    "colab_type": "text",
    "id": "QAXhhM5QCRL6"
   },
   "source": [
    "### User Notes\n",
    "\n",
    "* userCheckins appears to cover only 1245 users\n",
    "  * this makes me wonder if the userIDs match the edges userIDs (most likely not)\n",
    "  * therefore it might be better to create our own graphs based off the checkin data and ignore the edges data\n",
    "    * this means we cannot make the assumptions that two users are friends \n",
    "    * we should test to see if our predicted meetups (same location at around the same time) match the meetups in the edges file\n",
    "  * also notice that user ID's appear to range from 0 - 1440, but there are only 1245 rows, implying some missing users\n",
    "\n",
    "\n",
    "* we can get an idea of where the users are generally located by gather the mean of their latitude on longitudinal locations\n",
    "* other user attributes to collect:\n",
    "  * earliest time checked in\n",
    "  * latest time checked in \n",
    "    * this shows the general timespan the user has been on the app "
   ]
  },
  {
   "cell_type": "code",
   "execution_count": 0,
   "metadata": {
    "colab": {
     "base_uri": "https://localhost:8080/",
     "height": 36
    },
    "colab_type": "code",
    "id": "_0JlEiRAB_xQ",
    "outputId": "55c1e07b-6b34-49da-a6f5-c29b93884154"
   },
   "outputs": [
    {
     "data": {
      "text/plain": [
       "196585"
      ]
     },
     "execution_count": 46,
     "metadata": {
      "tags": []
     },
     "output_type": "execute_result"
    }
   ],
   "source": [
    "totalCheckins['user'].max()"
   ]
  },
  {
   "cell_type": "code",
   "execution_count": 4,
   "metadata": {
    "colab": {
     "base_uri": "https://localhost:8080/",
     "height": 455
    },
    "colab_type": "code",
    "id": "zxffVygg6FEX",
    "outputId": "ad78c9ea-df97-4519-ed4c-d45b09b46197"
   },
   "outputs": [
    {
     "data": {
      "text/html": [
       "<div>\n",
       "<style scoped>\n",
       "    .dataframe tbody tr th:only-of-type {\n",
       "        vertical-align: middle;\n",
       "    }\n",
       "\n",
       "    .dataframe tbody tr th {\n",
       "        vertical-align: top;\n",
       "    }\n",
       "\n",
       "    .dataframe thead th {\n",
       "        text-align: right;\n",
       "    }\n",
       "</style>\n",
       "<table border=\"1\" class=\"dataframe\">\n",
       "  <thead>\n",
       "    <tr style=\"text-align: right;\">\n",
       "      <th></th>\n",
       "      <th>lat</th>\n",
       "      <th>long</th>\n",
       "    </tr>\n",
       "    <tr>\n",
       "      <th>user</th>\n",
       "      <th></th>\n",
       "      <th></th>\n",
       "    </tr>\n",
       "  </thead>\n",
       "  <tbody>\n",
       "    <tr>\n",
       "      <th>0</th>\n",
       "      <td>33.558308</td>\n",
       "      <td>-97.894601</td>\n",
       "    </tr>\n",
       "    <tr>\n",
       "      <th>1</th>\n",
       "      <td>47.204338</td>\n",
       "      <td>4.499703</td>\n",
       "    </tr>\n",
       "    <tr>\n",
       "      <th>2</th>\n",
       "      <td>35.659617</td>\n",
       "      <td>-120.016716</td>\n",
       "    </tr>\n",
       "    <tr>\n",
       "      <th>4</th>\n",
       "      <td>36.800202</td>\n",
       "      <td>-124.714027</td>\n",
       "    </tr>\n",
       "    <tr>\n",
       "      <th>5</th>\n",
       "      <td>32.290069</td>\n",
       "      <td>-96.123008</td>\n",
       "    </tr>\n",
       "    <tr>\n",
       "      <th>...</th>\n",
       "      <td>...</td>\n",
       "      <td>...</td>\n",
       "    </tr>\n",
       "    <tr>\n",
       "      <th>196544</th>\n",
       "      <td>-25.433409</td>\n",
       "      <td>-49.281533</td>\n",
       "    </tr>\n",
       "    <tr>\n",
       "      <th>196561</th>\n",
       "      <td>37.528650</td>\n",
       "      <td>-122.004623</td>\n",
       "    </tr>\n",
       "    <tr>\n",
       "      <th>196577</th>\n",
       "      <td>51.514905</td>\n",
       "      <td>-0.081277</td>\n",
       "    </tr>\n",
       "    <tr>\n",
       "      <th>196578</th>\n",
       "      <td>51.744557</td>\n",
       "      <td>-0.478051</td>\n",
       "    </tr>\n",
       "    <tr>\n",
       "      <th>196585</th>\n",
       "      <td>50.066664</td>\n",
       "      <td>8.678312</td>\n",
       "    </tr>\n",
       "  </tbody>\n",
       "</table>\n",
       "<p>107092 rows × 2 columns</p>\n",
       "</div>"
      ],
      "text/plain": [
       "              lat        long\n",
       "user                         \n",
       "0       33.558308  -97.894601\n",
       "1       47.204338    4.499703\n",
       "2       35.659617 -120.016716\n",
       "4       36.800202 -124.714027\n",
       "5       32.290069  -96.123008\n",
       "...           ...         ...\n",
       "196544 -25.433409  -49.281533\n",
       "196561  37.528650 -122.004623\n",
       "196577  51.514905   -0.081277\n",
       "196578  51.744557   -0.478051\n",
       "196585  50.066664    8.678312\n",
       "\n",
       "[107092 rows x 2 columns]"
      ]
     },
     "execution_count": 4,
     "metadata": {},
     "output_type": "execute_result"
    }
   ],
   "source": [
    "users = totalCheckins.groupby('user').mean()[['lat', 'long']]\n",
    "users"
   ]
  },
  {
   "cell_type": "markdown",
   "metadata": {
    "colab_type": "text",
    "id": "1a_dGVQTK1gl"
   },
   "source": [
    "* look at how many checkins the average user makes\n",
    "  * this seems almost too big?\n",
    "  * I assume this is a collection of users classified as very active on Gowalla"
   ]
  },
  {
   "cell_type": "code",
   "execution_count": 0,
   "metadata": {
    "colab": {
     "base_uri": "https://localhost:8080/",
     "height": 35
    },
    "colab_type": "code",
    "id": "pSStIU_wKS0y",
    "outputId": "3316854e-9a4e-48b6-a09a-a8da920c2b83"
   },
   "outputs": [
    {
     "data": {
      "text/plain": [
       "338.13253012048193"
      ]
     },
     "execution_count": 108,
     "metadata": {
      "tags": []
     },
     "output_type": "execute_result"
    }
   ],
   "source": [
    "# average amounts of visits per user\n",
    "totalCheckins.shape[0] / users.shape[0]"
   ]
  },
  {
   "cell_type": "markdown",
   "metadata": {
    "colab_type": "text",
    "id": "NpsxtesdBGgZ"
   },
   "source": [
    "### Place Notes\n",
    "\n",
    "* same grouping process as users\n",
    "* for the scope of this project, we might want to only focus on places with like 5 or more visits"
   ]
  },
  {
   "cell_type": "code",
   "execution_count": 5,
   "metadata": {},
   "outputs": [],
   "source": [
    "places = totalCheckins.groupby('locid').agg(['mean', 'count'])[['lat', 'long']]\n",
    "\n",
    "places.columns = ['lat_mean', 'count_drop', 'long_mean', 'visits']\n",
    "places = places.drop(columns = ['count_drop'])"
   ]
  },
  {
   "cell_type": "code",
   "execution_count": 7,
   "metadata": {},
   "outputs": [
    {
     "data": {
      "text/html": [
       "<div>\n",
       "<style scoped>\n",
       "    .dataframe tbody tr th:only-of-type {\n",
       "        vertical-align: middle;\n",
       "    }\n",
       "\n",
       "    .dataframe tbody tr th {\n",
       "        vertical-align: top;\n",
       "    }\n",
       "\n",
       "    .dataframe thead th {\n",
       "        text-align: right;\n",
       "    }\n",
       "</style>\n",
       "<table border=\"1\" class=\"dataframe\">\n",
       "  <thead>\n",
       "    <tr style=\"text-align: right;\">\n",
       "      <th></th>\n",
       "      <th>lat_mean</th>\n",
       "      <th>long_mean</th>\n",
       "      <th>visits</th>\n",
       "    </tr>\n",
       "    <tr>\n",
       "      <th>locid</th>\n",
       "      <th></th>\n",
       "      <th></th>\n",
       "      <th></th>\n",
       "    </tr>\n",
       "  </thead>\n",
       "  <tbody>\n",
       "    <tr>\n",
       "      <th>5977757</th>\n",
       "      <td>13.447479</td>\n",
       "      <td>101.019928</td>\n",
       "      <td>1</td>\n",
       "    </tr>\n",
       "    <tr>\n",
       "      <th>951900</th>\n",
       "      <td>50.718459</td>\n",
       "      <td>-1.877455</td>\n",
       "      <td>1</td>\n",
       "    </tr>\n",
       "    <tr>\n",
       "      <th>951901</th>\n",
       "      <td>41.543670</td>\n",
       "      <td>-83.582070</td>\n",
       "      <td>1</td>\n",
       "    </tr>\n",
       "    <tr>\n",
       "      <th>3733285</th>\n",
       "      <td>50.084312</td>\n",
       "      <td>18.212821</td>\n",
       "      <td>1</td>\n",
       "    </tr>\n",
       "    <tr>\n",
       "      <th>3733273</th>\n",
       "      <td>33.621132</td>\n",
       "      <td>-112.185371</td>\n",
       "      <td>1</td>\n",
       "    </tr>\n",
       "    <tr>\n",
       "      <th>...</th>\n",
       "      <td>...</td>\n",
       "      <td>...</td>\n",
       "      <td>...</td>\n",
       "    </tr>\n",
       "    <tr>\n",
       "      <th>58725</th>\n",
       "      <td>59.650051</td>\n",
       "      <td>17.932262</td>\n",
       "      <td>3476</td>\n",
       "    </tr>\n",
       "    <tr>\n",
       "      <th>10259</th>\n",
       "      <td>32.897462</td>\n",
       "      <td>-97.040348</td>\n",
       "      <td>4083</td>\n",
       "    </tr>\n",
       "    <tr>\n",
       "      <th>9410</th>\n",
       "      <td>30.201557</td>\n",
       "      <td>-97.667127</td>\n",
       "      <td>4713</td>\n",
       "    </tr>\n",
       "    <tr>\n",
       "      <th>19542</th>\n",
       "      <td>37.616356</td>\n",
       "      <td>-122.386150</td>\n",
       "      <td>5662</td>\n",
       "    </tr>\n",
       "    <tr>\n",
       "      <th>55033</th>\n",
       "      <td>59.330158</td>\n",
       "      <td>18.058079</td>\n",
       "      <td>5811</td>\n",
       "    </tr>\n",
       "  </tbody>\n",
       "</table>\n",
       "<p>1280969 rows × 3 columns</p>\n",
       "</div>"
      ],
      "text/plain": [
       "          lat_mean   long_mean  visits\n",
       "locid                                 \n",
       "5977757  13.447479  101.019928       1\n",
       "951900   50.718459   -1.877455       1\n",
       "951901   41.543670  -83.582070       1\n",
       "3733285  50.084312   18.212821       1\n",
       "3733273  33.621132 -112.185371       1\n",
       "...            ...         ...     ...\n",
       "58725    59.650051   17.932262    3476\n",
       "10259    32.897462  -97.040348    4083\n",
       "9410     30.201557  -97.667127    4713\n",
       "19542    37.616356 -122.386150    5662\n",
       "55033    59.330158   18.058079    5811\n",
       "\n",
       "[1280969 rows x 3 columns]"
      ]
     },
     "execution_count": 7,
     "metadata": {},
     "output_type": "execute_result"
    }
   ],
   "source": [
    "places.sort_values('visits')"
   ]
  },
  {
   "cell_type": "code",
   "execution_count": 11,
   "metadata": {},
   "outputs": [
    {
     "data": {
      "text/html": [
       "<div>\n",
       "<style scoped>\n",
       "    .dataframe tbody tr th:only-of-type {\n",
       "        vertical-align: middle;\n",
       "    }\n",
       "\n",
       "    .dataframe tbody tr th {\n",
       "        vertical-align: top;\n",
       "    }\n",
       "\n",
       "    .dataframe thead th {\n",
       "        text-align: right;\n",
       "    }\n",
       "</style>\n",
       "<table border=\"1\" class=\"dataframe\">\n",
       "  <thead>\n",
       "    <tr style=\"text-align: right;\">\n",
       "      <th></th>\n",
       "      <th>lat_mean</th>\n",
       "      <th>long_mean</th>\n",
       "      <th>visits</th>\n",
       "    </tr>\n",
       "    <tr>\n",
       "      <th>locid</th>\n",
       "      <th></th>\n",
       "      <th></th>\n",
       "      <th></th>\n",
       "    </tr>\n",
       "  </thead>\n",
       "  <tbody>\n",
       "    <tr>\n",
       "      <th>8904</th>\n",
       "      <td>39.052318</td>\n",
       "      <td>-94.607499</td>\n",
       "      <td>12</td>\n",
       "    </tr>\n",
       "    <tr>\n",
       "      <th>8932</th>\n",
       "      <td>32.927662</td>\n",
       "      <td>-97.254356</td>\n",
       "      <td>16</td>\n",
       "    </tr>\n",
       "    <tr>\n",
       "      <th>8936</th>\n",
       "      <td>39.053318</td>\n",
       "      <td>-94.591995</td>\n",
       "      <td>12</td>\n",
       "    </tr>\n",
       "    <tr>\n",
       "      <th>8938</th>\n",
       "      <td>39.052824</td>\n",
       "      <td>-94.590311</td>\n",
       "      <td>130</td>\n",
       "    </tr>\n",
       "    <tr>\n",
       "      <th>8947</th>\n",
       "      <td>37.331880</td>\n",
       "      <td>-122.029631</td>\n",
       "      <td>570</td>\n",
       "    </tr>\n",
       "    <tr>\n",
       "      <th>...</th>\n",
       "      <td>...</td>\n",
       "      <td>...</td>\n",
       "      <td>...</td>\n",
       "    </tr>\n",
       "    <tr>\n",
       "      <th>5912882</th>\n",
       "      <td>30.269072</td>\n",
       "      <td>-97.749409</td>\n",
       "      <td>3</td>\n",
       "    </tr>\n",
       "    <tr>\n",
       "      <th>5914456</th>\n",
       "      <td>58.449462</td>\n",
       "      <td>14.893234</td>\n",
       "      <td>2</td>\n",
       "    </tr>\n",
       "    <tr>\n",
       "      <th>5927439</th>\n",
       "      <td>41.229163</td>\n",
       "      <td>1.773204</td>\n",
       "      <td>2</td>\n",
       "    </tr>\n",
       "    <tr>\n",
       "      <th>5928544</th>\n",
       "      <td>48.147636</td>\n",
       "      <td>11.552088</td>\n",
       "      <td>2</td>\n",
       "    </tr>\n",
       "    <tr>\n",
       "      <th>5930620</th>\n",
       "      <td>40.687050</td>\n",
       "      <td>-73.991299</td>\n",
       "      <td>2</td>\n",
       "    </tr>\n",
       "  </tbody>\n",
       "</table>\n",
       "<p>782917 rows × 3 columns</p>\n",
       "</div>"
      ],
      "text/plain": [
       "          lat_mean   long_mean  visits\n",
       "locid                                 \n",
       "8904     39.052318  -94.607499      12\n",
       "8932     32.927662  -97.254356      16\n",
       "8936     39.053318  -94.591995      12\n",
       "8938     39.052824  -94.590311     130\n",
       "8947     37.331880 -122.029631     570\n",
       "...            ...         ...     ...\n",
       "5912882  30.269072  -97.749409       3\n",
       "5914456  58.449462   14.893234       2\n",
       "5927439  41.229163    1.773204       2\n",
       "5928544  48.147636   11.552088       2\n",
       "5930620  40.687050  -73.991299       2\n",
       "\n",
       "[782917 rows x 3 columns]"
      ]
     },
     "execution_count": 11,
     "metadata": {},
     "output_type": "execute_result"
    }
   ],
   "source": []
  },
  {
   "cell_type": "markdown",
   "metadata": {
    "colab_type": "text",
    "id": "RKb_GW3NxVYV"
   },
   "source": [
    "#### Geolocation Data (geopy)\n",
    "\n",
    "* our queries use the [Nominatim API](https://nominatim.org/release-docs/develop/api/Overview/) by default\n",
    "\n",
    "Let's try to find the country all this data is from. We will query location information using [geopy](https://geopy.readthedocs.io/en/stable/). Below is a sample query."
   ]
  },
  {
   "cell_type": "code",
   "execution_count": 72,
   "metadata": {
    "colab": {
     "base_uri": "https://localhost:8080/",
     "height": 74
    },
    "colab_type": "code",
    "id": "GpzGKp7-wCah",
    "outputId": "b7faf624-e9ab-4c66-9de3-c4636fea28c8"
   },
   "outputs": [
    {
     "name": "stderr",
     "output_type": "stream",
     "text": [
      "C:\\ProgramData\\Anaconda3\\lib\\site-packages\\ipykernel_launcher.py:3: DeprecationWarning: Using Nominatim with the default \"geopy/1.22.0\" `user_agent` is strongly discouraged, as it violates Nominatim's ToS https://operations.osmfoundation.org/policies/nominatim/ and may possibly cause 403 and 429 HTTP errors. Please specify a custom `user_agent` with `Nominatim(user_agent=\"my-application\")` or by overriding the default `user_agent`: `geopy.geocoders.options.default_user_agent = \"my-application\"`. In geopy 2.0 this will become an exception.\n",
      "  This is separate from the ipykernel package so we can avoid doing imports until\n"
     ]
    }
   ],
   "source": [
    "from geopy.geocoders import Nominatim\n",
    "\n",
    "geolocator = Nominatim()\n",
    "\n",
    "location = geolocator.reverse(\"39.052318, -94.607499\")"
   ]
  },
  {
   "cell_type": "code",
   "execution_count": 15,
   "metadata": {
    "colab": {
     "base_uri": "https://localhost:8080/",
     "height": 355
    },
    "colab_type": "code",
    "id": "CbxNA2jIyO3e",
    "outputId": "e4a070ed-0f91-4da0-9086-b1315352e290"
   },
   "outputs": [
    {
     "data": {
      "text/plain": [
       "{'place_id': 251278814,\n",
       " 'licence': 'Data © OpenStreetMap contributors, ODbL 1.0. https://osm.org/copyright',\n",
       " 'osm_type': 'way',\n",
       " 'osm_id': 552493654,\n",
       " 'lat': '39.052405',\n",
       " 'lon': '-94.607436',\n",
       " 'display_name': '4154, State Line Road, Country Club Plaza, Kansas City, Wyandotte County, Missouri, 66103, United States of America',\n",
       " 'address': {'house_number': '4154',\n",
       "  'road': 'State Line Road',\n",
       "  'suburb': 'Country Club Plaza',\n",
       "  'city': 'Kansas City',\n",
       "  'county': 'Wyandotte County',\n",
       "  'state': 'Missouri',\n",
       "  'postcode': '66103',\n",
       "  'country': 'United States of America',\n",
       "  'country_code': 'us'},\n",
       " 'boundingbox': ['39.052355', '39.052455', '-94.607486', '-94.607386']}"
      ]
     },
     "execution_count": 15,
     "metadata": {},
     "output_type": "execute_result"
    }
   ],
   "source": [
    "location.raw"
   ]
  },
  {
   "cell_type": "code",
   "execution_count": 16,
   "metadata": {
    "colab": {
     "base_uri": "https://localhost:8080/",
     "height": 36
    },
    "colab_type": "code",
    "id": "A6TUCbFSyT28",
    "outputId": "d3723075-49eb-4f9c-a9d2-17d14857dddb"
   },
   "outputs": [
    {
     "data": {
      "text/plain": [
       "'United States of America'"
      ]
     },
     "execution_count": 16,
     "metadata": {},
     "output_type": "execute_result"
    }
   ],
   "source": [
    "location.raw['address']['country']"
   ]
  },
  {
   "cell_type": "markdown",
   "metadata": {},
   "source": [
    "This gives the following important data:\n",
    "* name 'address > tourism'\n",
    "* city 'address > city'\n",
    "* country 'address > country'\n",
    "\n",
    "However this data lacks:\n",
    "* context of the location (is it a pub, park, etc.)\n",
    "    * we can get this information by querying OpenStreetMap using it's place_id, \n",
    "\n",
    "Given the limited time for this project, I feel like city and country information should be informative enough.\n",
    "\n",
    "**Naming Conventions**\n",
    "\n",
    "* subregions vary between different countries \n",
    "    * i.e. states and counties are not found in Germany, boroughs are found in Germany but not the US\n",
    "    * this means the easiest thing to analyze right now are places < cities < countries\n",
    "    * this problem can be resolved by focusing on one Country at a time\n",
    "* the above problem unfortunately also occurs for city names\n",
    "    * citities can also be called \"towns, villages, municipalities, etc.)"
   ]
  },
  {
   "cell_type": "code",
   "execution_count": 20,
   "metadata": {},
   "outputs": [
    {
     "data": {
      "text/plain": [
       "{'place_id': 251278814,\n",
       " 'licence': 'Data © OpenStreetMap contributors, ODbL 1.0. https://osm.org/copyright',\n",
       " 'osm_type': 'way',\n",
       " 'osm_id': 552493654,\n",
       " 'lat': '39.052405',\n",
       " 'lon': '-94.607436',\n",
       " 'display_name': '4154, State Line Road, Country Club Plaza, Kansas City, Wyandotte County, Missouri, 66103, United States of America',\n",
       " 'address': {'house_number': '4154',\n",
       "  'road': 'State Line Road',\n",
       "  'suburb': 'Country Club Plaza',\n",
       "  'city': 'Kansas City',\n",
       "  'county': 'Wyandotte County',\n",
       "  'state': 'Missouri',\n",
       "  'postcode': '66103',\n",
       "  'country': 'United States of America',\n",
       "  'country_code': 'us'},\n",
       " 'boundingbox': ['39.052355', '39.052455', '-94.607486', '-94.607386']}"
      ]
     },
     "execution_count": 20,
     "metadata": {},
     "output_type": "execute_result"
    }
   ],
   "source": [
    "location.raw\n",
    "\n",
    "place = {\"osm_place_id\"}"
   ]
  },
  {
   "cell_type": "code",
   "execution_count": 88,
   "metadata": {},
   "outputs": [
    {
     "data": {
      "text/html": [
       "<div>\n",
       "<style scoped>\n",
       "    .dataframe tbody tr th:only-of-type {\n",
       "        vertical-align: middle;\n",
       "    }\n",
       "\n",
       "    .dataframe tbody tr th {\n",
       "        vertical-align: top;\n",
       "    }\n",
       "\n",
       "    .dataframe thead th {\n",
       "        text-align: right;\n",
       "    }\n",
       "</style>\n",
       "<table border=\"1\" class=\"dataframe\">\n",
       "  <thead>\n",
       "    <tr style=\"text-align: right;\">\n",
       "      <th></th>\n",
       "      <th>lat_mean</th>\n",
       "      <th>long_mean</th>\n",
       "      <th>visits</th>\n",
       "    </tr>\n",
       "    <tr>\n",
       "      <th>locid</th>\n",
       "      <th></th>\n",
       "      <th></th>\n",
       "      <th></th>\n",
       "    </tr>\n",
       "  </thead>\n",
       "  <tbody>\n",
       "    <tr>\n",
       "      <th>8904</th>\n",
       "      <td>39.052318</td>\n",
       "      <td>-94.607499</td>\n",
       "      <td>12</td>\n",
       "    </tr>\n",
       "    <tr>\n",
       "      <th>8932</th>\n",
       "      <td>32.927662</td>\n",
       "      <td>-97.254356</td>\n",
       "      <td>16</td>\n",
       "    </tr>\n",
       "    <tr>\n",
       "      <th>8936</th>\n",
       "      <td>39.053318</td>\n",
       "      <td>-94.591995</td>\n",
       "      <td>12</td>\n",
       "    </tr>\n",
       "    <tr>\n",
       "      <th>8938</th>\n",
       "      <td>39.052824</td>\n",
       "      <td>-94.590311</td>\n",
       "      <td>130</td>\n",
       "    </tr>\n",
       "    <tr>\n",
       "      <th>8947</th>\n",
       "      <td>37.331880</td>\n",
       "      <td>-122.029631</td>\n",
       "      <td>570</td>\n",
       "    </tr>\n",
       "    <tr>\n",
       "      <th>...</th>\n",
       "      <td>...</td>\n",
       "      <td>...</td>\n",
       "      <td>...</td>\n",
       "    </tr>\n",
       "    <tr>\n",
       "      <th>5975123</th>\n",
       "      <td>38.020788</td>\n",
       "      <td>-7.874773</td>\n",
       "      <td>1</td>\n",
       "    </tr>\n",
       "    <tr>\n",
       "      <th>5976149</th>\n",
       "      <td>12.939186</td>\n",
       "      <td>100.882264</td>\n",
       "      <td>1</td>\n",
       "    </tr>\n",
       "    <tr>\n",
       "      <th>5976173</th>\n",
       "      <td>13.668828</td>\n",
       "      <td>100.644486</td>\n",
       "      <td>1</td>\n",
       "    </tr>\n",
       "    <tr>\n",
       "      <th>5977211</th>\n",
       "      <td>4.888548</td>\n",
       "      <td>114.838631</td>\n",
       "      <td>1</td>\n",
       "    </tr>\n",
       "    <tr>\n",
       "      <th>5977757</th>\n",
       "      <td>13.447479</td>\n",
       "      <td>101.019928</td>\n",
       "      <td>1</td>\n",
       "    </tr>\n",
       "  </tbody>\n",
       "</table>\n",
       "<p>1280969 rows × 3 columns</p>\n",
       "</div>"
      ],
      "text/plain": [
       "          lat_mean   long_mean  visits\n",
       "locid                                 \n",
       "8904     39.052318  -94.607499      12\n",
       "8932     32.927662  -97.254356      16\n",
       "8936     39.053318  -94.591995      12\n",
       "8938     39.052824  -94.590311     130\n",
       "8947     37.331880 -122.029631     570\n",
       "...            ...         ...     ...\n",
       "5975123  38.020788   -7.874773       1\n",
       "5976149  12.939186  100.882264       1\n",
       "5976173  13.668828  100.644486       1\n",
       "5977211   4.888548  114.838631       1\n",
       "5977757  13.447479  101.019928       1\n",
       "\n",
       "[1280969 rows x 3 columns]"
      ]
     },
     "execution_count": 88,
     "metadata": {},
     "output_type": "execute_result"
    }
   ],
   "source": [
    "places"
   ]
  },
  {
   "cell_type": "code",
   "execution_count": 103,
   "metadata": {},
   "outputs": [],
   "source": [
    "location = geolocator.reverse(\"39.052318, -94.607499\")"
   ]
  },
  {
   "cell_type": "code",
   "execution_count": 105,
   "metadata": {},
   "outputs": [
    {
     "data": {
      "text/plain": [
       "{'place_id': 251278814,\n",
       " 'licence': 'Data © OpenStreetMap contributors, ODbL 1.0. https://osm.org/copyright',\n",
       " 'osm_type': 'way',\n",
       " 'osm_id': 552493654,\n",
       " 'lat': '39.052405',\n",
       " 'lon': '-94.607436',\n",
       " 'display_name': '4154, State Line Road, Country Club Plaza, Kansas City, Wyandotte County, Missouri, 66103, United States of America',\n",
       " 'address': {'house_number': '4154',\n",
       "  'road': 'State Line Road',\n",
       "  'suburb': 'Country Club Plaza',\n",
       "  'city': 'Kansas City',\n",
       "  'county': 'Wyandotte County',\n",
       "  'state': 'Missouri',\n",
       "  'postcode': '66103',\n",
       "  'country': 'United States of America',\n",
       "  'country_code': 'us'},\n",
       " 'boundingbox': ['39.052355', '39.052455', '-94.607486', '-94.607386']}"
      ]
     },
     "execution_count": 105,
     "metadata": {},
     "output_type": "execute_result"
    }
   ],
   "source": [
    "location.raw"
   ]
  },
  {
   "cell_type": "code",
   "execution_count": 21,
   "metadata": {},
   "outputs": [
    {
     "name": "stderr",
     "output_type": "stream",
     "text": [
      "C:\\ProgramData\\Anaconda3\\lib\\site-packages\\ipykernel_launcher.py:3: DeprecationWarning: Using Nominatim with the default \"geopy/1.22.0\" `user_agent` is strongly discouraged, as it violates Nominatim's ToS https://operations.osmfoundation.org/policies/nominatim/ and may possibly cause 403 and 429 HTTP errors. Please specify a custom `user_agent` with `Nominatim(user_agent=\"my-application\")` or by overriding the default `user_agent`: `geopy.geocoders.options.default_user_agent = \"my-application\"`. In geopy 2.0 this will become an exception.\n",
      "  This is separate from the ipykernel package so we can avoid doing imports until\n"
     ]
    }
   ],
   "source": [
    "from geopy.geocoders import Nominatim\n",
    "\n",
    "geolocator = Nominatim()\n",
    "\n",
    "sorted_places = places.sort_values('visits', ascending=False).reset_index()"
   ]
  },
  {
   "cell_type": "code",
   "execution_count": 22,
   "metadata": {},
   "outputs": [
    {
     "data": {
      "text/html": [
       "<div>\n",
       "<style scoped>\n",
       "    .dataframe tbody tr th:only-of-type {\n",
       "        vertical-align: middle;\n",
       "    }\n",
       "\n",
       "    .dataframe tbody tr th {\n",
       "        vertical-align: top;\n",
       "    }\n",
       "\n",
       "    .dataframe thead th {\n",
       "        text-align: right;\n",
       "    }\n",
       "</style>\n",
       "<table border=\"1\" class=\"dataframe\">\n",
       "  <thead>\n",
       "    <tr style=\"text-align: right;\">\n",
       "      <th></th>\n",
       "      <th>locid</th>\n",
       "      <th>lat_mean</th>\n",
       "      <th>long_mean</th>\n",
       "      <th>visits</th>\n",
       "    </tr>\n",
       "  </thead>\n",
       "  <tbody>\n",
       "    <tr>\n",
       "      <th>0</th>\n",
       "      <td>55033</td>\n",
       "      <td>59.330158</td>\n",
       "      <td>18.058079</td>\n",
       "      <td>5811</td>\n",
       "    </tr>\n",
       "    <tr>\n",
       "      <th>1</th>\n",
       "      <td>19542</td>\n",
       "      <td>37.616356</td>\n",
       "      <td>-122.386150</td>\n",
       "      <td>5662</td>\n",
       "    </tr>\n",
       "    <tr>\n",
       "      <th>2</th>\n",
       "      <td>9410</td>\n",
       "      <td>30.201557</td>\n",
       "      <td>-97.667127</td>\n",
       "      <td>4713</td>\n",
       "    </tr>\n",
       "    <tr>\n",
       "      <th>3</th>\n",
       "      <td>10259</td>\n",
       "      <td>32.897462</td>\n",
       "      <td>-97.040348</td>\n",
       "      <td>4083</td>\n",
       "    </tr>\n",
       "    <tr>\n",
       "      <th>4</th>\n",
       "      <td>58725</td>\n",
       "      <td>59.650051</td>\n",
       "      <td>17.932262</td>\n",
       "      <td>3476</td>\n",
       "    </tr>\n",
       "    <tr>\n",
       "      <th>...</th>\n",
       "      <td>...</td>\n",
       "      <td>...</td>\n",
       "      <td>...</td>\n",
       "      <td>...</td>\n",
       "    </tr>\n",
       "    <tr>\n",
       "      <th>1280964</th>\n",
       "      <td>1071645</td>\n",
       "      <td>8.038478</td>\n",
       "      <td>98.815826</td>\n",
       "      <td>1</td>\n",
       "    </tr>\n",
       "    <tr>\n",
       "      <th>1280965</th>\n",
       "      <td>1071647</td>\n",
       "      <td>42.553000</td>\n",
       "      <td>-83.175745</td>\n",
       "      <td>1</td>\n",
       "    </tr>\n",
       "    <tr>\n",
       "      <th>1280966</th>\n",
       "      <td>1071650</td>\n",
       "      <td>34.614540</td>\n",
       "      <td>-92.498446</td>\n",
       "      <td>1</td>\n",
       "    </tr>\n",
       "    <tr>\n",
       "      <th>1280967</th>\n",
       "      <td>1071652</td>\n",
       "      <td>29.756889</td>\n",
       "      <td>-95.365663</td>\n",
       "      <td>1</td>\n",
       "    </tr>\n",
       "    <tr>\n",
       "      <th>1280968</th>\n",
       "      <td>5977757</td>\n",
       "      <td>13.447479</td>\n",
       "      <td>101.019928</td>\n",
       "      <td>1</td>\n",
       "    </tr>\n",
       "  </tbody>\n",
       "</table>\n",
       "<p>1280969 rows × 4 columns</p>\n",
       "</div>"
      ],
      "text/plain": [
       "           locid   lat_mean   long_mean  visits\n",
       "0          55033  59.330158   18.058079    5811\n",
       "1          19542  37.616356 -122.386150    5662\n",
       "2           9410  30.201557  -97.667127    4713\n",
       "3          10259  32.897462  -97.040348    4083\n",
       "4          58725  59.650051   17.932262    3476\n",
       "...          ...        ...         ...     ...\n",
       "1280964  1071645   8.038478   98.815826       1\n",
       "1280965  1071647  42.553000  -83.175745       1\n",
       "1280966  1071650  34.614540  -92.498446       1\n",
       "1280967  1071652  29.756889  -95.365663       1\n",
       "1280968  5977757  13.447479  101.019928       1\n",
       "\n",
       "[1280969 rows x 4 columns]"
      ]
     },
     "execution_count": 22,
     "metadata": {},
     "output_type": "execute_result"
    }
   ],
   "source": [
    "sorted_places"
   ]
  },
  {
   "cell_type": "code",
   "execution_count": 28,
   "metadata": {},
   "outputs": [
    {
     "data": {
      "text/plain": [
       "1"
      ]
     },
     "execution_count": 28,
     "metadata": {},
     "output_type": "execute_result"
    }
   ],
   "source": [
    "1 % 1000"
   ]
  },
  {
   "cell_type": "code",
   "execution_count": 38,
   "metadata": {},
   "outputs": [
    {
     "ename": "KeyboardInterrupt",
     "evalue": "",
     "output_type": "error",
     "traceback": [
      "\u001b[1;31m---------------------------------------------------------------------------\u001b[0m",
      "\u001b[1;31mKeyboardInterrupt\u001b[0m                         Traceback (most recent call last)",
      "\u001b[1;32m<ipython-input-38-8a1c211b2523>\u001b[0m in \u001b[0;36m<module>\u001b[1;34m\u001b[0m\n\u001b[0;32m     11\u001b[0m \u001b[1;32mfor\u001b[0m \u001b[0mlocid\u001b[0m\u001b[1;33m,\u001b[0m \u001b[0mrow\u001b[0m \u001b[1;32min\u001b[0m \u001b[0mplaces_temp\u001b[0m\u001b[1;33m.\u001b[0m\u001b[0miterrows\u001b[0m\u001b[1;33m(\u001b[0m\u001b[1;33m)\u001b[0m\u001b[1;33m:\u001b[0m\u001b[1;33m\u001b[0m\u001b[1;33m\u001b[0m\u001b[0m\n\u001b[0;32m     12\u001b[0m \u001b[1;33m\u001b[0m\u001b[0m\n\u001b[1;32m---> 13\u001b[1;33m     \u001b[0mlocation\u001b[0m \u001b[1;33m=\u001b[0m \u001b[0mgeolocator\u001b[0m\u001b[1;33m.\u001b[0m\u001b[0mreverse\u001b[0m\u001b[1;33m(\u001b[0m\u001b[0mstr\u001b[0m\u001b[1;33m(\u001b[0m\u001b[0mrow\u001b[0m\u001b[1;33m[\u001b[0m\u001b[1;34m\"lat_mean\"\u001b[0m\u001b[1;33m]\u001b[0m\u001b[1;33m)\u001b[0m \u001b[1;33m+\u001b[0m \u001b[1;34m\", \"\u001b[0m \u001b[1;33m+\u001b[0m \u001b[0mstr\u001b[0m\u001b[1;33m(\u001b[0m\u001b[0mrow\u001b[0m\u001b[1;33m[\u001b[0m\u001b[1;34m\"long_mean\"\u001b[0m\u001b[1;33m]\u001b[0m\u001b[1;33m)\u001b[0m\u001b[1;33m)\u001b[0m\u001b[1;33m.\u001b[0m\u001b[0mraw\u001b[0m\u001b[1;33m\u001b[0m\u001b[1;33m\u001b[0m\u001b[0m\n\u001b[0m\u001b[0;32m     14\u001b[0m \u001b[1;33m\u001b[0m\u001b[0m\n\u001b[0;32m     15\u001b[0m     \u001b[0mlocation_json\u001b[0m\u001b[1;33m[\u001b[0m\u001b[1;34m'places'\u001b[0m\u001b[1;33m]\u001b[0m\u001b[1;33m.\u001b[0m\u001b[0mappend\u001b[0m\u001b[1;33m(\u001b[0m\u001b[1;33m{\u001b[0m\u001b[1;34m'locid'\u001b[0m \u001b[1;33m:\u001b[0m \u001b[0mlocid\u001b[0m\u001b[1;33m,\u001b[0m \u001b[1;34m'osm_json'\u001b[0m \u001b[1;33m:\u001b[0m \u001b[0mlocation\u001b[0m\u001b[1;33m}\u001b[0m\u001b[1;33m)\u001b[0m\u001b[1;33m\u001b[0m\u001b[1;33m\u001b[0m\u001b[0m\n",
      "\u001b[1;32mC:\\ProgramData\\Anaconda3\\lib\\site-packages\\geopy\\geocoders\\osm.py\u001b[0m in \u001b[0;36mreverse\u001b[1;34m(self, query, exactly_one, timeout, language, addressdetails, zoom)\u001b[0m\n\u001b[0;32m    478\u001b[0m \u001b[1;33m\u001b[0m\u001b[0m\n\u001b[0;32m    479\u001b[0m         return self._parse_json(\n\u001b[1;32m--> 480\u001b[1;33m             \u001b[0mself\u001b[0m\u001b[1;33m.\u001b[0m\u001b[0m_call_geocoder\u001b[0m\u001b[1;33m(\u001b[0m\u001b[0murl\u001b[0m\u001b[1;33m,\u001b[0m \u001b[0mtimeout\u001b[0m\u001b[1;33m=\u001b[0m\u001b[0mtimeout\u001b[0m\u001b[1;33m)\u001b[0m\u001b[1;33m,\u001b[0m \u001b[0mexactly_one\u001b[0m\u001b[1;33m\u001b[0m\u001b[1;33m\u001b[0m\u001b[0m\n\u001b[0m\u001b[0;32m    481\u001b[0m         )\n\u001b[0;32m    482\u001b[0m \u001b[1;33m\u001b[0m\u001b[0m\n",
      "\u001b[1;32mC:\\ProgramData\\Anaconda3\\lib\\site-packages\\geopy\\geocoders\\base.py\u001b[0m in \u001b[0;36m_call_geocoder\u001b[1;34m(self, url, timeout, raw, requester, deserializer, **kwargs)\u001b[0m\n\u001b[0;32m    365\u001b[0m \u001b[1;33m\u001b[0m\u001b[0m\n\u001b[0;32m    366\u001b[0m         \u001b[1;32mtry\u001b[0m\u001b[1;33m:\u001b[0m\u001b[1;33m\u001b[0m\u001b[1;33m\u001b[0m\u001b[0m\n\u001b[1;32m--> 367\u001b[1;33m             \u001b[0mpage\u001b[0m \u001b[1;33m=\u001b[0m \u001b[0mrequester\u001b[0m\u001b[1;33m(\u001b[0m\u001b[0mreq\u001b[0m\u001b[1;33m,\u001b[0m \u001b[0mtimeout\u001b[0m\u001b[1;33m=\u001b[0m\u001b[0mtimeout\u001b[0m\u001b[1;33m,\u001b[0m \u001b[1;33m**\u001b[0m\u001b[0mkwargs\u001b[0m\u001b[1;33m)\u001b[0m\u001b[1;33m\u001b[0m\u001b[1;33m\u001b[0m\u001b[0m\n\u001b[0m\u001b[0;32m    368\u001b[0m         \u001b[1;32mexcept\u001b[0m \u001b[0mException\u001b[0m \u001b[1;32mas\u001b[0m \u001b[0merror\u001b[0m\u001b[1;33m:\u001b[0m\u001b[1;33m\u001b[0m\u001b[1;33m\u001b[0m\u001b[0m\n\u001b[0;32m    369\u001b[0m             message = (\n",
      "\u001b[1;32mC:\\ProgramData\\Anaconda3\\lib\\urllib\\request.py\u001b[0m in \u001b[0;36mopen\u001b[1;34m(self, fullurl, data, timeout)\u001b[0m\n\u001b[0;32m    523\u001b[0m             \u001b[0mreq\u001b[0m \u001b[1;33m=\u001b[0m \u001b[0mmeth\u001b[0m\u001b[1;33m(\u001b[0m\u001b[0mreq\u001b[0m\u001b[1;33m)\u001b[0m\u001b[1;33m\u001b[0m\u001b[1;33m\u001b[0m\u001b[0m\n\u001b[0;32m    524\u001b[0m \u001b[1;33m\u001b[0m\u001b[0m\n\u001b[1;32m--> 525\u001b[1;33m         \u001b[0mresponse\u001b[0m \u001b[1;33m=\u001b[0m \u001b[0mself\u001b[0m\u001b[1;33m.\u001b[0m\u001b[0m_open\u001b[0m\u001b[1;33m(\u001b[0m\u001b[0mreq\u001b[0m\u001b[1;33m,\u001b[0m \u001b[0mdata\u001b[0m\u001b[1;33m)\u001b[0m\u001b[1;33m\u001b[0m\u001b[1;33m\u001b[0m\u001b[0m\n\u001b[0m\u001b[0;32m    526\u001b[0m \u001b[1;33m\u001b[0m\u001b[0m\n\u001b[0;32m    527\u001b[0m         \u001b[1;31m# post-process response\u001b[0m\u001b[1;33m\u001b[0m\u001b[1;33m\u001b[0m\u001b[1;33m\u001b[0m\u001b[0m\n",
      "\u001b[1;32mC:\\ProgramData\\Anaconda3\\lib\\urllib\\request.py\u001b[0m in \u001b[0;36m_open\u001b[1;34m(self, req, data)\u001b[0m\n\u001b[0;32m    541\u001b[0m         \u001b[0mprotocol\u001b[0m \u001b[1;33m=\u001b[0m \u001b[0mreq\u001b[0m\u001b[1;33m.\u001b[0m\u001b[0mtype\u001b[0m\u001b[1;33m\u001b[0m\u001b[1;33m\u001b[0m\u001b[0m\n\u001b[0;32m    542\u001b[0m         result = self._call_chain(self.handle_open, protocol, protocol +\n\u001b[1;32m--> 543\u001b[1;33m                                   '_open', req)\n\u001b[0m\u001b[0;32m    544\u001b[0m         \u001b[1;32mif\u001b[0m \u001b[0mresult\u001b[0m\u001b[1;33m:\u001b[0m\u001b[1;33m\u001b[0m\u001b[1;33m\u001b[0m\u001b[0m\n\u001b[0;32m    545\u001b[0m             \u001b[1;32mreturn\u001b[0m \u001b[0mresult\u001b[0m\u001b[1;33m\u001b[0m\u001b[1;33m\u001b[0m\u001b[0m\n",
      "\u001b[1;32mC:\\ProgramData\\Anaconda3\\lib\\urllib\\request.py\u001b[0m in \u001b[0;36m_call_chain\u001b[1;34m(self, chain, kind, meth_name, *args)\u001b[0m\n\u001b[0;32m    501\u001b[0m         \u001b[1;32mfor\u001b[0m \u001b[0mhandler\u001b[0m \u001b[1;32min\u001b[0m \u001b[0mhandlers\u001b[0m\u001b[1;33m:\u001b[0m\u001b[1;33m\u001b[0m\u001b[1;33m\u001b[0m\u001b[0m\n\u001b[0;32m    502\u001b[0m             \u001b[0mfunc\u001b[0m \u001b[1;33m=\u001b[0m \u001b[0mgetattr\u001b[0m\u001b[1;33m(\u001b[0m\u001b[0mhandler\u001b[0m\u001b[1;33m,\u001b[0m \u001b[0mmeth_name\u001b[0m\u001b[1;33m)\u001b[0m\u001b[1;33m\u001b[0m\u001b[1;33m\u001b[0m\u001b[0m\n\u001b[1;32m--> 503\u001b[1;33m             \u001b[0mresult\u001b[0m \u001b[1;33m=\u001b[0m \u001b[0mfunc\u001b[0m\u001b[1;33m(\u001b[0m\u001b[1;33m*\u001b[0m\u001b[0margs\u001b[0m\u001b[1;33m)\u001b[0m\u001b[1;33m\u001b[0m\u001b[1;33m\u001b[0m\u001b[0m\n\u001b[0m\u001b[0;32m    504\u001b[0m             \u001b[1;32mif\u001b[0m \u001b[0mresult\u001b[0m \u001b[1;32mis\u001b[0m \u001b[1;32mnot\u001b[0m \u001b[1;32mNone\u001b[0m\u001b[1;33m:\u001b[0m\u001b[1;33m\u001b[0m\u001b[1;33m\u001b[0m\u001b[0m\n\u001b[0;32m    505\u001b[0m                 \u001b[1;32mreturn\u001b[0m \u001b[0mresult\u001b[0m\u001b[1;33m\u001b[0m\u001b[1;33m\u001b[0m\u001b[0m\n",
      "\u001b[1;32mC:\\ProgramData\\Anaconda3\\lib\\urllib\\request.py\u001b[0m in \u001b[0;36mhttps_open\u001b[1;34m(self, req)\u001b[0m\n\u001b[0;32m   1360\u001b[0m         \u001b[1;32mdef\u001b[0m \u001b[0mhttps_open\u001b[0m\u001b[1;33m(\u001b[0m\u001b[0mself\u001b[0m\u001b[1;33m,\u001b[0m \u001b[0mreq\u001b[0m\u001b[1;33m)\u001b[0m\u001b[1;33m:\u001b[0m\u001b[1;33m\u001b[0m\u001b[1;33m\u001b[0m\u001b[0m\n\u001b[0;32m   1361\u001b[0m             return self.do_open(http.client.HTTPSConnection, req,\n\u001b[1;32m-> 1362\u001b[1;33m                 context=self._context, check_hostname=self._check_hostname)\n\u001b[0m\u001b[0;32m   1363\u001b[0m \u001b[1;33m\u001b[0m\u001b[0m\n\u001b[0;32m   1364\u001b[0m         \u001b[0mhttps_request\u001b[0m \u001b[1;33m=\u001b[0m \u001b[0mAbstractHTTPHandler\u001b[0m\u001b[1;33m.\u001b[0m\u001b[0mdo_request_\u001b[0m\u001b[1;33m\u001b[0m\u001b[1;33m\u001b[0m\u001b[0m\n",
      "\u001b[1;32mC:\\ProgramData\\Anaconda3\\lib\\urllib\\request.py\u001b[0m in \u001b[0;36mdo_open\u001b[1;34m(self, http_class, req, **http_conn_args)\u001b[0m\n\u001b[0;32m   1317\u001b[0m             \u001b[1;32mtry\u001b[0m\u001b[1;33m:\u001b[0m\u001b[1;33m\u001b[0m\u001b[1;33m\u001b[0m\u001b[0m\n\u001b[0;32m   1318\u001b[0m                 h.request(req.get_method(), req.selector, req.data, headers,\n\u001b[1;32m-> 1319\u001b[1;33m                           encode_chunked=req.has_header('Transfer-encoding'))\n\u001b[0m\u001b[0;32m   1320\u001b[0m             \u001b[1;32mexcept\u001b[0m \u001b[0mOSError\u001b[0m \u001b[1;32mas\u001b[0m \u001b[0merr\u001b[0m\u001b[1;33m:\u001b[0m \u001b[1;31m# timeout error\u001b[0m\u001b[1;33m\u001b[0m\u001b[1;33m\u001b[0m\u001b[0m\n\u001b[0;32m   1321\u001b[0m                 \u001b[1;32mraise\u001b[0m \u001b[0mURLError\u001b[0m\u001b[1;33m(\u001b[0m\u001b[0merr\u001b[0m\u001b[1;33m)\u001b[0m\u001b[1;33m\u001b[0m\u001b[1;33m\u001b[0m\u001b[0m\n",
      "\u001b[1;32mC:\\ProgramData\\Anaconda3\\lib\\http\\client.py\u001b[0m in \u001b[0;36mrequest\u001b[1;34m(self, method, url, body, headers, encode_chunked)\u001b[0m\n\u001b[0;32m   1250\u001b[0m                 encode_chunked=False):\n\u001b[0;32m   1251\u001b[0m         \u001b[1;34m\"\"\"Send a complete request to the server.\"\"\"\u001b[0m\u001b[1;33m\u001b[0m\u001b[1;33m\u001b[0m\u001b[0m\n\u001b[1;32m-> 1252\u001b[1;33m         \u001b[0mself\u001b[0m\u001b[1;33m.\u001b[0m\u001b[0m_send_request\u001b[0m\u001b[1;33m(\u001b[0m\u001b[0mmethod\u001b[0m\u001b[1;33m,\u001b[0m \u001b[0murl\u001b[0m\u001b[1;33m,\u001b[0m \u001b[0mbody\u001b[0m\u001b[1;33m,\u001b[0m \u001b[0mheaders\u001b[0m\u001b[1;33m,\u001b[0m \u001b[0mencode_chunked\u001b[0m\u001b[1;33m)\u001b[0m\u001b[1;33m\u001b[0m\u001b[1;33m\u001b[0m\u001b[0m\n\u001b[0m\u001b[0;32m   1253\u001b[0m \u001b[1;33m\u001b[0m\u001b[0m\n\u001b[0;32m   1254\u001b[0m     \u001b[1;32mdef\u001b[0m \u001b[0m_send_request\u001b[0m\u001b[1;33m(\u001b[0m\u001b[0mself\u001b[0m\u001b[1;33m,\u001b[0m \u001b[0mmethod\u001b[0m\u001b[1;33m,\u001b[0m \u001b[0murl\u001b[0m\u001b[1;33m,\u001b[0m \u001b[0mbody\u001b[0m\u001b[1;33m,\u001b[0m \u001b[0mheaders\u001b[0m\u001b[1;33m,\u001b[0m \u001b[0mencode_chunked\u001b[0m\u001b[1;33m)\u001b[0m\u001b[1;33m:\u001b[0m\u001b[1;33m\u001b[0m\u001b[1;33m\u001b[0m\u001b[0m\n",
      "\u001b[1;32mC:\\ProgramData\\Anaconda3\\lib\\http\\client.py\u001b[0m in \u001b[0;36m_send_request\u001b[1;34m(self, method, url, body, headers, encode_chunked)\u001b[0m\n\u001b[0;32m   1296\u001b[0m             \u001b[1;31m# default charset of iso-8859-1.\u001b[0m\u001b[1;33m\u001b[0m\u001b[1;33m\u001b[0m\u001b[1;33m\u001b[0m\u001b[0m\n\u001b[0;32m   1297\u001b[0m             \u001b[0mbody\u001b[0m \u001b[1;33m=\u001b[0m \u001b[0m_encode\u001b[0m\u001b[1;33m(\u001b[0m\u001b[0mbody\u001b[0m\u001b[1;33m,\u001b[0m \u001b[1;34m'body'\u001b[0m\u001b[1;33m)\u001b[0m\u001b[1;33m\u001b[0m\u001b[1;33m\u001b[0m\u001b[0m\n\u001b[1;32m-> 1298\u001b[1;33m         \u001b[0mself\u001b[0m\u001b[1;33m.\u001b[0m\u001b[0mendheaders\u001b[0m\u001b[1;33m(\u001b[0m\u001b[0mbody\u001b[0m\u001b[1;33m,\u001b[0m \u001b[0mencode_chunked\u001b[0m\u001b[1;33m=\u001b[0m\u001b[0mencode_chunked\u001b[0m\u001b[1;33m)\u001b[0m\u001b[1;33m\u001b[0m\u001b[1;33m\u001b[0m\u001b[0m\n\u001b[0m\u001b[0;32m   1299\u001b[0m \u001b[1;33m\u001b[0m\u001b[0m\n\u001b[0;32m   1300\u001b[0m     \u001b[1;32mdef\u001b[0m \u001b[0mgetresponse\u001b[0m\u001b[1;33m(\u001b[0m\u001b[0mself\u001b[0m\u001b[1;33m)\u001b[0m\u001b[1;33m:\u001b[0m\u001b[1;33m\u001b[0m\u001b[1;33m\u001b[0m\u001b[0m\n",
      "\u001b[1;32mC:\\ProgramData\\Anaconda3\\lib\\http\\client.py\u001b[0m in \u001b[0;36mendheaders\u001b[1;34m(self, message_body, encode_chunked)\u001b[0m\n\u001b[0;32m   1245\u001b[0m         \u001b[1;32melse\u001b[0m\u001b[1;33m:\u001b[0m\u001b[1;33m\u001b[0m\u001b[1;33m\u001b[0m\u001b[0m\n\u001b[0;32m   1246\u001b[0m             \u001b[1;32mraise\u001b[0m \u001b[0mCannotSendHeader\u001b[0m\u001b[1;33m(\u001b[0m\u001b[1;33m)\u001b[0m\u001b[1;33m\u001b[0m\u001b[1;33m\u001b[0m\u001b[0m\n\u001b[1;32m-> 1247\u001b[1;33m         \u001b[0mself\u001b[0m\u001b[1;33m.\u001b[0m\u001b[0m_send_output\u001b[0m\u001b[1;33m(\u001b[0m\u001b[0mmessage_body\u001b[0m\u001b[1;33m,\u001b[0m \u001b[0mencode_chunked\u001b[0m\u001b[1;33m=\u001b[0m\u001b[0mencode_chunked\u001b[0m\u001b[1;33m)\u001b[0m\u001b[1;33m\u001b[0m\u001b[1;33m\u001b[0m\u001b[0m\n\u001b[0m\u001b[0;32m   1248\u001b[0m \u001b[1;33m\u001b[0m\u001b[0m\n\u001b[0;32m   1249\u001b[0m     def request(self, method, url, body=None, headers={}, *,\n",
      "\u001b[1;32mC:\\ProgramData\\Anaconda3\\lib\\http\\client.py\u001b[0m in \u001b[0;36m_send_output\u001b[1;34m(self, message_body, encode_chunked)\u001b[0m\n\u001b[0;32m   1024\u001b[0m         \u001b[0mmsg\u001b[0m \u001b[1;33m=\u001b[0m \u001b[1;34mb\"\\r\\n\"\u001b[0m\u001b[1;33m.\u001b[0m\u001b[0mjoin\u001b[0m\u001b[1;33m(\u001b[0m\u001b[0mself\u001b[0m\u001b[1;33m.\u001b[0m\u001b[0m_buffer\u001b[0m\u001b[1;33m)\u001b[0m\u001b[1;33m\u001b[0m\u001b[1;33m\u001b[0m\u001b[0m\n\u001b[0;32m   1025\u001b[0m         \u001b[1;32mdel\u001b[0m \u001b[0mself\u001b[0m\u001b[1;33m.\u001b[0m\u001b[0m_buffer\u001b[0m\u001b[1;33m[\u001b[0m\u001b[1;33m:\u001b[0m\u001b[1;33m]\u001b[0m\u001b[1;33m\u001b[0m\u001b[1;33m\u001b[0m\u001b[0m\n\u001b[1;32m-> 1026\u001b[1;33m         \u001b[0mself\u001b[0m\u001b[1;33m.\u001b[0m\u001b[0msend\u001b[0m\u001b[1;33m(\u001b[0m\u001b[0mmsg\u001b[0m\u001b[1;33m)\u001b[0m\u001b[1;33m\u001b[0m\u001b[1;33m\u001b[0m\u001b[0m\n\u001b[0m\u001b[0;32m   1027\u001b[0m \u001b[1;33m\u001b[0m\u001b[0m\n\u001b[0;32m   1028\u001b[0m         \u001b[1;32mif\u001b[0m \u001b[0mmessage_body\u001b[0m \u001b[1;32mis\u001b[0m \u001b[1;32mnot\u001b[0m \u001b[1;32mNone\u001b[0m\u001b[1;33m:\u001b[0m\u001b[1;33m\u001b[0m\u001b[1;33m\u001b[0m\u001b[0m\n",
      "\u001b[1;32mC:\\ProgramData\\Anaconda3\\lib\\http\\client.py\u001b[0m in \u001b[0;36msend\u001b[1;34m(self, data)\u001b[0m\n\u001b[0;32m    964\u001b[0m         \u001b[1;32mif\u001b[0m \u001b[0mself\u001b[0m\u001b[1;33m.\u001b[0m\u001b[0msock\u001b[0m \u001b[1;32mis\u001b[0m \u001b[1;32mNone\u001b[0m\u001b[1;33m:\u001b[0m\u001b[1;33m\u001b[0m\u001b[1;33m\u001b[0m\u001b[0m\n\u001b[0;32m    965\u001b[0m             \u001b[1;32mif\u001b[0m \u001b[0mself\u001b[0m\u001b[1;33m.\u001b[0m\u001b[0mauto_open\u001b[0m\u001b[1;33m:\u001b[0m\u001b[1;33m\u001b[0m\u001b[1;33m\u001b[0m\u001b[0m\n\u001b[1;32m--> 966\u001b[1;33m                 \u001b[0mself\u001b[0m\u001b[1;33m.\u001b[0m\u001b[0mconnect\u001b[0m\u001b[1;33m(\u001b[0m\u001b[1;33m)\u001b[0m\u001b[1;33m\u001b[0m\u001b[1;33m\u001b[0m\u001b[0m\n\u001b[0m\u001b[0;32m    967\u001b[0m             \u001b[1;32melse\u001b[0m\u001b[1;33m:\u001b[0m\u001b[1;33m\u001b[0m\u001b[1;33m\u001b[0m\u001b[0m\n\u001b[0;32m    968\u001b[0m                 \u001b[1;32mraise\u001b[0m \u001b[0mNotConnected\u001b[0m\u001b[1;33m(\u001b[0m\u001b[1;33m)\u001b[0m\u001b[1;33m\u001b[0m\u001b[1;33m\u001b[0m\u001b[0m\n",
      "\u001b[1;32mC:\\ProgramData\\Anaconda3\\lib\\http\\client.py\u001b[0m in \u001b[0;36mconnect\u001b[1;34m(self)\u001b[0m\n\u001b[0;32m   1420\u001b[0m \u001b[1;33m\u001b[0m\u001b[0m\n\u001b[0;32m   1421\u001b[0m             self.sock = self._context.wrap_socket(self.sock,\n\u001b[1;32m-> 1422\u001b[1;33m                                                   server_hostname=server_hostname)\n\u001b[0m\u001b[0;32m   1423\u001b[0m \u001b[1;33m\u001b[0m\u001b[0m\n\u001b[0;32m   1424\u001b[0m     \u001b[0m__all__\u001b[0m\u001b[1;33m.\u001b[0m\u001b[0mappend\u001b[0m\u001b[1;33m(\u001b[0m\u001b[1;34m\"HTTPSConnection\"\u001b[0m\u001b[1;33m)\u001b[0m\u001b[1;33m\u001b[0m\u001b[1;33m\u001b[0m\u001b[0m\n",
      "\u001b[1;32mC:\\ProgramData\\Anaconda3\\lib\\ssl.py\u001b[0m in \u001b[0;36mwrap_socket\u001b[1;34m(self, sock, server_side, do_handshake_on_connect, suppress_ragged_eofs, server_hostname, session)\u001b[0m\n\u001b[0;32m    421\u001b[0m             \u001b[0mserver_hostname\u001b[0m\u001b[1;33m=\u001b[0m\u001b[0mserver_hostname\u001b[0m\u001b[1;33m,\u001b[0m\u001b[1;33m\u001b[0m\u001b[1;33m\u001b[0m\u001b[0m\n\u001b[0;32m    422\u001b[0m             \u001b[0mcontext\u001b[0m\u001b[1;33m=\u001b[0m\u001b[0mself\u001b[0m\u001b[1;33m,\u001b[0m\u001b[1;33m\u001b[0m\u001b[1;33m\u001b[0m\u001b[0m\n\u001b[1;32m--> 423\u001b[1;33m             \u001b[0msession\u001b[0m\u001b[1;33m=\u001b[0m\u001b[0msession\u001b[0m\u001b[1;33m\u001b[0m\u001b[1;33m\u001b[0m\u001b[0m\n\u001b[0m\u001b[0;32m    424\u001b[0m         )\n\u001b[0;32m    425\u001b[0m \u001b[1;33m\u001b[0m\u001b[0m\n",
      "\u001b[1;32mC:\\ProgramData\\Anaconda3\\lib\\ssl.py\u001b[0m in \u001b[0;36m_create\u001b[1;34m(cls, sock, server_side, do_handshake_on_connect, suppress_ragged_eofs, server_hostname, context, session)\u001b[0m\n\u001b[0;32m    868\u001b[0m                         \u001b[1;31m# non-blocking\u001b[0m\u001b[1;33m\u001b[0m\u001b[1;33m\u001b[0m\u001b[1;33m\u001b[0m\u001b[0m\n\u001b[0;32m    869\u001b[0m                         \u001b[1;32mraise\u001b[0m \u001b[0mValueError\u001b[0m\u001b[1;33m(\u001b[0m\u001b[1;34m\"do_handshake_on_connect should not be specified for non-blocking sockets\"\u001b[0m\u001b[1;33m)\u001b[0m\u001b[1;33m\u001b[0m\u001b[1;33m\u001b[0m\u001b[0m\n\u001b[1;32m--> 870\u001b[1;33m                     \u001b[0mself\u001b[0m\u001b[1;33m.\u001b[0m\u001b[0mdo_handshake\u001b[0m\u001b[1;33m(\u001b[0m\u001b[1;33m)\u001b[0m\u001b[1;33m\u001b[0m\u001b[1;33m\u001b[0m\u001b[0m\n\u001b[0m\u001b[0;32m    871\u001b[0m             \u001b[1;32mexcept\u001b[0m \u001b[1;33m(\u001b[0m\u001b[0mOSError\u001b[0m\u001b[1;33m,\u001b[0m \u001b[0mValueError\u001b[0m\u001b[1;33m)\u001b[0m\u001b[1;33m:\u001b[0m\u001b[1;33m\u001b[0m\u001b[1;33m\u001b[0m\u001b[0m\n\u001b[0;32m    872\u001b[0m                 \u001b[0mself\u001b[0m\u001b[1;33m.\u001b[0m\u001b[0mclose\u001b[0m\u001b[1;33m(\u001b[0m\u001b[1;33m)\u001b[0m\u001b[1;33m\u001b[0m\u001b[1;33m\u001b[0m\u001b[0m\n",
      "\u001b[1;32mC:\\ProgramData\\Anaconda3\\lib\\ssl.py\u001b[0m in \u001b[0;36mdo_handshake\u001b[1;34m(self, block)\u001b[0m\n\u001b[0;32m   1137\u001b[0m             \u001b[1;32mif\u001b[0m \u001b[0mtimeout\u001b[0m \u001b[1;33m==\u001b[0m \u001b[1;36m0.0\u001b[0m \u001b[1;32mand\u001b[0m \u001b[0mblock\u001b[0m\u001b[1;33m:\u001b[0m\u001b[1;33m\u001b[0m\u001b[1;33m\u001b[0m\u001b[0m\n\u001b[0;32m   1138\u001b[0m                 \u001b[0mself\u001b[0m\u001b[1;33m.\u001b[0m\u001b[0msettimeout\u001b[0m\u001b[1;33m(\u001b[0m\u001b[1;32mNone\u001b[0m\u001b[1;33m)\u001b[0m\u001b[1;33m\u001b[0m\u001b[1;33m\u001b[0m\u001b[0m\n\u001b[1;32m-> 1139\u001b[1;33m             \u001b[0mself\u001b[0m\u001b[1;33m.\u001b[0m\u001b[0m_sslobj\u001b[0m\u001b[1;33m.\u001b[0m\u001b[0mdo_handshake\u001b[0m\u001b[1;33m(\u001b[0m\u001b[1;33m)\u001b[0m\u001b[1;33m\u001b[0m\u001b[1;33m\u001b[0m\u001b[0m\n\u001b[0m\u001b[0;32m   1140\u001b[0m         \u001b[1;32mfinally\u001b[0m\u001b[1;33m:\u001b[0m\u001b[1;33m\u001b[0m\u001b[1;33m\u001b[0m\u001b[0m\n\u001b[0;32m   1141\u001b[0m             \u001b[0mself\u001b[0m\u001b[1;33m.\u001b[0m\u001b[0msettimeout\u001b[0m\u001b[1;33m(\u001b[0m\u001b[0mtimeout\u001b[0m\u001b[1;33m)\u001b[0m\u001b[1;33m\u001b[0m\u001b[1;33m\u001b[0m\u001b[0m\n",
      "\u001b[1;31mKeyboardInterrupt\u001b[0m: "
     ]
    }
   ],
   "source": [
    "import json\n",
    "\n",
    "location_json = {}\n",
    "location_json['places'] = []\n",
    "\n",
    "# choose place to start writing files\n",
    "index = 0\n",
    "\n",
    "places_temp = sorted_places[index:]\n",
    "\n",
    "for locid, row in places_temp.iterrows():\n",
    "    \n",
    "    location = geolocator.reverse(str(row[\"lat_mean\"]) + \", \" + str(row[\"long_mean\"])).raw\n",
    "    \n",
    "    location_json['places'].append({'locid' : locid, 'osm_json' : location})\n",
    "    \n",
    "    index += 1\n",
    "    \n",
    "    if index % 10 == 0 and index != 0:\n",
    "        \n",
    "        print(str(index) + ' index JSON written')\n",
    "        \n",
    "        with open('data/json/' + str(index) + '.txt', 'w') as outfile:\n",
    "            json.dump(location_json, outfile)"
   ]
  },
  {
   "cell_type": "code",
   "execution_count": 120,
   "metadata": {},
   "outputs": [
    {
     "data": {
      "text/plain": [
       "[{'locid': 8904,\n",
       "  'osm_json': {'place_id': 251278814,\n",
       "   'licence': 'Data © OpenStreetMap contributors, ODbL 1.0. https://osm.org/copyright',\n",
       "   'osm_type': 'way',\n",
       "   'osm_id': 552493654,\n",
       "   'lat': '39.052405',\n",
       "   'lon': '-94.607436',\n",
       "   'display_name': '4154, State Line Road, Country Club Plaza, Kansas City, Wyandotte County, Missouri, 66103, United States of America',\n",
       "   'address': {'house_number': '4154',\n",
       "    'road': 'State Line Road',\n",
       "    'suburb': 'Country Club Plaza',\n",
       "    'city': 'Kansas City',\n",
       "    'county': 'Wyandotte County',\n",
       "    'state': 'Missouri',\n",
       "    'postcode': '66103',\n",
       "    'country': 'United States of America',\n",
       "    'country_code': 'us'},\n",
       "   'boundingbox': ['39.052355', '39.052455', '-94.607486', '-94.607386']}},\n",
       " {'locid': 8932,\n",
       "  'osm_json': {'place_id': 285607341,\n",
       "   'licence': 'Data © OpenStreetMap contributors, ODbL 1.0. https://osm.org/copyright',\n",
       "   'osm_type': 'way',\n",
       "   'osm_id': 691729194,\n",
       "   'lat': '32.9271785',\n",
       "   'lon': '-97.25485473014332',\n",
       "   'display_name': 'Spring Creek BBQ, South Main Street, Keller, Tarrant County, Texas, 76248, United States of America',\n",
       "   'address': {'amenity': 'Spring Creek BBQ',\n",
       "    'road': 'South Main Street',\n",
       "    'town': 'Keller',\n",
       "    'county': 'Tarrant County',\n",
       "    'state': 'Texas',\n",
       "    'postcode': '76248',\n",
       "    'country': 'United States of America',\n",
       "    'country_code': 'us'},\n",
       "   'boundingbox': ['32.9270233', '32.9273173', '-97.2550241', '-97.2546851']}},\n",
       " {'locid': 8936,\n",
       "  'osm_json': {'place_id': 151209907,\n",
       "   'licence': 'Data © OpenStreetMap contributors, ODbL 1.0. https://osm.org/copyright',\n",
       "   'osm_type': 'way',\n",
       "   'osm_id': 265728423,\n",
       "   'lat': '39.0530537',\n",
       "   'lon': '-94.59230286803603',\n",
       "   'display_name': '4050, Pennsylvania Avenue, Westport, Kansas City, Jackson County, Missouri, 64111, United States of America',\n",
       "   'address': {'house_number': '4050',\n",
       "    'road': 'Pennsylvania Avenue',\n",
       "    'neighbourhood': 'Westport',\n",
       "    'suburb': 'Westport',\n",
       "    'city': 'Kansas City',\n",
       "    'county': 'Jackson County',\n",
       "    'state': 'Missouri',\n",
       "    'postcode': '64111',\n",
       "    'country': 'United States of America',\n",
       "    'country_code': 'us'},\n",
       "   'boundingbox': ['39.0528359', '39.0534087', '-94.5926293', '-94.5918839']}},\n",
       " {'locid': 8938,\n",
       "  'osm_json': {'place_id': 60993458,\n",
       "   'licence': 'Data © OpenStreetMap contributors, ODbL 1.0. https://osm.org/copyright',\n",
       "   'osm_type': 'node',\n",
       "   'osm_id': 4989083145,\n",
       "   'lat': '39.0528707',\n",
       "   'lon': '-94.5904806',\n",
       "   'display_name': 'Broadway Cafe, Broadway Boulevard, Westport, Kansas City, Jackson County, Missouri, 64111, United States of America',\n",
       "   'address': {'amenity': 'Broadway Cafe',\n",
       "    'road': 'Broadway Boulevard',\n",
       "    'neighbourhood': 'Westport',\n",
       "    'suburb': 'Westport',\n",
       "    'city': 'Kansas City',\n",
       "    'county': 'Jackson County',\n",
       "    'state': 'Missouri',\n",
       "    'postcode': '64111',\n",
       "    'country': 'United States of America',\n",
       "    'country_code': 'us'},\n",
       "   'boundingbox': ['39.0528207', '39.0529207', '-94.5905306', '-94.5904306']}},\n",
       " {'locid': 8947,\n",
       "  'osm_json': {'place_id': 276755729,\n",
       "   'licence': 'Data © OpenStreetMap contributors, ODbL 1.0. https://osm.org/copyright',\n",
       "   'osm_type': 'way',\n",
       "   'osm_id': 114054829,\n",
       "   'lat': '37.3316697',\n",
       "   'lon': '-122.03009820215502',\n",
       "   'display_name': 'Infinite Loop 1, 1, Infinite Loop, Apple Campus, Monta Vista, Cupertino, Santa Clara County, California, 95014, United States of America',\n",
       "   'address': {'office': 'Infinite Loop 1',\n",
       "    'house_number': '1',\n",
       "    'road': 'Infinite Loop',\n",
       "    'commercial': 'Apple Campus',\n",
       "    'hamlet': 'Monta Vista',\n",
       "    'city': 'Cupertino',\n",
       "    'county': 'Santa Clara County',\n",
       "    'state': 'California',\n",
       "    'postcode': '95014',\n",
       "    'country': 'United States of America',\n",
       "    'country_code': 'us'},\n",
       "   'boundingbox': ['37.3311957',\n",
       "    '37.3321649',\n",
       "    '-122.0305543',\n",
       "    '-122.0298245']}},\n",
       " {'locid': 8954,\n",
       "  'osm_json': {'place_id': 276654119,\n",
       "   'licence': 'Data © OpenStreetMap contributors, ODbL 1.0. https://osm.org/copyright',\n",
       "   'osm_type': 'node',\n",
       "   'osm_id': 7202281677,\n",
       "   'lat': '32.9396206',\n",
       "   'lon': '-97.1059919',\n",
       "   'display_name': 'Old Navy, Gateway Drive, Gateway Plaza, Old Union, Southlake, Tarrant County, Texas, 76051, United States of America',\n",
       "   'address': {'shop': 'Old Navy',\n",
       "    'road': 'Gateway Drive',\n",
       "    'retail': 'Gateway Plaza',\n",
       "    'hamlet': 'Old Union',\n",
       "    'town': 'Southlake',\n",
       "    'county': 'Tarrant County',\n",
       "    'state': 'Texas',\n",
       "    'postcode': '76051',\n",
       "    'country': 'United States of America',\n",
       "    'country_code': 'us'},\n",
       "   'boundingbox': ['32.9395706', '32.9396706', '-97.1060419', '-97.1059419']}},\n",
       " {'locid': 8956,\n",
       "  'osm_json': {'place_id': 154482607,\n",
       "   'licence': 'Data © OpenStreetMap contributors, ODbL 1.0. https://osm.org/copyright',\n",
       "   'osm_type': 'way',\n",
       "   'osm_id': 280272008,\n",
       "   'lat': '32.94290205',\n",
       "   'lon': '-97.13121775135218',\n",
       "   'display_name': 'Southlake City Hall, 1400, Main Street, Southlake Town Square, Old Union, Southlake, Tarrant County, Texas, 76092, United States of America',\n",
       "   'address': {'amenity': 'Southlake City Hall',\n",
       "    'house_number': '1400',\n",
       "    'road': 'Main Street',\n",
       "    'retail': 'Southlake Town Square',\n",
       "    'hamlet': 'Old Union',\n",
       "    'town': 'Southlake',\n",
       "    'county': 'Tarrant County',\n",
       "    'state': 'Texas',\n",
       "    'postcode': '76092',\n",
       "    'country': 'United States of America',\n",
       "    'country_code': 'us'},\n",
       "   'boundingbox': ['32.9426965', '32.9430897', '-97.1315421', '-97.1308934']}},\n",
       " {'locid': 8957,\n",
       "  'osm_json': {'place_id': 154482607,\n",
       "   'licence': 'Data © OpenStreetMap contributors, ODbL 1.0. https://osm.org/copyright',\n",
       "   'osm_type': 'way',\n",
       "   'osm_id': 280272008,\n",
       "   'lat': '32.94290205',\n",
       "   'lon': '-97.13121775135218',\n",
       "   'display_name': 'Southlake City Hall, 1400, Main Street, Southlake Town Square, Old Union, Southlake, Tarrant County, Texas, 76092, United States of America',\n",
       "   'address': {'amenity': 'Southlake City Hall',\n",
       "    'house_number': '1400',\n",
       "    'road': 'Main Street',\n",
       "    'retail': 'Southlake Town Square',\n",
       "    'hamlet': 'Old Union',\n",
       "    'town': 'Southlake',\n",
       "    'county': 'Tarrant County',\n",
       "    'state': 'Texas',\n",
       "    'postcode': '76092',\n",
       "    'country': 'United States of America',\n",
       "    'country_code': 'us'},\n",
       "   'boundingbox': ['32.9426965', '32.9430897', '-97.1315421', '-97.1308934']}},\n",
       " {'locid': 8958,\n",
       "  'osm_json': {'place_id': 284644212,\n",
       "   'licence': 'Data © OpenStreetMap contributors, ODbL 1.0. https://osm.org/copyright',\n",
       "   'osm_type': 'way',\n",
       "   'osm_id': 670750414,\n",
       "   'lat': '32.882603399999994',\n",
       "   'lon': '-97.26001295937829',\n",
       "   'display_name': 'Chipotle, Denton Highway, Watauga, Tarrant County, Texas, 76148, United States of America',\n",
       "   'address': {'amenity': 'Chipotle',\n",
       "    'road': 'Denton Highway',\n",
       "    'city': 'Watauga',\n",
       "    'county': 'Tarrant County',\n",
       "    'state': 'Texas',\n",
       "    'postcode': '76148',\n",
       "    'country': 'United States of America',\n",
       "    'country_code': 'us'},\n",
       "   'boundingbox': ['32.882438', '32.8827677', '-97.2601682', '-97.2598578']}},\n",
       " {'locid': 8961,\n",
       "  'osm_json': {'place_id': 163046719,\n",
       "   'licence': 'Data © OpenStreetMap contributors, ODbL 1.0. https://osm.org/copyright',\n",
       "   'osm_type': 'way',\n",
       "   'osm_id': 325259809,\n",
       "   'lat': '32.94009615',\n",
       "   'lon': '-97.11569691712424',\n",
       "   'display_name': 'Chick-fil-A, 2301, East Southlake Boulevard, Park Village, Old Union, Southlake, Tarrant County, Texas, 76092, United States of America',\n",
       "   'address': {'amenity': 'Chick-fil-A',\n",
       "    'house_number': '2301',\n",
       "    'road': 'East Southlake Boulevard',\n",
       "    'retail': 'Park Village',\n",
       "    'hamlet': 'Old Union',\n",
       "    'town': 'Southlake',\n",
       "    'county': 'Tarrant County',\n",
       "    'state': 'Texas',\n",
       "    'postcode': '76092',\n",
       "    'country': 'United States of America',\n",
       "    'country_code': 'us'},\n",
       "   'boundingbox': ['32.9398843', '32.9402553', '-97.1157881', '-97.1156054']}},\n",
       " {'locid': 8964,\n",
       "  'osm_json': {'place_id': 196447190,\n",
       "   'licence': 'Data © OpenStreetMap contributors, ODbL 1.0. https://osm.org/copyright',\n",
       "   'osm_type': 'way',\n",
       "   'osm_id': 504479544,\n",
       "   'lat': '39.041867100000005',\n",
       "   'lon': '-94.5921720791338',\n",
       "   'display_name': 'Country Club Plaza, Sister Cities Bridge, South Plaza, Country Club Plaza, Kansas City, Jackson County, Missouri, 64112, United States of America',\n",
       "   'address': {'shop': 'Country Club Plaza',\n",
       "    'road': 'Sister Cities Bridge',\n",
       "    'neighbourhood': 'South Plaza',\n",
       "    'suburb': 'Country Club Plaza',\n",
       "    'city': 'Kansas City',\n",
       "    'county': 'Jackson County',\n",
       "    'state': 'Missouri',\n",
       "    'postcode': '64112',\n",
       "    'country': 'United States of America',\n",
       "    'country_code': 'us'},\n",
       "   'boundingbox': ['39.0399906', '39.0433447', '-94.5962236', '-94.5881528']}},\n",
       " {'locid': 8965,\n",
       "  'osm_json': {'place_id': 196447190,\n",
       "   'licence': 'Data © OpenStreetMap contributors, ODbL 1.0. https://osm.org/copyright',\n",
       "   'osm_type': 'way',\n",
       "   'osm_id': 504479544,\n",
       "   'lat': '39.041867100000005',\n",
       "   'lon': '-94.5921720791338',\n",
       "   'display_name': 'Country Club Plaza, Sister Cities Bridge, South Plaza, Country Club Plaza, Kansas City, Jackson County, Missouri, 64112, United States of America',\n",
       "   'address': {'shop': 'Country Club Plaza',\n",
       "    'road': 'Sister Cities Bridge',\n",
       "    'neighbourhood': 'South Plaza',\n",
       "    'suburb': 'Country Club Plaza',\n",
       "    'city': 'Kansas City',\n",
       "    'county': 'Jackson County',\n",
       "    'state': 'Missouri',\n",
       "    'postcode': '64112',\n",
       "    'country': 'United States of America',\n",
       "    'country_code': 'us'},\n",
       "   'boundingbox': ['39.0399906', '39.0433447', '-94.5962236', '-94.5881528']}},\n",
       " {'locid': 8966,\n",
       "  'osm_json': {'place_id': 20517188,\n",
       "   'licence': 'Data © OpenStreetMap contributors, ODbL 1.0. https://osm.org/copyright',\n",
       "   'osm_type': 'node',\n",
       "   'osm_id': 2081887486,\n",
       "   'lat': '39.0518536',\n",
       "   'lon': '-95.7156191',\n",
       "   'display_name': '932, Southwest Oakley Avenue, Monteith Place, Topeka, Shawnee County, Kansas, 66606, United States of America',\n",
       "   'address': {'house_number': '932',\n",
       "    'road': 'Southwest Oakley Avenue',\n",
       "    'residential': 'Monteith Place',\n",
       "    'city': 'Topeka',\n",
       "    'county': 'Shawnee County',\n",
       "    'state': 'Kansas',\n",
       "    'postcode': '66606',\n",
       "    'country': 'United States of America',\n",
       "    'country_code': 'us'},\n",
       "   'boundingbox': ['39.0518036', '39.0519036', '-95.7156691', '-95.7155691']}}]"
      ]
     },
     "execution_count": 120,
     "metadata": {},
     "output_type": "execute_result"
    }
   ],
   "source": [
    "location_json"
   ]
  },
  {
   "cell_type": "code",
   "execution_count": null,
   "metadata": {},
   "outputs": [],
   "source": [
    "    city = ''\n",
    "    \n",
    "    # cities\n",
    "    try:\n",
    "        city = location['address']['city']\n",
    "    except:\n",
    "        pass\n",
    "    \n",
    "    try:\n",
    "        city = location['address']['town']\n",
    "    except:\n",
    "        pass\n",
    "    \n",
    "    try:\n",
    "        city = location['address']['village']\n",
    "    except:\n",
    "        pass\n",
    "    \n",
    "    # skip entities with no city information\n",
    "    if city == \"\":\n",
    "        print(\"no city\")\n",
    "        print(location)\n",
    "        pass\n",
    "  \n",
    "    location_append.append({\n",
    "        'osm_place_id' : location['place_id'],\n",
    "        'city' : city,\n",
    "        'country' : location['address']['country'],\n",
    "        'country_code' : location['address']['country_code']\n",
    "    })"
   ]
  },
  {
   "cell_type": "code",
   "execution_count": 0,
   "metadata": {
    "colab": {
     "base_uri": "https://localhost:8080/",
     "height": 519
    },
    "colab_type": "code",
    "id": "3PmP9SkDyeQX",
    "outputId": "677fa135-1e99-4359-95ab-37c833ae7be8"
   },
   "outputs": [
    {
     "name": "stderr",
     "output_type": "stream",
     "text": [
      "/usr/local/lib/python3.6/dist-packages/geopy/geocoders/osm.py:143: UserWarning: Using Nominatim with the default \"geopy/1.17.0\" `user_agent` is strongly discouraged, as it violates Nominatim's ToS https://operations.osmfoundation.org/policies/nominatim/ and may possibly cause 403 and 429 HTTP errors. Please specify a custom `user_agent` with `Nominatim(user_agent=\"my-application\")` or by overriding the default `user_agent`: `geopy.geocoders.options.default_user_agent = \"my-application\"`. In geopy 2.0 this will become an exception.\n",
      "  UserWarning\n"
     ]
    },
    {
     "ename": "GeocoderTimedOut",
     "evalue": "ignored",
     "output_type": "error",
     "traceback": [
      "\u001b[0;31m---------------------------------------------------------------------------\u001b[0m",
      "\u001b[0;31mtimeout\u001b[0m                                   Traceback (most recent call last)",
      "\u001b[0;32m/usr/local/lib/python3.6/dist-packages/geopy/geocoders/base.py\u001b[0m in \u001b[0;36m_call_geocoder\u001b[0;34m(self, url, timeout, raw, requester, deserializer, **kwargs)\u001b[0m\n\u001b[1;32m    343\u001b[0m         \u001b[0;32mtry\u001b[0m\u001b[0;34m:\u001b[0m\u001b[0;34m\u001b[0m\u001b[0;34m\u001b[0m\u001b[0m\n\u001b[0;32m--> 344\u001b[0;31m             \u001b[0mpage\u001b[0m \u001b[0;34m=\u001b[0m \u001b[0mrequester\u001b[0m\u001b[0;34m(\u001b[0m\u001b[0mreq\u001b[0m\u001b[0;34m,\u001b[0m \u001b[0mtimeout\u001b[0m\u001b[0;34m=\u001b[0m\u001b[0mtimeout\u001b[0m\u001b[0;34m,\u001b[0m \u001b[0;34m**\u001b[0m\u001b[0mkwargs\u001b[0m\u001b[0;34m)\u001b[0m\u001b[0;34m\u001b[0m\u001b[0;34m\u001b[0m\u001b[0m\n\u001b[0m\u001b[1;32m    345\u001b[0m         \u001b[0;32mexcept\u001b[0m \u001b[0mException\u001b[0m \u001b[0;32mas\u001b[0m \u001b[0merror\u001b[0m\u001b[0;34m:\u001b[0m\u001b[0;34m\u001b[0m\u001b[0;34m\u001b[0m\u001b[0m\n",
      "\u001b[0;32m/usr/lib/python3.6/urllib/request.py\u001b[0m in \u001b[0;36mopen\u001b[0;34m(self, fullurl, data, timeout)\u001b[0m\n\u001b[1;32m    525\u001b[0m \u001b[0;34m\u001b[0m\u001b[0m\n\u001b[0;32m--> 526\u001b[0;31m         \u001b[0mresponse\u001b[0m \u001b[0;34m=\u001b[0m \u001b[0mself\u001b[0m\u001b[0;34m.\u001b[0m\u001b[0m_open\u001b[0m\u001b[0;34m(\u001b[0m\u001b[0mreq\u001b[0m\u001b[0;34m,\u001b[0m \u001b[0mdata\u001b[0m\u001b[0;34m)\u001b[0m\u001b[0;34m\u001b[0m\u001b[0;34m\u001b[0m\u001b[0m\n\u001b[0m\u001b[1;32m    527\u001b[0m \u001b[0;34m\u001b[0m\u001b[0m\n",
      "\u001b[0;32m/usr/lib/python3.6/urllib/request.py\u001b[0m in \u001b[0;36m_open\u001b[0;34m(self, req, data)\u001b[0m\n\u001b[1;32m    543\u001b[0m         result = self._call_chain(self.handle_open, protocol, protocol +\n\u001b[0;32m--> 544\u001b[0;31m                                   '_open', req)\n\u001b[0m\u001b[1;32m    545\u001b[0m         \u001b[0;32mif\u001b[0m \u001b[0mresult\u001b[0m\u001b[0;34m:\u001b[0m\u001b[0;34m\u001b[0m\u001b[0;34m\u001b[0m\u001b[0m\n",
      "\u001b[0;32m/usr/lib/python3.6/urllib/request.py\u001b[0m in \u001b[0;36m_call_chain\u001b[0;34m(self, chain, kind, meth_name, *args)\u001b[0m\n\u001b[1;32m    503\u001b[0m             \u001b[0mfunc\u001b[0m \u001b[0;34m=\u001b[0m \u001b[0mgetattr\u001b[0m\u001b[0;34m(\u001b[0m\u001b[0mhandler\u001b[0m\u001b[0;34m,\u001b[0m \u001b[0mmeth_name\u001b[0m\u001b[0;34m)\u001b[0m\u001b[0;34m\u001b[0m\u001b[0;34m\u001b[0m\u001b[0m\n\u001b[0;32m--> 504\u001b[0;31m             \u001b[0mresult\u001b[0m \u001b[0;34m=\u001b[0m \u001b[0mfunc\u001b[0m\u001b[0;34m(\u001b[0m\u001b[0;34m*\u001b[0m\u001b[0margs\u001b[0m\u001b[0;34m)\u001b[0m\u001b[0;34m\u001b[0m\u001b[0;34m\u001b[0m\u001b[0m\n\u001b[0m\u001b[1;32m    505\u001b[0m             \u001b[0;32mif\u001b[0m \u001b[0mresult\u001b[0m \u001b[0;32mis\u001b[0m \u001b[0;32mnot\u001b[0m \u001b[0;32mNone\u001b[0m\u001b[0;34m:\u001b[0m\u001b[0;34m\u001b[0m\u001b[0;34m\u001b[0m\u001b[0m\n",
      "\u001b[0;32m/usr/lib/python3.6/urllib/request.py\u001b[0m in \u001b[0;36mhttps_open\u001b[0;34m(self, req)\u001b[0m\n\u001b[1;32m   1367\u001b[0m             return self.do_open(http.client.HTTPSConnection, req,\n\u001b[0;32m-> 1368\u001b[0;31m                 context=self._context, check_hostname=self._check_hostname)\n\u001b[0m\u001b[1;32m   1369\u001b[0m \u001b[0;34m\u001b[0m\u001b[0m\n",
      "\u001b[0;32m/usr/lib/python3.6/urllib/request.py\u001b[0m in \u001b[0;36mdo_open\u001b[0;34m(self, http_class, req, **http_conn_args)\u001b[0m\n\u001b[1;32m   1327\u001b[0m                 \u001b[0;32mraise\u001b[0m \u001b[0mURLError\u001b[0m\u001b[0;34m(\u001b[0m\u001b[0merr\u001b[0m\u001b[0;34m)\u001b[0m\u001b[0;34m\u001b[0m\u001b[0;34m\u001b[0m\u001b[0m\n\u001b[0;32m-> 1328\u001b[0;31m             \u001b[0mr\u001b[0m \u001b[0;34m=\u001b[0m \u001b[0mh\u001b[0m\u001b[0;34m.\u001b[0m\u001b[0mgetresponse\u001b[0m\u001b[0;34m(\u001b[0m\u001b[0;34m)\u001b[0m\u001b[0;34m\u001b[0m\u001b[0;34m\u001b[0m\u001b[0m\n\u001b[0m\u001b[1;32m   1329\u001b[0m         \u001b[0;32mexcept\u001b[0m\u001b[0;34m:\u001b[0m\u001b[0;34m\u001b[0m\u001b[0;34m\u001b[0m\u001b[0m\n",
      "\u001b[0;32m/usr/lib/python3.6/http/client.py\u001b[0m in \u001b[0;36mgetresponse\u001b[0;34m(self)\u001b[0m\n\u001b[1;32m   1355\u001b[0m             \u001b[0;32mtry\u001b[0m\u001b[0;34m:\u001b[0m\u001b[0;34m\u001b[0m\u001b[0;34m\u001b[0m\u001b[0m\n\u001b[0;32m-> 1356\u001b[0;31m                 \u001b[0mresponse\u001b[0m\u001b[0;34m.\u001b[0m\u001b[0mbegin\u001b[0m\u001b[0;34m(\u001b[0m\u001b[0;34m)\u001b[0m\u001b[0;34m\u001b[0m\u001b[0;34m\u001b[0m\u001b[0m\n\u001b[0m\u001b[1;32m   1357\u001b[0m             \u001b[0;32mexcept\u001b[0m \u001b[0mConnectionError\u001b[0m\u001b[0;34m:\u001b[0m\u001b[0;34m\u001b[0m\u001b[0;34m\u001b[0m\u001b[0m\n",
      "\u001b[0;32m/usr/lib/python3.6/http/client.py\u001b[0m in \u001b[0;36mbegin\u001b[0;34m(self)\u001b[0m\n\u001b[1;32m    306\u001b[0m         \u001b[0;32mwhile\u001b[0m \u001b[0;32mTrue\u001b[0m\u001b[0;34m:\u001b[0m\u001b[0;34m\u001b[0m\u001b[0;34m\u001b[0m\u001b[0m\n\u001b[0;32m--> 307\u001b[0;31m             \u001b[0mversion\u001b[0m\u001b[0;34m,\u001b[0m \u001b[0mstatus\u001b[0m\u001b[0;34m,\u001b[0m \u001b[0mreason\u001b[0m \u001b[0;34m=\u001b[0m \u001b[0mself\u001b[0m\u001b[0;34m.\u001b[0m\u001b[0m_read_status\u001b[0m\u001b[0;34m(\u001b[0m\u001b[0;34m)\u001b[0m\u001b[0;34m\u001b[0m\u001b[0;34m\u001b[0m\u001b[0m\n\u001b[0m\u001b[1;32m    308\u001b[0m             \u001b[0;32mif\u001b[0m \u001b[0mstatus\u001b[0m \u001b[0;34m!=\u001b[0m \u001b[0mCONTINUE\u001b[0m\u001b[0;34m:\u001b[0m\u001b[0;34m\u001b[0m\u001b[0;34m\u001b[0m\u001b[0m\n",
      "\u001b[0;32m/usr/lib/python3.6/http/client.py\u001b[0m in \u001b[0;36m_read_status\u001b[0;34m(self)\u001b[0m\n\u001b[1;32m    267\u001b[0m     \u001b[0;32mdef\u001b[0m \u001b[0m_read_status\u001b[0m\u001b[0;34m(\u001b[0m\u001b[0mself\u001b[0m\u001b[0;34m)\u001b[0m\u001b[0;34m:\u001b[0m\u001b[0;34m\u001b[0m\u001b[0;34m\u001b[0m\u001b[0m\n\u001b[0;32m--> 268\u001b[0;31m         \u001b[0mline\u001b[0m \u001b[0;34m=\u001b[0m \u001b[0mstr\u001b[0m\u001b[0;34m(\u001b[0m\u001b[0mself\u001b[0m\u001b[0;34m.\u001b[0m\u001b[0mfp\u001b[0m\u001b[0;34m.\u001b[0m\u001b[0mreadline\u001b[0m\u001b[0;34m(\u001b[0m\u001b[0m_MAXLINE\u001b[0m \u001b[0;34m+\u001b[0m \u001b[0;36m1\u001b[0m\u001b[0;34m)\u001b[0m\u001b[0;34m,\u001b[0m \u001b[0;34m\"iso-8859-1\"\u001b[0m\u001b[0;34m)\u001b[0m\u001b[0;34m\u001b[0m\u001b[0;34m\u001b[0m\u001b[0m\n\u001b[0m\u001b[1;32m    269\u001b[0m         \u001b[0;32mif\u001b[0m \u001b[0mlen\u001b[0m\u001b[0;34m(\u001b[0m\u001b[0mline\u001b[0m\u001b[0;34m)\u001b[0m \u001b[0;34m>\u001b[0m \u001b[0m_MAXLINE\u001b[0m\u001b[0;34m:\u001b[0m\u001b[0;34m\u001b[0m\u001b[0;34m\u001b[0m\u001b[0m\n",
      "\u001b[0;32m/usr/lib/python3.6/socket.py\u001b[0m in \u001b[0;36mreadinto\u001b[0;34m(self, b)\u001b[0m\n\u001b[1;32m    585\u001b[0m             \u001b[0;32mtry\u001b[0m\u001b[0;34m:\u001b[0m\u001b[0;34m\u001b[0m\u001b[0;34m\u001b[0m\u001b[0m\n\u001b[0;32m--> 586\u001b[0;31m                 \u001b[0;32mreturn\u001b[0m \u001b[0mself\u001b[0m\u001b[0;34m.\u001b[0m\u001b[0m_sock\u001b[0m\u001b[0;34m.\u001b[0m\u001b[0mrecv_into\u001b[0m\u001b[0;34m(\u001b[0m\u001b[0mb\u001b[0m\u001b[0;34m)\u001b[0m\u001b[0;34m\u001b[0m\u001b[0;34m\u001b[0m\u001b[0m\n\u001b[0m\u001b[1;32m    587\u001b[0m             \u001b[0;32mexcept\u001b[0m \u001b[0mtimeout\u001b[0m\u001b[0;34m:\u001b[0m\u001b[0;34m\u001b[0m\u001b[0;34m\u001b[0m\u001b[0m\n",
      "\u001b[0;32m/usr/lib/python3.6/ssl.py\u001b[0m in \u001b[0;36mrecv_into\u001b[0;34m(self, buffer, nbytes, flags)\u001b[0m\n\u001b[1;32m   1011\u001b[0m                   self.__class__)\n\u001b[0;32m-> 1012\u001b[0;31m             \u001b[0;32mreturn\u001b[0m \u001b[0mself\u001b[0m\u001b[0;34m.\u001b[0m\u001b[0mread\u001b[0m\u001b[0;34m(\u001b[0m\u001b[0mnbytes\u001b[0m\u001b[0;34m,\u001b[0m \u001b[0mbuffer\u001b[0m\u001b[0;34m)\u001b[0m\u001b[0;34m\u001b[0m\u001b[0;34m\u001b[0m\u001b[0m\n\u001b[0m\u001b[1;32m   1013\u001b[0m         \u001b[0;32melse\u001b[0m\u001b[0;34m:\u001b[0m\u001b[0;34m\u001b[0m\u001b[0;34m\u001b[0m\u001b[0m\n",
      "\u001b[0;32m/usr/lib/python3.6/ssl.py\u001b[0m in \u001b[0;36mread\u001b[0;34m(self, len, buffer)\u001b[0m\n\u001b[1;32m    873\u001b[0m         \u001b[0;32mtry\u001b[0m\u001b[0;34m:\u001b[0m\u001b[0;34m\u001b[0m\u001b[0;34m\u001b[0m\u001b[0m\n\u001b[0;32m--> 874\u001b[0;31m             \u001b[0;32mreturn\u001b[0m \u001b[0mself\u001b[0m\u001b[0;34m.\u001b[0m\u001b[0m_sslobj\u001b[0m\u001b[0;34m.\u001b[0m\u001b[0mread\u001b[0m\u001b[0;34m(\u001b[0m\u001b[0mlen\u001b[0m\u001b[0;34m,\u001b[0m \u001b[0mbuffer\u001b[0m\u001b[0;34m)\u001b[0m\u001b[0;34m\u001b[0m\u001b[0;34m\u001b[0m\u001b[0m\n\u001b[0m\u001b[1;32m    875\u001b[0m         \u001b[0;32mexcept\u001b[0m \u001b[0mSSLError\u001b[0m \u001b[0;32mas\u001b[0m \u001b[0mx\u001b[0m\u001b[0;34m:\u001b[0m\u001b[0;34m\u001b[0m\u001b[0;34m\u001b[0m\u001b[0m\n",
      "\u001b[0;32m/usr/lib/python3.6/ssl.py\u001b[0m in \u001b[0;36mread\u001b[0;34m(self, len, buffer)\u001b[0m\n\u001b[1;32m    630\u001b[0m         \u001b[0;32mif\u001b[0m \u001b[0mbuffer\u001b[0m \u001b[0;32mis\u001b[0m \u001b[0;32mnot\u001b[0m \u001b[0;32mNone\u001b[0m\u001b[0;34m:\u001b[0m\u001b[0;34m\u001b[0m\u001b[0;34m\u001b[0m\u001b[0m\n\u001b[0;32m--> 631\u001b[0;31m             \u001b[0mv\u001b[0m \u001b[0;34m=\u001b[0m \u001b[0mself\u001b[0m\u001b[0;34m.\u001b[0m\u001b[0m_sslobj\u001b[0m\u001b[0;34m.\u001b[0m\u001b[0mread\u001b[0m\u001b[0;34m(\u001b[0m\u001b[0mlen\u001b[0m\u001b[0;34m,\u001b[0m \u001b[0mbuffer\u001b[0m\u001b[0;34m)\u001b[0m\u001b[0;34m\u001b[0m\u001b[0;34m\u001b[0m\u001b[0m\n\u001b[0m\u001b[1;32m    632\u001b[0m         \u001b[0;32melse\u001b[0m\u001b[0;34m:\u001b[0m\u001b[0;34m\u001b[0m\u001b[0;34m\u001b[0m\u001b[0m\n",
      "\u001b[0;31mtimeout\u001b[0m: The read operation timed out",
      "\nDuring handling of the above exception, another exception occurred:\n",
      "\u001b[0;31mGeocoderTimedOut\u001b[0m                          Traceback (most recent call last)",
      "\u001b[0;32m<ipython-input-63-9c4452894757>\u001b[0m in \u001b[0;36m<module>\u001b[0;34m()\u001b[0m\n\u001b[1;32m      2\u001b[0m \u001b[0;34m\u001b[0m\u001b[0m\n\u001b[1;32m      3\u001b[0m \u001b[0;32mfor\u001b[0m \u001b[0mindex\u001b[0m\u001b[0;34m,\u001b[0m \u001b[0mrow\u001b[0m \u001b[0;32min\u001b[0m \u001b[0mplaces\u001b[0m\u001b[0;34m.\u001b[0m\u001b[0miterrows\u001b[0m\u001b[0;34m(\u001b[0m\u001b[0;34m)\u001b[0m\u001b[0;34m:\u001b[0m\u001b[0;34m\u001b[0m\u001b[0;34m\u001b[0m\u001b[0m\n\u001b[0;32m----> 4\u001b[0;31m   \u001b[0mrow\u001b[0m\u001b[0;34m[\u001b[0m\u001b[0;34m'loc_json'\u001b[0m\u001b[0;34m]\u001b[0m \u001b[0;34m=\u001b[0m \u001b[0mgeolocator\u001b[0m\u001b[0;34m.\u001b[0m\u001b[0mreverse\u001b[0m\u001b[0;34m(\u001b[0m\u001b[0mstr\u001b[0m\u001b[0;34m(\u001b[0m\u001b[0mrow\u001b[0m\u001b[0;34m[\u001b[0m\u001b[0;34m\"lat\"\u001b[0m\u001b[0;34m]\u001b[0m\u001b[0;34m)\u001b[0m \u001b[0;34m+\u001b[0m \u001b[0;34m\", \"\u001b[0m \u001b[0;34m+\u001b[0m \u001b[0mstr\u001b[0m\u001b[0;34m(\u001b[0m\u001b[0mrow\u001b[0m\u001b[0;34m[\u001b[0m\u001b[0;34m\"long\"\u001b[0m\u001b[0;34m]\u001b[0m\u001b[0;34m)\u001b[0m\u001b[0;34m)\u001b[0m\u001b[0;34m.\u001b[0m\u001b[0mraw\u001b[0m\u001b[0;34m\u001b[0m\u001b[0;34m\u001b[0m\u001b[0m\n\u001b[0m",
      "\u001b[0;32m/usr/local/lib/python3.6/dist-packages/geopy/geocoders/osm.py\u001b[0m in \u001b[0;36mreverse\u001b[0;34m(self, query, exactly_one, timeout, language, addressdetails)\u001b[0m\n\u001b[1;32m    367\u001b[0m \u001b[0;34m\u001b[0m\u001b[0m\n\u001b[1;32m    368\u001b[0m         return self._parse_json(\n\u001b[0;32m--> 369\u001b[0;31m             \u001b[0mself\u001b[0m\u001b[0;34m.\u001b[0m\u001b[0m_call_geocoder\u001b[0m\u001b[0;34m(\u001b[0m\u001b[0murl\u001b[0m\u001b[0;34m,\u001b[0m \u001b[0mtimeout\u001b[0m\u001b[0;34m=\u001b[0m\u001b[0mtimeout\u001b[0m\u001b[0;34m)\u001b[0m\u001b[0;34m,\u001b[0m \u001b[0mexactly_one\u001b[0m\u001b[0;34m\u001b[0m\u001b[0;34m\u001b[0m\u001b[0m\n\u001b[0m\u001b[1;32m    370\u001b[0m         )\n\u001b[1;32m    371\u001b[0m \u001b[0;34m\u001b[0m\u001b[0m\n",
      "\u001b[0;32m/usr/local/lib/python3.6/dist-packages/geopy/geocoders/base.py\u001b[0m in \u001b[0;36m_call_geocoder\u001b[0;34m(self, url, timeout, raw, requester, deserializer, **kwargs)\u001b[0m\n\u001b[1;32m    369\u001b[0m                     \u001b[0;32mraise\u001b[0m \u001b[0mGeocoderUnavailable\u001b[0m\u001b[0;34m(\u001b[0m\u001b[0;34m'Service not available'\u001b[0m\u001b[0;34m)\u001b[0m\u001b[0;34m\u001b[0m\u001b[0;34m\u001b[0m\u001b[0m\n\u001b[1;32m    370\u001b[0m             \u001b[0;32melif\u001b[0m \u001b[0misinstance\u001b[0m\u001b[0;34m(\u001b[0m\u001b[0merror\u001b[0m\u001b[0;34m,\u001b[0m \u001b[0mSocketTimeout\u001b[0m\u001b[0;34m)\u001b[0m\u001b[0;34m:\u001b[0m\u001b[0;34m\u001b[0m\u001b[0;34m\u001b[0m\u001b[0m\n\u001b[0;32m--> 371\u001b[0;31m                 \u001b[0;32mraise\u001b[0m \u001b[0mGeocoderTimedOut\u001b[0m\u001b[0;34m(\u001b[0m\u001b[0;34m'Service timed out'\u001b[0m\u001b[0;34m)\u001b[0m\u001b[0;34m\u001b[0m\u001b[0;34m\u001b[0m\u001b[0m\n\u001b[0m\u001b[1;32m    372\u001b[0m             \u001b[0;32melif\u001b[0m \u001b[0misinstance\u001b[0m\u001b[0;34m(\u001b[0m\u001b[0merror\u001b[0m\u001b[0;34m,\u001b[0m \u001b[0mSSLError\u001b[0m\u001b[0;34m)\u001b[0m\u001b[0;34m:\u001b[0m\u001b[0;34m\u001b[0m\u001b[0;34m\u001b[0m\u001b[0m\n\u001b[1;32m    373\u001b[0m                 \u001b[0;32mif\u001b[0m \u001b[0;34m\"timed out\"\u001b[0m \u001b[0;32min\u001b[0m \u001b[0mmessage\u001b[0m\u001b[0;34m:\u001b[0m\u001b[0;34m\u001b[0m\u001b[0;34m\u001b[0m\u001b[0m\n",
      "\u001b[0;31mGeocoderTimedOut\u001b[0m: Service timed out"
     ]
    }
   ],
   "source": [
    "geolocator = Nominatim()\n",
    "\n",
    "for index, row in places.iterrows():\n",
    "  row['loc_json'] = geolocator.reverse(str(row[\"lat\"]) + \", \" + str(row[\"long\"])).raw"
   ]
  },
  {
   "cell_type": "markdown",
   "metadata": {
    "colab_type": "text",
    "id": "Vc34EgY2sP_R"
   },
   "source": [
    "## Graph Representations\n",
    "\n",
    "* having some issues importing Stanford Snap (conflicts with another library called snap)\n",
    "* I'm going to try iGraph in the meantime\n",
    "\n",
    "### Limitations\n",
    "\n",
    "* the max userID will be the number of edges required in the graph (assumption)\n",
    "* using the maximum number of nodes in the graph (196591) takes a long time to generate the graph\n",
    "  * this I would assume makes the algorithms for these graphs tricky to run\n",
    "  * I could also be adding the edges in an unefficient way (explore ways of generating graphs)\n",
    "    * might be better to add edges in batches instead of one edge at a time (explore this)\n",
    "\n",
    "#### Ways to set limits\n",
    "* we can limit the groups to the first n number of users (example only nodes 0 - 1000)\n",
    "  * however under the assumption that userIDs are added based on the time the user adds themselves to the network, then there will be a lot of graphs that aren't connected because they are in geographically seperate locations\n",
    "* a better soltuion would be to take a group of n people in close proximety of one another\n",
    "  * we could find the average latitude and longitude of a users and record this as the area they are generally in\n",
    "  * we'll then randomly select a user and select the n amount of people closest to this user (ranking by the distance between their average locations)\n"
   ]
  },
  {
   "cell_type": "code",
   "execution_count": 0,
   "metadata": {
    "colab": {
     "base_uri": "https://localhost:8080/",
     "height": 35
    },
    "colab_type": "code",
    "id": "u4o3JaqkspRc",
    "outputId": "b4049289-ad49-4073-bc22-4bdd626af1ab"
   },
   "outputs": [
    {
     "data": {
      "text/plain": [
       "196590"
      ]
     },
     "execution_count": 68,
     "metadata": {
      "tags": []
     },
     "output_type": "execute_result"
    }
   ],
   "source": [
    "edgesG = Graph()\n",
    "total_edges = max(edges['u1'].max(), edges['u2'].max())\n",
    "total_edges"
   ]
  },
  {
   "cell_type": "code",
   "execution_count": 0,
   "metadata": {
    "colab": {},
    "colab_type": "code",
    "id": "B9QhZryu1hTX"
   },
   "outputs": [],
   "source": [
    "edgesG.add_vertices(total_edges)"
   ]
  },
  {
   "cell_type": "code",
   "execution_count": 0,
   "metadata": {
    "colab": {},
    "colab_type": "code",
    "id": "eW-zer7Uz6g6"
   },
   "outputs": [],
   "source": [
    "# this takes too long; there's got to be a better way!\n",
    "\n",
    "for i in range(len(edges)):\n",
    "  edgesG.add_edge(edges.loc[i, \"u1\"], edges.loc[i, \"u2\"])"
   ]
  },
  {
   "cell_type": "markdown",
   "metadata": {
    "colab_type": "text",
    "id": "QHJo-Twy69xq"
   },
   "source": [
    "## Map APIs\n",
    "\n",
    "* important for querying specific information about locations people visit\n",
    "* data visualization is not an essential part of the project, but is worth exploring if data visualization is easy"
   ]
  },
  {
   "cell_type": "markdown",
   "metadata": {
    "colab_type": "text",
    "id": "4VuliqhVBA4_"
   },
   "source": [
    "### Notes About OSM\n",
    "* [OpenStreetMap Article](https://towardsdatascience.com/loading-data-from-openstreetmap-with-python-and-the-overpass-api-513882a27fd0)\n",
    "\n",
    "* We will be using the Overpass API to get information about our locations\n",
    "  * [Overpass Querying Language](https://wiki.openstreetmap.org/wiki/Overpass_API/Overpass_QL)\n",
    "  * [Site for Testing Overpass Queries](http://overpass-turbo.eu/)\n",
    "\n",
    "\n",
    "* **node**: a specific lat, long point\n",
    "* **relation**: a region (typically for buildings that require multiple polygons\n",
    "  * probably will be using this for our project (need a way to query if a user's location is in a certain relation)\n",
    "  * includes tags which can helps us "
   ]
  },
  {
   "cell_type": "code",
   "execution_count": 0,
   "metadata": {
    "colab": {},
    "colab_type": "code",
    "id": "-GvF3_Rz7FoG"
   },
   "outputs": [],
   "source": [
    "# example of an overpass query that collects all the biergartens in germany\n",
    "# there are a lot of biergartens in Germany lol; so the query will take long to run \n",
    "# notice that it includes every OpenStreetMap datatype (node, way, rel); maybe there are biergarten streets? (way)\n",
    "\n",
    "import requests\n",
    "import json\n",
    "\n",
    "overpass_url = \"http://overpass-api.de/api/interpreter\"\n",
    "overpass_query = \"\"\"\n",
    "[out:json];\n",
    "area[\"ISO3166-1\"=\"DE\"][admin_level=2];\n",
    "(node[\"amenity\"=\"biergarten\"](area);\n",
    " way[\"amenity\"=\"biergarten\"](area);\n",
    " rel[\"amenity\"=\"biergarten\"](area);\n",
    ");\n",
    "out center;\n",
    "\"\"\"\n",
    "response = requests.get(overpass_url, \n",
    "                        params={'data': overpass_query})\n",
    "data = response.json()"
   ]
  },
  {
   "cell_type": "code",
   "execution_count": 0,
   "metadata": {
    "colab": {
     "base_uri": "https://localhost:8080/",
     "height": 1000
    },
    "colab_type": "code",
    "id": "2yXJ3Ait83sN",
    "outputId": "0a914508-ca5a-4de7-ab38-8efc2286231f"
   },
   "outputs": [
    {
     "data": {
      "text/plain": [
       "[{'id': 27318009,\n",
       "  'lat': 52.4200885,\n",
       "  'lon': 13.1763456,\n",
       "  'tags': {'addr:city': 'Berlin',\n",
       "   'addr:housenumber': '260',\n",
       "   'addr:postcode': '14109',\n",
       "   'addr:street': 'Kronprinzessinnenweg',\n",
       "   'amenity': 'biergarten',\n",
       "   'contact:email': 'info@loretta-berlin.de',\n",
       "   'contact:fax': '+49 30 80105334',\n",
       "   'contact:phone': '+49 30 80105333',\n",
       "   'contact:website': 'https://www.loretta-wannsee.de/biergarten/',\n",
       "   'name': 'Loretta',\n",
       "   'opening_hours': '12:00+',\n",
       "   'wheelchair': 'limited'},\n",
       "  'type': 'node'},\n",
       " {'id': 27352197,\n",
       "  'lat': 50.3638373,\n",
       "  'lon': 7.5769021,\n",
       "  'tags': {'amenity': 'biergarten', 'wheelchair': 'limited'},\n",
       "  'type': 'node'},\n",
       " {'id': 27787909,\n",
       "  'lat': 52.9822191,\n",
       "  'lon': 8.845254,\n",
       "  'tags': {'amenity': 'biergarten',\n",
       "   'name': 'Schwarzbiergarten',\n",
       "   'wheelchair': 'limited'},\n",
       "  'type': 'node'},\n",
       " {'id': 29812167,\n",
       "  'lat': 49.4814353,\n",
       "  'lon': 10.993033,\n",
       "  'tags': {'amenity': 'biergarten',\n",
       "   'toilets:wheelchair': 'no',\n",
       "   'wheelchair': 'limited'},\n",
       "  'type': 'node'},\n",
       " {'id': 32628620,\n",
       "  'lat': 47.9927509,\n",
       "  'lon': 7.8558873,\n",
       "  'tags': {'addr:city': 'Freiburg im Breisgau',\n",
       "   'addr:housenumber': '3',\n",
       "   'addr:postcode': '79098',\n",
       "   'addr:street': 'Schlossbergring',\n",
       "   'amenity': 'biergarten',\n",
       "   'contact:email': 'info@kastaniengarten-freiburg.de',\n",
       "   'contact:fax': '+49 761 289602',\n",
       "   'contact:phone': '+49 761 32728',\n",
       "   'contact:website': 'http://www.kastaniengarten-freiburg.de/',\n",
       "   'name': 'Kastaniengarten',\n",
       "   'opening_hours': 'Mo-Su 11:00-24:00',\n",
       "   'phone': '+49 761 32728',\n",
       "   'toilets:wheelchair': 'no',\n",
       "   'website': 'http://www.greiffenegg.de/kastaniengarten.html',\n",
       "   'wheelchair': 'limited'},\n",
       "  'type': 'node'}]"
      ]
     },
     "execution_count": 90,
     "metadata": {
      "tags": []
     },
     "output_type": "execute_result"
    }
   ],
   "source": [
    "# notice how descriptive the API is for relations\n",
    "\n",
    "data['elements'][5:10]"
   ]
  },
  {
   "cell_type": "markdown",
   "metadata": {
    "colab_type": "text",
    "id": "xLmuNT6hLjZl"
   },
   "source": [
    "# Sources\n",
    "\n",
    "A collection of sources to include in the final paper:\n",
    "\n",
    "* [OpenStreetMap Article](https://towardsdatascience.com/loading-data-from-openstreetmap-with-python-and-the-overpass-api-513882a27fd0)"
   ]
  },
  {
   "cell_type": "code",
   "execution_count": 0,
   "metadata": {
    "colab": {},
    "colab_type": "code",
    "id": "Bmd_-LgAIMs8"
   },
   "outputs": [],
   "source": []
  }
 ],
 "metadata": {
  "colab": {
   "collapsed_sections": [],
   "name": "CSC481_Project.ipynb",
   "provenance": [],
   "toc_visible": true
  },
  "kernelspec": {
   "display_name": "Python 3",
   "language": "python",
   "name": "python3"
  },
  "language_info": {
   "codemirror_mode": {
    "name": "ipython",
    "version": 3
   },
   "file_extension": ".py",
   "mimetype": "text/x-python",
   "name": "python",
   "nbconvert_exporter": "python",
   "pygments_lexer": "ipython3",
   "version": "3.7.6"
  }
 },
 "nbformat": 4,
 "nbformat_minor": 1
}

{
 "cells": [
  {
   "cell_type": "markdown",
   "metadata": {
    "colab_type": "text",
    "id": "oTroG4NJ3hRb"
   },
   "source": [
    "# CSC 481 Project \n",
    "\n",
    "Ayan Patel, Robert Hensley\n",
    "\n",
    "* [Gowalla Dataset](https://snap.stanford.edu/data/loc-gowalla.html)"
   ]
  },
  {
   "cell_type": "markdown",
   "metadata": {
    "colab_type": "text",
    "id": "awcG8UUHvMkE"
   },
   "source": [
    "\n",
    "\n",
    "---\n",
    "\n"
   ]
  },
  {
   "cell_type": "code",
   "execution_count": 5,
   "metadata": {
    "colab": {
     "base_uri": "https://localhost:8080/",
     "height": 168
    },
    "colab_type": "code",
    "id": "o97-EZtj3FOg",
    "outputId": "40794ba2-5734-4921-d420-7f58a0ebee75"
   },
   "outputs": [
    {
     "name": "stdout",
     "output_type": "stream",
     "text": [
      "Requirement already satisfied: python-igraph in c:\\users\\ayan\\anaconda3\\lib\\site-packages (0.8.2)\n",
      "Requirement already satisfied: texttable>=1.6.2 in c:\\users\\ayan\\anaconda3\\lib\\site-packages (from python-igraph) (1.6.2)\n",
      "Collecting geopy\n",
      "  Downloading https://files.pythonhosted.org/packages/ab/97/25def417bf5db4cc6b89b47a56961b893d4ee4fec0c335f5b9476a8ff153/geopy-1.22.0-py2.py3-none-any.whl (113kB)\n",
      "Collecting geographiclib<2,>=1.49 (from geopy)\n",
      "  Downloading https://files.pythonhosted.org/packages/8b/62/26ec95a98ba64299163199e95ad1b0e34ad3f4e176e221c40245f211e425/geographiclib-1.50-py3-none-any.whl\n",
      "Installing collected packages: geographiclib, geopy\n",
      "Successfully installed geographiclib-1.50 geopy-1.22.0\n"
     ]
    }
   ],
   "source": [
    "# !pip install snap-stanford\n",
    "!pip install python-igraph\n",
    "!pip install geopy"
   ]
  },
  {
   "cell_type": "code",
   "execution_count": 2,
   "metadata": {
    "colab": {},
    "colab_type": "code",
    "id": "VwrNPT2ww5Pn"
   },
   "outputs": [],
   "source": [
    "# import snap ???\n",
    "import igraph\n",
    "from igraph import *\n",
    "\n",
    "import pandas as pd\n",
    "\n",
    "import time\n",
    "from datetime import datetime\n",
    "\n",
    "import geopy\n",
    "from geopy.geocoders import Nominatim"
   ]
  },
  {
   "cell_type": "markdown",
   "metadata": {
    "colab_type": "text",
    "id": "NpqW2Upl4fm5"
   },
   "source": [
    "## Loading Data\n",
    "\n",
    "* this can takes 3 - 5 minutes to fully load all dataframes"
   ]
  },
  {
   "cell_type": "code",
   "execution_count": 3,
   "metadata": {
    "colab": {
     "base_uri": "https://localhost:8080/",
     "height": 131
    },
    "colab_type": "code",
    "id": "I1EbbKnAy9vJ",
    "outputId": "b1405774-16bb-4992-8be5-34438702a121"
   },
   "outputs": [],
   "source": [
    "data_path = 'data/'\n",
    "\n",
    "# creating dataframes\n",
    "edges = pd.read_csv(data_path + 'Gowalla_edges.txt', sep='\\t', names=['u1', 'u2'])\n",
    "totalCheckins = pd.read_csv(data_path + 'Gowalla_totalCheckins.txt', sep='\\t',\n",
    "                            names=['user', 'time', 'lat', 'long', 'locid'])\n",
    "\n",
    "totalCheckins['time'] = totalCheckins['time'].map(lambda x: datetime.strptime(x, \"%Y-%m-%dT%H:%M:%SZ\"))"
   ]
  },
  {
   "cell_type": "code",
   "execution_count": 7,
   "metadata": {
    "colab": {
     "base_uri": "https://localhost:8080/",
     "height": 424
    },
    "colab_type": "code",
    "id": "UoqfogdT0uoM",
    "outputId": "c6156307-d8c6-442b-8b8e-bb9b844b0395"
   },
   "outputs": [
    {
     "data": {
      "text/html": [
       "<div>\n",
       "<style scoped>\n",
       "    .dataframe tbody tr th:only-of-type {\n",
       "        vertical-align: middle;\n",
       "    }\n",
       "\n",
       "    .dataframe tbody tr th {\n",
       "        vertical-align: top;\n",
       "    }\n",
       "\n",
       "    .dataframe thead th {\n",
       "        text-align: right;\n",
       "    }\n",
       "</style>\n",
       "<table border=\"1\" class=\"dataframe\">\n",
       "  <thead>\n",
       "    <tr style=\"text-align: right;\">\n",
       "      <th></th>\n",
       "      <th>user</th>\n",
       "      <th>time</th>\n",
       "      <th>lat</th>\n",
       "      <th>long</th>\n",
       "      <th>locid</th>\n",
       "    </tr>\n",
       "  </thead>\n",
       "  <tbody>\n",
       "    <tr>\n",
       "      <td>0</td>\n",
       "      <td>0</td>\n",
       "      <td>2010-10-19 23:55:27</td>\n",
       "      <td>30.235909</td>\n",
       "      <td>-97.795140</td>\n",
       "      <td>22847</td>\n",
       "    </tr>\n",
       "    <tr>\n",
       "      <td>1</td>\n",
       "      <td>0</td>\n",
       "      <td>2010-10-18 22:17:43</td>\n",
       "      <td>30.269103</td>\n",
       "      <td>-97.749395</td>\n",
       "      <td>420315</td>\n",
       "    </tr>\n",
       "    <tr>\n",
       "      <td>2</td>\n",
       "      <td>0</td>\n",
       "      <td>2010-10-17 23:42:03</td>\n",
       "      <td>30.255731</td>\n",
       "      <td>-97.763386</td>\n",
       "      <td>316637</td>\n",
       "    </tr>\n",
       "    <tr>\n",
       "      <td>3</td>\n",
       "      <td>0</td>\n",
       "      <td>2010-10-17 19:26:05</td>\n",
       "      <td>30.263418</td>\n",
       "      <td>-97.757597</td>\n",
       "      <td>16516</td>\n",
       "    </tr>\n",
       "    <tr>\n",
       "      <td>4</td>\n",
       "      <td>0</td>\n",
       "      <td>2010-10-16 18:50:42</td>\n",
       "      <td>30.274292</td>\n",
       "      <td>-97.740523</td>\n",
       "      <td>5535878</td>\n",
       "    </tr>\n",
       "    <tr>\n",
       "      <td>...</td>\n",
       "      <td>...</td>\n",
       "      <td>...</td>\n",
       "      <td>...</td>\n",
       "      <td>...</td>\n",
       "      <td>...</td>\n",
       "    </tr>\n",
       "    <tr>\n",
       "      <td>6442887</td>\n",
       "      <td>196578</td>\n",
       "      <td>2010-06-11 13:32:26</td>\n",
       "      <td>51.742988</td>\n",
       "      <td>-0.488065</td>\n",
       "      <td>906885</td>\n",
       "    </tr>\n",
       "    <tr>\n",
       "      <td>6442888</td>\n",
       "      <td>196578</td>\n",
       "      <td>2010-06-11 13:26:45</td>\n",
       "      <td>51.746492</td>\n",
       "      <td>-0.490780</td>\n",
       "      <td>965121</td>\n",
       "    </tr>\n",
       "    <tr>\n",
       "      <td>6442889</td>\n",
       "      <td>196578</td>\n",
       "      <td>2010-06-11 13:26:34</td>\n",
       "      <td>51.741916</td>\n",
       "      <td>-0.496729</td>\n",
       "      <td>1174322</td>\n",
       "    </tr>\n",
       "    <tr>\n",
       "      <td>6442890</td>\n",
       "      <td>196585</td>\n",
       "      <td>2010-10-08 21:01:49</td>\n",
       "      <td>50.105516</td>\n",
       "      <td>8.571525</td>\n",
       "      <td>471724</td>\n",
       "    </tr>\n",
       "    <tr>\n",
       "      <td>6442891</td>\n",
       "      <td>196585</td>\n",
       "      <td>2010-10-07 17:39:18</td>\n",
       "      <td>50.027812</td>\n",
       "      <td>8.785098</td>\n",
       "      <td>4555073</td>\n",
       "    </tr>\n",
       "  </tbody>\n",
       "</table>\n",
       "<p>6442892 rows × 5 columns</p>\n",
       "</div>"
      ],
      "text/plain": [
       "           user                time        lat       long    locid\n",
       "0             0 2010-10-19 23:55:27  30.235909 -97.795140    22847\n",
       "1             0 2010-10-18 22:17:43  30.269103 -97.749395   420315\n",
       "2             0 2010-10-17 23:42:03  30.255731 -97.763386   316637\n",
       "3             0 2010-10-17 19:26:05  30.263418 -97.757597    16516\n",
       "4             0 2010-10-16 18:50:42  30.274292 -97.740523  5535878\n",
       "...         ...                 ...        ...        ...      ...\n",
       "6442887  196578 2010-06-11 13:32:26  51.742988  -0.488065   906885\n",
       "6442888  196578 2010-06-11 13:26:45  51.746492  -0.490780   965121\n",
       "6442889  196578 2010-06-11 13:26:34  51.741916  -0.496729  1174322\n",
       "6442890  196585 2010-10-08 21:01:49  50.105516   8.571525   471724\n",
       "6442891  196585 2010-10-07 17:39:18  50.027812   8.785098  4555073\n",
       "\n",
       "[6442892 rows x 5 columns]"
      ]
     },
     "execution_count": 7,
     "metadata": {},
     "output_type": "execute_result"
    }
   ],
   "source": [
    "totalCheckins"
   ]
  },
  {
   "cell_type": "code",
   "execution_count": 8,
   "metadata": {
    "colab": {
     "base_uri": "https://localhost:8080/",
     "height": 424
    },
    "colab_type": "code",
    "id": "C20BDFlN0nd6",
    "outputId": "368a445a-630c-426a-eb15-f0384fd28754"
   },
   "outputs": [
    {
     "data": {
      "text/html": [
       "<div>\n",
       "<style scoped>\n",
       "    .dataframe tbody tr th:only-of-type {\n",
       "        vertical-align: middle;\n",
       "    }\n",
       "\n",
       "    .dataframe tbody tr th {\n",
       "        vertical-align: top;\n",
       "    }\n",
       "\n",
       "    .dataframe thead th {\n",
       "        text-align: right;\n",
       "    }\n",
       "</style>\n",
       "<table border=\"1\" class=\"dataframe\">\n",
       "  <thead>\n",
       "    <tr style=\"text-align: right;\">\n",
       "      <th></th>\n",
       "      <th>u1</th>\n",
       "      <th>u2</th>\n",
       "    </tr>\n",
       "  </thead>\n",
       "  <tbody>\n",
       "    <tr>\n",
       "      <td>0</td>\n",
       "      <td>0</td>\n",
       "      <td>1</td>\n",
       "    </tr>\n",
       "    <tr>\n",
       "      <td>1</td>\n",
       "      <td>0</td>\n",
       "      <td>2</td>\n",
       "    </tr>\n",
       "    <tr>\n",
       "      <td>2</td>\n",
       "      <td>0</td>\n",
       "      <td>3</td>\n",
       "    </tr>\n",
       "    <tr>\n",
       "      <td>3</td>\n",
       "      <td>0</td>\n",
       "      <td>4</td>\n",
       "    </tr>\n",
       "    <tr>\n",
       "      <td>4</td>\n",
       "      <td>0</td>\n",
       "      <td>5</td>\n",
       "    </tr>\n",
       "    <tr>\n",
       "      <td>...</td>\n",
       "      <td>...</td>\n",
       "      <td>...</td>\n",
       "    </tr>\n",
       "    <tr>\n",
       "      <td>1900649</td>\n",
       "      <td>196586</td>\n",
       "      <td>196539</td>\n",
       "    </tr>\n",
       "    <tr>\n",
       "      <td>1900650</td>\n",
       "      <td>196587</td>\n",
       "      <td>196540</td>\n",
       "    </tr>\n",
       "    <tr>\n",
       "      <td>1900651</td>\n",
       "      <td>196588</td>\n",
       "      <td>196540</td>\n",
       "    </tr>\n",
       "    <tr>\n",
       "      <td>1900652</td>\n",
       "      <td>196589</td>\n",
       "      <td>196547</td>\n",
       "    </tr>\n",
       "    <tr>\n",
       "      <td>1900653</td>\n",
       "      <td>196590</td>\n",
       "      <td>196561</td>\n",
       "    </tr>\n",
       "  </tbody>\n",
       "</table>\n",
       "<p>1900654 rows × 2 columns</p>\n",
       "</div>"
      ],
      "text/plain": [
       "             u1      u2\n",
       "0             0       1\n",
       "1             0       2\n",
       "2             0       3\n",
       "3             0       4\n",
       "4             0       5\n",
       "...         ...     ...\n",
       "1900649  196586  196539\n",
       "1900650  196587  196540\n",
       "1900651  196588  196540\n",
       "1900652  196589  196547\n",
       "1900653  196590  196561\n",
       "\n",
       "[1900654 rows x 2 columns]"
      ]
     },
     "execution_count": 8,
     "metadata": {},
     "output_type": "execute_result"
    }
   ],
   "source": [
    "edges"
   ]
  },
  {
   "cell_type": "markdown",
   "metadata": {
    "colab_type": "text",
    "id": "QAXhhM5QCRL6"
   },
   "source": [
    "### User Notes\n",
    "\n",
    "* userCheckins appears to cover only 1245 users\n",
    "  * this makes me wonder if the userIDs match the edges userIDs (most likely not)\n",
    "  * therefore it might be better to create our own graphs based off the checkin data and ignore the edges data\n",
    "    * this means we cannot make the assumptions that two users are friends \n",
    "    * we should test to see if our predicted meetups (same location at around the same time) match the meetups in the edges file\n",
    "  * also notice that user ID's appear to range from 0 - 1440, but there are only 1245 rows, implying some missing users\n",
    "\n",
    "\n",
    "* we can get an idea of where the users are generally located by gather the mean of their latitude on longitudinal locations\n",
    "* other user attributes to collect:\n",
    "  * earliest time checked in\n",
    "  * latest time checked in \n",
    "    * this shows the general timespan the user has been on the app "
   ]
  },
  {
   "cell_type": "code",
   "execution_count": 9,
   "metadata": {
    "colab": {
     "base_uri": "https://localhost:8080/",
     "height": 36
    },
    "colab_type": "code",
    "id": "_0JlEiRAB_xQ",
    "outputId": "55c1e07b-6b34-49da-a6f5-c29b93884154"
   },
   "outputs": [
    {
     "data": {
      "text/plain": [
       "196585"
      ]
     },
     "execution_count": 9,
     "metadata": {},
     "output_type": "execute_result"
    }
   ],
   "source": [
    "totalCheckins['user'].max()"
   ]
  },
  {
   "cell_type": "code",
   "execution_count": 5,
   "metadata": {
    "colab": {
     "base_uri": "https://localhost:8080/",
     "height": 455
    },
    "colab_type": "code",
    "id": "zxffVygg6FEX",
    "outputId": "ad78c9ea-df97-4519-ed4c-d45b09b46197"
   },
   "outputs": [
    {
     "data": {
      "text/html": [
       "<div>\n",
       "<style scoped>\n",
       "    .dataframe tbody tr th:only-of-type {\n",
       "        vertical-align: middle;\n",
       "    }\n",
       "\n",
       "    .dataframe tbody tr th {\n",
       "        vertical-align: top;\n",
       "    }\n",
       "\n",
       "    .dataframe thead th {\n",
       "        text-align: right;\n",
       "    }\n",
       "</style>\n",
       "<table border=\"1\" class=\"dataframe\">\n",
       "  <thead>\n",
       "    <tr style=\"text-align: right;\">\n",
       "      <th></th>\n",
       "      <th>lat</th>\n",
       "      <th>long</th>\n",
       "    </tr>\n",
       "    <tr>\n",
       "      <th>user</th>\n",
       "      <th></th>\n",
       "      <th></th>\n",
       "    </tr>\n",
       "  </thead>\n",
       "  <tbody>\n",
       "    <tr>\n",
       "      <th>0</th>\n",
       "      <td>33.558308</td>\n",
       "      <td>-97.894601</td>\n",
       "    </tr>\n",
       "    <tr>\n",
       "      <th>1</th>\n",
       "      <td>47.204338</td>\n",
       "      <td>4.499703</td>\n",
       "    </tr>\n",
       "    <tr>\n",
       "      <th>2</th>\n",
       "      <td>35.659617</td>\n",
       "      <td>-120.016716</td>\n",
       "    </tr>\n",
       "    <tr>\n",
       "      <th>4</th>\n",
       "      <td>36.800202</td>\n",
       "      <td>-124.714027</td>\n",
       "    </tr>\n",
       "    <tr>\n",
       "      <th>5</th>\n",
       "      <td>32.290069</td>\n",
       "      <td>-96.123008</td>\n",
       "    </tr>\n",
       "    <tr>\n",
       "      <th>...</th>\n",
       "      <td>...</td>\n",
       "      <td>...</td>\n",
       "    </tr>\n",
       "    <tr>\n",
       "      <th>196544</th>\n",
       "      <td>-25.433409</td>\n",
       "      <td>-49.281533</td>\n",
       "    </tr>\n",
       "    <tr>\n",
       "      <th>196561</th>\n",
       "      <td>37.528650</td>\n",
       "      <td>-122.004623</td>\n",
       "    </tr>\n",
       "    <tr>\n",
       "      <th>196577</th>\n",
       "      <td>51.514905</td>\n",
       "      <td>-0.081277</td>\n",
       "    </tr>\n",
       "    <tr>\n",
       "      <th>196578</th>\n",
       "      <td>51.744557</td>\n",
       "      <td>-0.478051</td>\n",
       "    </tr>\n",
       "    <tr>\n",
       "      <th>196585</th>\n",
       "      <td>50.066664</td>\n",
       "      <td>8.678312</td>\n",
       "    </tr>\n",
       "  </tbody>\n",
       "</table>\n",
       "<p>107092 rows × 2 columns</p>\n",
       "</div>"
      ],
      "text/plain": [
       "              lat        long\n",
       "user                         \n",
       "0       33.558308  -97.894601\n",
       "1       47.204338    4.499703\n",
       "2       35.659617 -120.016716\n",
       "4       36.800202 -124.714027\n",
       "5       32.290069  -96.123008\n",
       "...           ...         ...\n",
       "196544 -25.433409  -49.281533\n",
       "196561  37.528650 -122.004623\n",
       "196577  51.514905   -0.081277\n",
       "196578  51.744557   -0.478051\n",
       "196585  50.066664    8.678312\n",
       "\n",
       "[107092 rows x 2 columns]"
      ]
     },
     "execution_count": 5,
     "metadata": {},
     "output_type": "execute_result"
    }
   ],
   "source": [
    "users = totalCheckins.groupby('user').mean()[['lat', 'long']]\n",
    "users"
   ]
  },
  {
   "cell_type": "markdown",
   "metadata": {
    "colab_type": "text",
    "id": "1a_dGVQTK1gl"
   },
   "source": [
    "* look at how many checkins the average user makes\n",
    "  * this seems almost too big?\n",
    "  * I assume this is a collection of users classified as very active on Gowalla"
   ]
  },
  {
   "cell_type": "code",
   "execution_count": 11,
   "metadata": {
    "colab": {
     "base_uri": "https://localhost:8080/",
     "height": 35
    },
    "colab_type": "code",
    "id": "pSStIU_wKS0y",
    "outputId": "3316854e-9a4e-48b6-a09a-a8da920c2b83"
   },
   "outputs": [
    {
     "data": {
      "text/plain": [
       "60.16221566503567"
      ]
     },
     "execution_count": 11,
     "metadata": {},
     "output_type": "execute_result"
    }
   ],
   "source": [
    "# average amounts of visits per user\n",
    "totalCheckins.shape[0] / users.shape[0]"
   ]
  },
  {
   "cell_type": "markdown",
   "metadata": {
    "colab_type": "text",
    "id": "NpsxtesdBGgZ"
   },
   "source": [
    "### Place Notes\n",
    "\n",
    "* same grouping process as users\n",
    "* for the scope of this project, we might want to only focus on places with like 5 or more visits"
   ]
  },
  {
   "cell_type": "code",
   "execution_count": 6,
   "metadata": {},
   "outputs": [],
   "source": [
    "places = totalCheckins.groupby('locid').agg(['mean', 'count'])[['lat', 'long']]\n",
    "\n",
    "places.columns = ['lat_mean', 'count_drop', 'long_mean', 'visits']\n",
    "places = places.drop(columns = ['count_drop'])"
   ]
  },
  {
   "cell_type": "markdown",
   "metadata": {
    "colab_type": "text",
    "id": "RKb_GW3NxVYV"
   },
   "source": [
    "#### Geolocation Data (geopy)\n",
    "\n",
    "* our queries use the [Nominatim API](https://nominatim.org/release-docs/develop/api/Overview/) by default\n",
    "\n",
    "Let's try to find the country all this data is from. We will query location information using [geopy](https://geopy.readthedocs.io/en/stable/). Below is a sample query."
   ]
  },
  {
   "cell_type": "code",
   "execution_count": 14,
   "metadata": {
    "colab": {
     "base_uri": "https://localhost:8080/",
     "height": 74
    },
    "colab_type": "code",
    "id": "GpzGKp7-wCah",
    "outputId": "b7faf624-e9ab-4c66-9de3-c4636fea28c8"
   },
   "outputs": [
    {
     "name": "stderr",
     "output_type": "stream",
     "text": [
      "C:\\Users\\Ayan\\Anaconda3\\lib\\site-packages\\ipykernel_launcher.py:3: DeprecationWarning: Using Nominatim with the default \"geopy/1.22.0\" `user_agent` is strongly discouraged, as it violates Nominatim's ToS https://operations.osmfoundation.org/policies/nominatim/ and may possibly cause 403 and 429 HTTP errors. Please specify a custom `user_agent` with `Nominatim(user_agent=\"my-application\")` or by overriding the default `user_agent`: `geopy.geocoders.options.default_user_agent = \"my-application\"`. In geopy 2.0 this will become an exception.\n",
      "  This is separate from the ipykernel package so we can avoid doing imports until\n"
     ]
    }
   ],
   "source": [
    "from geopy.geocoders import Nominatim\n",
    "\n",
    "geolocator = Nominatim()\n",
    "\n",
    "location = geolocator.reverse(\"39.052318, -94.607499\")"
   ]
  },
  {
   "cell_type": "code",
   "execution_count": 15,
   "metadata": {
    "colab": {
     "base_uri": "https://localhost:8080/",
     "height": 355
    },
    "colab_type": "code",
    "id": "CbxNA2jIyO3e",
    "outputId": "e4a070ed-0f91-4da0-9086-b1315352e290"
   },
   "outputs": [
    {
     "data": {
      "text/plain": [
       "{'place_id': 251278814,\n",
       " 'licence': 'Data © OpenStreetMap contributors, ODbL 1.0. https://osm.org/copyright',\n",
       " 'osm_type': 'way',\n",
       " 'osm_id': 552493654,\n",
       " 'lat': '39.052405',\n",
       " 'lon': '-94.607436',\n",
       " 'display_name': '4154, State Line Road, Country Club Plaza, Kansas City, Wyandotte County, Missouri, 66103, United States of America',\n",
       " 'address': {'house_number': '4154',\n",
       "  'road': 'State Line Road',\n",
       "  'suburb': 'Country Club Plaza',\n",
       "  'city': 'Kansas City',\n",
       "  'county': 'Wyandotte County',\n",
       "  'state': 'Missouri',\n",
       "  'postcode': '66103',\n",
       "  'country': 'United States of America',\n",
       "  'country_code': 'us'},\n",
       " 'boundingbox': ['39.052355', '39.052455', '-94.607486', '-94.607386']}"
      ]
     },
     "execution_count": 15,
     "metadata": {},
     "output_type": "execute_result"
    }
   ],
   "source": [
    "location.raw"
   ]
  },
  {
   "cell_type": "code",
   "execution_count": 16,
   "metadata": {
    "colab": {
     "base_uri": "https://localhost:8080/",
     "height": 36
    },
    "colab_type": "code",
    "id": "A6TUCbFSyT28",
    "outputId": "d3723075-49eb-4f9c-a9d2-17d14857dddb"
   },
   "outputs": [
    {
     "data": {
      "text/plain": [
       "'United States of America'"
      ]
     },
     "execution_count": 16,
     "metadata": {},
     "output_type": "execute_result"
    }
   ],
   "source": [
    "location.raw['address']['country']"
   ]
  },
  {
   "cell_type": "markdown",
   "metadata": {},
   "source": [
    "This gives the following important data:\n",
    "* name 'address > tourism'\n",
    "* city 'address > city'\n",
    "* country 'address > country'\n",
    "\n",
    "However this data lacks:\n",
    "* context of the location (is it a pub, park, etc.)\n",
    "    * we can get this information by querying OpenStreetMap using it's place_id, \n",
    "\n",
    "Given the limited time for this project, I feel like city and country information should be informative enough.\n",
    "\n",
    "**Naming Conventions**\n",
    "\n",
    "* subregions vary between different countries \n",
    "    * i.e. states and counties are not found in Germany, boroughs are found in Germany but not the US\n",
    "    * this means the easiest thing to analyze right now are places < cities < countries\n",
    "    * this problem can be resolved by focusing on one Country at a time\n",
    "* the above problem unfortunately also occurs for city names\n",
    "    * citities can also be called \"towns, villages, municipalities, etc.)"
   ]
  },
  {
   "cell_type": "code",
   "execution_count": 20,
   "metadata": {},
   "outputs": [
    {
     "data": {
      "text/plain": [
       "{'place_id': 251278814,\n",
       " 'licence': 'Data © OpenStreetMap contributors, ODbL 1.0. https://osm.org/copyright',\n",
       " 'osm_type': 'way',\n",
       " 'osm_id': 552493654,\n",
       " 'lat': '39.052405',\n",
       " 'lon': '-94.607436',\n",
       " 'display_name': '4154, State Line Road, Country Club Plaza, Kansas City, Wyandotte County, Missouri, 66103, United States of America',\n",
       " 'address': {'house_number': '4154',\n",
       "  'road': 'State Line Road',\n",
       "  'suburb': 'Country Club Plaza',\n",
       "  'city': 'Kansas City',\n",
       "  'county': 'Wyandotte County',\n",
       "  'state': 'Missouri',\n",
       "  'postcode': '66103',\n",
       "  'country': 'United States of America',\n",
       "  'country_code': 'us'},\n",
       " 'boundingbox': ['39.052355', '39.052455', '-94.607486', '-94.607386']}"
      ]
     },
     "execution_count": 20,
     "metadata": {},
     "output_type": "execute_result"
    }
   ],
   "source": [
    "location.raw\n",
    "\n",
    "place = {\"osm_place_id\"}"
   ]
  },
  {
   "cell_type": "code",
   "execution_count": 88,
   "metadata": {},
   "outputs": [
    {
     "data": {
      "text/html": [
       "<div>\n",
       "<style scoped>\n",
       "    .dataframe tbody tr th:only-of-type {\n",
       "        vertical-align: middle;\n",
       "    }\n",
       "\n",
       "    .dataframe tbody tr th {\n",
       "        vertical-align: top;\n",
       "    }\n",
       "\n",
       "    .dataframe thead th {\n",
       "        text-align: right;\n",
       "    }\n",
       "</style>\n",
       "<table border=\"1\" class=\"dataframe\">\n",
       "  <thead>\n",
       "    <tr style=\"text-align: right;\">\n",
       "      <th></th>\n",
       "      <th>lat_mean</th>\n",
       "      <th>long_mean</th>\n",
       "      <th>visits</th>\n",
       "    </tr>\n",
       "    <tr>\n",
       "      <th>locid</th>\n",
       "      <th></th>\n",
       "      <th></th>\n",
       "      <th></th>\n",
       "    </tr>\n",
       "  </thead>\n",
       "  <tbody>\n",
       "    <tr>\n",
       "      <th>8904</th>\n",
       "      <td>39.052318</td>\n",
       "      <td>-94.607499</td>\n",
       "      <td>12</td>\n",
       "    </tr>\n",
       "    <tr>\n",
       "      <th>8932</th>\n",
       "      <td>32.927662</td>\n",
       "      <td>-97.254356</td>\n",
       "      <td>16</td>\n",
       "    </tr>\n",
       "    <tr>\n",
       "      <th>8936</th>\n",
       "      <td>39.053318</td>\n",
       "      <td>-94.591995</td>\n",
       "      <td>12</td>\n",
       "    </tr>\n",
       "    <tr>\n",
       "      <th>8938</th>\n",
       "      <td>39.052824</td>\n",
       "      <td>-94.590311</td>\n",
       "      <td>130</td>\n",
       "    </tr>\n",
       "    <tr>\n",
       "      <th>8947</th>\n",
       "      <td>37.331880</td>\n",
       "      <td>-122.029631</td>\n",
       "      <td>570</td>\n",
       "    </tr>\n",
       "    <tr>\n",
       "      <th>...</th>\n",
       "      <td>...</td>\n",
       "      <td>...</td>\n",
       "      <td>...</td>\n",
       "    </tr>\n",
       "    <tr>\n",
       "      <th>5975123</th>\n",
       "      <td>38.020788</td>\n",
       "      <td>-7.874773</td>\n",
       "      <td>1</td>\n",
       "    </tr>\n",
       "    <tr>\n",
       "      <th>5976149</th>\n",
       "      <td>12.939186</td>\n",
       "      <td>100.882264</td>\n",
       "      <td>1</td>\n",
       "    </tr>\n",
       "    <tr>\n",
       "      <th>5976173</th>\n",
       "      <td>13.668828</td>\n",
       "      <td>100.644486</td>\n",
       "      <td>1</td>\n",
       "    </tr>\n",
       "    <tr>\n",
       "      <th>5977211</th>\n",
       "      <td>4.888548</td>\n",
       "      <td>114.838631</td>\n",
       "      <td>1</td>\n",
       "    </tr>\n",
       "    <tr>\n",
       "      <th>5977757</th>\n",
       "      <td>13.447479</td>\n",
       "      <td>101.019928</td>\n",
       "      <td>1</td>\n",
       "    </tr>\n",
       "  </tbody>\n",
       "</table>\n",
       "<p>1280969 rows × 3 columns</p>\n",
       "</div>"
      ],
      "text/plain": [
       "          lat_mean   long_mean  visits\n",
       "locid                                 \n",
       "8904     39.052318  -94.607499      12\n",
       "8932     32.927662  -97.254356      16\n",
       "8936     39.053318  -94.591995      12\n",
       "8938     39.052824  -94.590311     130\n",
       "8947     37.331880 -122.029631     570\n",
       "...            ...         ...     ...\n",
       "5975123  38.020788   -7.874773       1\n",
       "5976149  12.939186  100.882264       1\n",
       "5976173  13.668828  100.644486       1\n",
       "5977211   4.888548  114.838631       1\n",
       "5977757  13.447479  101.019928       1\n",
       "\n",
       "[1280969 rows x 3 columns]"
      ]
     },
     "execution_count": 88,
     "metadata": {},
     "output_type": "execute_result"
    }
   ],
   "source": [
    "places"
   ]
  },
  {
   "cell_type": "code",
   "execution_count": 103,
   "metadata": {},
   "outputs": [],
   "source": [
    "location = geolocator.reverse(\"39.052318, -94.607499\")"
   ]
  },
  {
   "cell_type": "code",
   "execution_count": 105,
   "metadata": {},
   "outputs": [
    {
     "data": {
      "text/plain": [
       "{'place_id': 251278814,\n",
       " 'licence': 'Data © OpenStreetMap contributors, ODbL 1.0. https://osm.org/copyright',\n",
       " 'osm_type': 'way',\n",
       " 'osm_id': 552493654,\n",
       " 'lat': '39.052405',\n",
       " 'lon': '-94.607436',\n",
       " 'display_name': '4154, State Line Road, Country Club Plaza, Kansas City, Wyandotte County, Missouri, 66103, United States of America',\n",
       " 'address': {'house_number': '4154',\n",
       "  'road': 'State Line Road',\n",
       "  'suburb': 'Country Club Plaza',\n",
       "  'city': 'Kansas City',\n",
       "  'county': 'Wyandotte County',\n",
       "  'state': 'Missouri',\n",
       "  'postcode': '66103',\n",
       "  'country': 'United States of America',\n",
       "  'country_code': 'us'},\n",
       " 'boundingbox': ['39.052355', '39.052455', '-94.607486', '-94.607386']}"
      ]
     },
     "execution_count": 105,
     "metadata": {},
     "output_type": "execute_result"
    }
   ],
   "source": [
    "location.raw"
   ]
  },
  {
   "cell_type": "code",
   "execution_count": 7,
   "metadata": {},
   "outputs": [
    {
     "name": "stderr",
     "output_type": "stream",
     "text": [
      "C:\\ProgramData\\Anaconda3\\lib\\site-packages\\ipykernel_launcher.py:3: DeprecationWarning: Using Nominatim with the default \"geopy/1.22.0\" `user_agent` is strongly discouraged, as it violates Nominatim's ToS https://operations.osmfoundation.org/policies/nominatim/ and may possibly cause 403 and 429 HTTP errors. Please specify a custom `user_agent` with `Nominatim(user_agent=\"my-application\")` or by overriding the default `user_agent`: `geopy.geocoders.options.default_user_agent = \"my-application\"`. In geopy 2.0 this will become an exception.\n",
      "  This is separate from the ipykernel package so we can avoid doing imports until\n"
     ]
    }
   ],
   "source": [
    "from geopy.geocoders import Nominatim\n",
    "\n",
    "geolocator = Nominatim()\n",
    "\n",
    "sorted_places = places.sort_values('visits', ascending=False).reset_index()"
   ]
  },
  {
   "cell_type": "code",
   "execution_count": 8,
   "metadata": {},
   "outputs": [
    {
     "data": {
      "text/html": [
       "<div>\n",
       "<style scoped>\n",
       "    .dataframe tbody tr th:only-of-type {\n",
       "        vertical-align: middle;\n",
       "    }\n",
       "\n",
       "    .dataframe tbody tr th {\n",
       "        vertical-align: top;\n",
       "    }\n",
       "\n",
       "    .dataframe thead th {\n",
       "        text-align: right;\n",
       "    }\n",
       "</style>\n",
       "<table border=\"1\" class=\"dataframe\">\n",
       "  <thead>\n",
       "    <tr style=\"text-align: right;\">\n",
       "      <th></th>\n",
       "      <th>locid</th>\n",
       "      <th>lat_mean</th>\n",
       "      <th>long_mean</th>\n",
       "      <th>visits</th>\n",
       "    </tr>\n",
       "  </thead>\n",
       "  <tbody>\n",
       "    <tr>\n",
       "      <th>0</th>\n",
       "      <td>55033</td>\n",
       "      <td>59.330158</td>\n",
       "      <td>18.058079</td>\n",
       "      <td>5811</td>\n",
       "    </tr>\n",
       "    <tr>\n",
       "      <th>1</th>\n",
       "      <td>19542</td>\n",
       "      <td>37.616356</td>\n",
       "      <td>-122.386150</td>\n",
       "      <td>5662</td>\n",
       "    </tr>\n",
       "    <tr>\n",
       "      <th>2</th>\n",
       "      <td>9410</td>\n",
       "      <td>30.201557</td>\n",
       "      <td>-97.667127</td>\n",
       "      <td>4713</td>\n",
       "    </tr>\n",
       "    <tr>\n",
       "      <th>3</th>\n",
       "      <td>10259</td>\n",
       "      <td>32.897462</td>\n",
       "      <td>-97.040348</td>\n",
       "      <td>4083</td>\n",
       "    </tr>\n",
       "    <tr>\n",
       "      <th>4</th>\n",
       "      <td>58725</td>\n",
       "      <td>59.650051</td>\n",
       "      <td>17.932262</td>\n",
       "      <td>3476</td>\n",
       "    </tr>\n",
       "    <tr>\n",
       "      <th>...</th>\n",
       "      <td>...</td>\n",
       "      <td>...</td>\n",
       "      <td>...</td>\n",
       "      <td>...</td>\n",
       "    </tr>\n",
       "    <tr>\n",
       "      <th>1280964</th>\n",
       "      <td>1071645</td>\n",
       "      <td>8.038478</td>\n",
       "      <td>98.815826</td>\n",
       "      <td>1</td>\n",
       "    </tr>\n",
       "    <tr>\n",
       "      <th>1280965</th>\n",
       "      <td>1071647</td>\n",
       "      <td>42.553000</td>\n",
       "      <td>-83.175745</td>\n",
       "      <td>1</td>\n",
       "    </tr>\n",
       "    <tr>\n",
       "      <th>1280966</th>\n",
       "      <td>1071650</td>\n",
       "      <td>34.614540</td>\n",
       "      <td>-92.498446</td>\n",
       "      <td>1</td>\n",
       "    </tr>\n",
       "    <tr>\n",
       "      <th>1280967</th>\n",
       "      <td>1071652</td>\n",
       "      <td>29.756889</td>\n",
       "      <td>-95.365663</td>\n",
       "      <td>1</td>\n",
       "    </tr>\n",
       "    <tr>\n",
       "      <th>1280968</th>\n",
       "      <td>5977757</td>\n",
       "      <td>13.447479</td>\n",
       "      <td>101.019928</td>\n",
       "      <td>1</td>\n",
       "    </tr>\n",
       "  </tbody>\n",
       "</table>\n",
       "<p>1280969 rows × 4 columns</p>\n",
       "</div>"
      ],
      "text/plain": [
       "           locid   lat_mean   long_mean  visits\n",
       "0          55033  59.330158   18.058079    5811\n",
       "1          19542  37.616356 -122.386150    5662\n",
       "2           9410  30.201557  -97.667127    4713\n",
       "3          10259  32.897462  -97.040348    4083\n",
       "4          58725  59.650051   17.932262    3476\n",
       "...          ...        ...         ...     ...\n",
       "1280964  1071645   8.038478   98.815826       1\n",
       "1280965  1071647  42.553000  -83.175745       1\n",
       "1280966  1071650  34.614540  -92.498446       1\n",
       "1280967  1071652  29.756889  -95.365663       1\n",
       "1280968  5977757  13.447479  101.019928       1\n",
       "\n",
       "[1280969 rows x 4 columns]"
      ]
     },
     "execution_count": 8,
     "metadata": {},
     "output_type": "execute_result"
    }
   ],
   "source": [
    "sorted_places"
   ]
  },
  {
   "cell_type": "code",
   "execution_count": null,
   "metadata": {},
   "outputs": [
    {
     "name": "stdout",
     "output_type": "stream",
     "text": [
      "1000 index JSON written\n"
     ]
    }
   ],
   "source": [
    "import json\n",
    "\n",
    "location_json = {}\n",
    "location_json['places'] = []\n",
    "\n",
    "# choose place to start writing files\n",
    "i = 1000\n",
    "chunk = 1000\n",
    "places_temp = sorted_places[i:]\n",
    "\n",
    "for index, row in places_temp.iterrows():\n",
    "    \n",
    "    location = geolocator.reverse(str(row[\"lat_mean\"]) + \", \" + str(row[\"long_mean\"])).raw\n",
    "    \n",
    "    location_json['places'].append({'locid' : row['locid'], 'osm_json' : location})\n",
    "    \n",
    "    if index % chunk == 0 and index != i:\n",
    "        \n",
    "        with open('data/json/' + str(index) + '.json', 'w') as outfile:\n",
    "            json.dump(location_json, outfile)\n",
    "        \n",
    "        print(str(index) + ' index JSON written')\n",
    "        \n",
    "        location_json['places'] = []"
   ]
  },
  {
   "cell_type": "markdown",
   "metadata": {},
   "source": [
    "* we will be analyzing the top 10000 locations in the dataset by number of visits"
   ]
  },
  {
   "cell_type": "code",
   "execution_count": 12,
   "metadata": {},
   "outputs": [
    {
     "data": {
      "text/html": [
       "<div>\n",
       "<style scoped>\n",
       "    .dataframe tbody tr th:only-of-type {\n",
       "        vertical-align: middle;\n",
       "    }\n",
       "\n",
       "    .dataframe tbody tr th {\n",
       "        vertical-align: top;\n",
       "    }\n",
       "\n",
       "    .dataframe thead th {\n",
       "        text-align: right;\n",
       "    }\n",
       "</style>\n",
       "<table border=\"1\" class=\"dataframe\">\n",
       "  <thead>\n",
       "    <tr style=\"text-align: right;\">\n",
       "      <th></th>\n",
       "      <th>locid</th>\n",
       "      <th>lat_mean</th>\n",
       "      <th>long_mean</th>\n",
       "      <th>visits</th>\n",
       "    </tr>\n",
       "  </thead>\n",
       "  <tbody>\n",
       "    <tr>\n",
       "      <th>0</th>\n",
       "      <td>55033</td>\n",
       "      <td>59.330158</td>\n",
       "      <td>18.058079</td>\n",
       "      <td>5811</td>\n",
       "    </tr>\n",
       "    <tr>\n",
       "      <th>1</th>\n",
       "      <td>19542</td>\n",
       "      <td>37.616356</td>\n",
       "      <td>-122.386150</td>\n",
       "      <td>5662</td>\n",
       "    </tr>\n",
       "    <tr>\n",
       "      <th>2</th>\n",
       "      <td>9410</td>\n",
       "      <td>30.201557</td>\n",
       "      <td>-97.667127</td>\n",
       "      <td>4713</td>\n",
       "    </tr>\n",
       "    <tr>\n",
       "      <th>3</th>\n",
       "      <td>10259</td>\n",
       "      <td>32.897462</td>\n",
       "      <td>-97.040348</td>\n",
       "      <td>4083</td>\n",
       "    </tr>\n",
       "    <tr>\n",
       "      <th>4</th>\n",
       "      <td>58725</td>\n",
       "      <td>59.650051</td>\n",
       "      <td>17.932262</td>\n",
       "      <td>3476</td>\n",
       "    </tr>\n",
       "    <tr>\n",
       "      <th>...</th>\n",
       "      <td>...</td>\n",
       "      <td>...</td>\n",
       "      <td>...</td>\n",
       "      <td>...</td>\n",
       "    </tr>\n",
       "    <tr>\n",
       "      <th>9995</th>\n",
       "      <td>230547</td>\n",
       "      <td>36.005830</td>\n",
       "      <td>-115.084607</td>\n",
       "      <td>56</td>\n",
       "    </tr>\n",
       "    <tr>\n",
       "      <th>9996</th>\n",
       "      <td>45183</td>\n",
       "      <td>35.655814</td>\n",
       "      <td>-97.470548</td>\n",
       "      <td>56</td>\n",
       "    </tr>\n",
       "    <tr>\n",
       "      <th>9997</th>\n",
       "      <td>164356</td>\n",
       "      <td>48.101030</td>\n",
       "      <td>11.645453</td>\n",
       "      <td>56</td>\n",
       "    </tr>\n",
       "    <tr>\n",
       "      <th>9998</th>\n",
       "      <td>234171</td>\n",
       "      <td>63.825514</td>\n",
       "      <td>20.261439</td>\n",
       "      <td>56</td>\n",
       "    </tr>\n",
       "    <tr>\n",
       "      <th>9999</th>\n",
       "      <td>603750</td>\n",
       "      <td>41.807453</td>\n",
       "      <td>-72.827597</td>\n",
       "      <td>56</td>\n",
       "    </tr>\n",
       "  </tbody>\n",
       "</table>\n",
       "<p>10000 rows × 4 columns</p>\n",
       "</div>"
      ],
      "text/plain": [
       "       locid   lat_mean   long_mean  visits\n",
       "0      55033  59.330158   18.058079    5811\n",
       "1      19542  37.616356 -122.386150    5662\n",
       "2       9410  30.201557  -97.667127    4713\n",
       "3      10259  32.897462  -97.040348    4083\n",
       "4      58725  59.650051   17.932262    3476\n",
       "...      ...        ...         ...     ...\n",
       "9995  230547  36.005830 -115.084607      56\n",
       "9996   45183  35.655814  -97.470548      56\n",
       "9997  164356  48.101030   11.645453      56\n",
       "9998  234171  63.825514   20.261439      56\n",
       "9999  603750  41.807453  -72.827597      56\n",
       "\n",
       "[10000 rows x 4 columns]"
      ]
     },
     "execution_count": 12,
     "metadata": {},
     "output_type": "execute_result"
    }
   ],
   "source": [
    "places_top10 = sorted_places[:10000]\n",
    "\n",
    "places_top10"
   ]
  },
  {
   "cell_type": "code",
   "execution_count": 17,
   "metadata": {},
   "outputs": [
    {
     "data": {
      "text/plain": [
       "['.ipynb_checkpoints',\n",
       " '10000.json',\n",
       " '2000.json',\n",
       " '3000.json',\n",
       " '4000.json',\n",
       " '5000.json',\n",
       " '6000.json',\n",
       " '7000.json',\n",
       " '8000.json',\n",
       " '9000.json']"
      ]
     },
     "execution_count": 17,
     "metadata": {},
     "output_type": "execute_result"
    }
   ],
   "source": [
    "from os import listdir\n",
    "\n",
    "listdir('data/json/')"
   ]
  },
  {
   "cell_type": "code",
   "execution_count": 38,
   "metadata": {},
   "outputs": [
    {
     "name": "stdout",
     "output_type": "stream",
     "text": [
      "no country\n",
      "{'locid': 17100.0, 'osm_json': {'place_id': 283373754, 'licence': 'Data © OpenStreetMap contributors, ODbL 1.0. https://osm.org/copyright', 'osm_type': 'node', 'osm_id': 3815077900, 'lat': '0', 'lon': '0', 'display_name': 'Soul Buoy', 'address': {'man_made': 'Soul Buoy'}, 'boundingbox': ['-5.0E-5', '5.0E-5', '-5.0E-5', '5.0E-5']}}\n"
     ]
    }
   ],
   "source": [
    "import json\n",
    "\n",
    "data_path = 'data/json/'\n",
    "start = 2000\n",
    "\n",
    "location_append = []\n",
    "\n",
    "\n",
    "while start <= 10000:\n",
    "    \n",
    "    if j.endswith('.json'):\n",
    "        with open(data_path + str(start) + '.json', 'r') as f:\n",
    "            batch = json.load(f)\n",
    "\n",
    "    places = batch['places']\n",
    "    \n",
    "    for location in places:\n",
    "        \n",
    "        # cities\n",
    "        try:\n",
    "            city = location['osm_json']['address']['city']\n",
    "        except:\n",
    "            pass\n",
    "\n",
    "        try:\n",
    "            city = location['osm_json']['address']['town']\n",
    "        except:\n",
    "            pass\n",
    "\n",
    "        try:\n",
    "            city = location['osm_json']['address']['village']\n",
    "        except:\n",
    "            pass\n",
    "\n",
    "        # skip entities with no city information\n",
    "        if city == \"\":\n",
    "            print(\"no city\")\n",
    "            print(location)\n",
    "    \n",
    "        # countries\n",
    "        country = \"\"\n",
    "        country_code = \"\"\n",
    "        \n",
    "        try:\n",
    "            country = location['osm_json']['address']['country']\n",
    "        except:\n",
    "            pass\n",
    "        \n",
    "        try:\n",
    "            country_code = location['osm_json']['address']['country_code']\n",
    "        except:\n",
    "            pass\n",
    "        \n",
    "        if country == \"\":\n",
    "            print(\"no country\")\n",
    "            print(location)\n",
    "        \n",
    "        location_append.append({\n",
    "            'locid_check' : location['locid'], \n",
    "            'osm_place_id' : location['osm_json']['place_id'],\n",
    "            'display_name' : location['osm_json']['display_name'],\n",
    "            'city' : city,\n",
    "            'country' : country,\n",
    "            'country_code' : country_code\n",
    "        })\n",
    "    \n",
    "    start += 1000"
   ]
  },
  {
   "cell_type": "code",
   "execution_count": 44,
   "metadata": {},
   "outputs": [
    {
     "data": {
      "text/html": [
       "<div>\n",
       "<style scoped>\n",
       "    .dataframe tbody tr th:only-of-type {\n",
       "        vertical-align: middle;\n",
       "    }\n",
       "\n",
       "    .dataframe tbody tr th {\n",
       "        vertical-align: top;\n",
       "    }\n",
       "\n",
       "    .dataframe thead th {\n",
       "        text-align: right;\n",
       "    }\n",
       "</style>\n",
       "<table border=\"1\" class=\"dataframe\">\n",
       "  <thead>\n",
       "    <tr style=\"text-align: right;\">\n",
       "      <th></th>\n",
       "      <th>locid_check</th>\n",
       "      <th>osm_place_id</th>\n",
       "      <th>display_name</th>\n",
       "      <th>city</th>\n",
       "      <th>country</th>\n",
       "      <th>country_code</th>\n",
       "    </tr>\n",
       "  </thead>\n",
       "  <tbody>\n",
       "    <tr>\n",
       "      <th>0</th>\n",
       "      <td>55033.0</td>\n",
       "      <td>235973447</td>\n",
       "      <td>Pennfäktaren, Norrmalm, Norrmalms stadsdelsomr...</td>\n",
       "      <td>Stockholm</td>\n",
       "      <td>Sverige</td>\n",
       "      <td>se</td>\n",
       "    </tr>\n",
       "    <tr>\n",
       "      <th>1</th>\n",
       "      <td>19542.0</td>\n",
       "      <td>235227144</td>\n",
       "      <td>Domestic Garage, Zone F/G, Lomita Park, San Ma...</td>\n",
       "      <td>Stockholm</td>\n",
       "      <td>United States of America</td>\n",
       "      <td>us</td>\n",
       "    </tr>\n",
       "    <tr>\n",
       "      <th>2</th>\n",
       "      <td>9410.0</td>\n",
       "      <td>235768752</td>\n",
       "      <td>Austin-Bergstrom International Airport (AUS), ...</td>\n",
       "      <td>Austin</td>\n",
       "      <td>United States of America</td>\n",
       "      <td>us</td>\n",
       "    </tr>\n",
       "    <tr>\n",
       "      <th>3</th>\n",
       "      <td>10259.0</td>\n",
       "      <td>186874070</td>\n",
       "      <td>FAA Tower, International Parkway, Grapevine, T...</td>\n",
       "      <td>Grapevine</td>\n",
       "      <td>United States of America</td>\n",
       "      <td>us</td>\n",
       "    </tr>\n",
       "    <tr>\n",
       "      <th>4</th>\n",
       "      <td>58725.0</td>\n",
       "      <td>105773201</td>\n",
       "      <td>Stockholm-Arlanda flygplats, 273, Starrmossen,...</td>\n",
       "      <td>Grapevine</td>\n",
       "      <td>Sverige</td>\n",
       "      <td>se</td>\n",
       "    </tr>\n",
       "    <tr>\n",
       "      <th>...</th>\n",
       "      <td>...</td>\n",
       "      <td>...</td>\n",
       "      <td>...</td>\n",
       "      <td>...</td>\n",
       "      <td>...</td>\n",
       "      <td>...</td>\n",
       "    </tr>\n",
       "    <tr>\n",
       "      <th>9995</th>\n",
       "      <td>230547.0</td>\n",
       "      <td>257735126</td>\n",
       "      <td>2265, West Horizon Ridge Parkway, Macdonald Ra...</td>\n",
       "      <td>Henderson</td>\n",
       "      <td>United States of America</td>\n",
       "      <td>us</td>\n",
       "    </tr>\n",
       "    <tr>\n",
       "      <th>9996</th>\n",
       "      <td>45183.0</td>\n",
       "      <td>145877854</td>\n",
       "      <td>Thatcher Hall, East Hurd Street, Edmond, Oklah...</td>\n",
       "      <td>Edmond</td>\n",
       "      <td>United States of America</td>\n",
       "      <td>us</td>\n",
       "    </tr>\n",
       "    <tr>\n",
       "      <th>9997</th>\n",
       "      <td>164356.0</td>\n",
       "      <td>235795942</td>\n",
       "      <td>Bezirksteil Neuperlach, Stadtbezirk 16 Ramersd...</td>\n",
       "      <td>München</td>\n",
       "      <td>Deutschland</td>\n",
       "      <td>de</td>\n",
       "    </tr>\n",
       "    <tr>\n",
       "      <th>9998</th>\n",
       "      <td>234171.0</td>\n",
       "      <td>46570017</td>\n",
       "      <td>Ginatricot, Rådhustorget, Centrum, Centrala st...</td>\n",
       "      <td>Umeå</td>\n",
       "      <td>Sverige</td>\n",
       "      <td>se</td>\n",
       "    </tr>\n",
       "    <tr>\n",
       "      <th>9999</th>\n",
       "      <td>603750.0</td>\n",
       "      <td>7703293</td>\n",
       "      <td>Elephant Trail, East Main Street, Old Avon Vil...</td>\n",
       "      <td>Avon</td>\n",
       "      <td>United States of America</td>\n",
       "      <td>us</td>\n",
       "    </tr>\n",
       "  </tbody>\n",
       "</table>\n",
       "<p>10000 rows × 6 columns</p>\n",
       "</div>"
      ],
      "text/plain": [
       "      locid_check  osm_place_id  \\\n",
       "0         55033.0     235973447   \n",
       "1         19542.0     235227144   \n",
       "2          9410.0     235768752   \n",
       "3         10259.0     186874070   \n",
       "4         58725.0     105773201   \n",
       "...           ...           ...   \n",
       "9995     230547.0     257735126   \n",
       "9996      45183.0     145877854   \n",
       "9997     164356.0     235795942   \n",
       "9998     234171.0      46570017   \n",
       "9999     603750.0       7703293   \n",
       "\n",
       "                                           display_name       city  \\\n",
       "0     Pennfäktaren, Norrmalm, Norrmalms stadsdelsomr...  Stockholm   \n",
       "1     Domestic Garage, Zone F/G, Lomita Park, San Ma...  Stockholm   \n",
       "2     Austin-Bergstrom International Airport (AUS), ...     Austin   \n",
       "3     FAA Tower, International Parkway, Grapevine, T...  Grapevine   \n",
       "4     Stockholm-Arlanda flygplats, 273, Starrmossen,...  Grapevine   \n",
       "...                                                 ...        ...   \n",
       "9995  2265, West Horizon Ridge Parkway, Macdonald Ra...  Henderson   \n",
       "9996  Thatcher Hall, East Hurd Street, Edmond, Oklah...     Edmond   \n",
       "9997  Bezirksteil Neuperlach, Stadtbezirk 16 Ramersd...    München   \n",
       "9998  Ginatricot, Rådhustorget, Centrum, Centrala st...       Umeå   \n",
       "9999  Elephant Trail, East Main Street, Old Avon Vil...       Avon   \n",
       "\n",
       "                       country country_code  \n",
       "0                      Sverige           se  \n",
       "1     United States of America           us  \n",
       "2     United States of America           us  \n",
       "3     United States of America           us  \n",
       "4                      Sverige           se  \n",
       "...                        ...          ...  \n",
       "9995  United States of America           us  \n",
       "9996  United States of America           us  \n",
       "9997               Deutschland           de  \n",
       "9998                   Sverige           se  \n",
       "9999  United States of America           us  \n",
       "\n",
       "[10000 rows x 6 columns]"
      ]
     },
     "execution_count": 44,
     "metadata": {},
     "output_type": "execute_result"
    }
   ],
   "source": [
    "append_df = pd.DataFrame(location_append)[:-1]\n",
    "\n",
    "append_df"
   ]
  },
  {
   "cell_type": "code",
   "execution_count": 48,
   "metadata": {},
   "outputs": [
    {
     "data": {
      "text/html": [
       "<div>\n",
       "<style scoped>\n",
       "    .dataframe tbody tr th:only-of-type {\n",
       "        vertical-align: middle;\n",
       "    }\n",
       "\n",
       "    .dataframe tbody tr th {\n",
       "        vertical-align: top;\n",
       "    }\n",
       "\n",
       "    .dataframe thead th {\n",
       "        text-align: right;\n",
       "    }\n",
       "</style>\n",
       "<table border=\"1\" class=\"dataframe\">\n",
       "  <thead>\n",
       "    <tr style=\"text-align: right;\">\n",
       "      <th></th>\n",
       "      <th>locid</th>\n",
       "      <th>lat_mean</th>\n",
       "      <th>long_mean</th>\n",
       "      <th>visits</th>\n",
       "      <th>locid_check</th>\n",
       "      <th>osm_place_id</th>\n",
       "      <th>display_name</th>\n",
       "      <th>city</th>\n",
       "      <th>country</th>\n",
       "      <th>country_code</th>\n",
       "    </tr>\n",
       "  </thead>\n",
       "  <tbody>\n",
       "    <tr>\n",
       "      <th>0</th>\n",
       "      <td>55033</td>\n",
       "      <td>59.330158</td>\n",
       "      <td>18.058079</td>\n",
       "      <td>5811</td>\n",
       "      <td>55033.0</td>\n",
       "      <td>235973447</td>\n",
       "      <td>Pennfäktaren, Norrmalm, Norrmalms stadsdelsomr...</td>\n",
       "      <td>Stockholm</td>\n",
       "      <td>Sverige</td>\n",
       "      <td>se</td>\n",
       "    </tr>\n",
       "    <tr>\n",
       "      <th>1</th>\n",
       "      <td>19542</td>\n",
       "      <td>37.616356</td>\n",
       "      <td>-122.386150</td>\n",
       "      <td>5662</td>\n",
       "      <td>19542.0</td>\n",
       "      <td>235227144</td>\n",
       "      <td>Domestic Garage, Zone F/G, Lomita Park, San Ma...</td>\n",
       "      <td>Stockholm</td>\n",
       "      <td>United States of America</td>\n",
       "      <td>us</td>\n",
       "    </tr>\n",
       "    <tr>\n",
       "      <th>2</th>\n",
       "      <td>9410</td>\n",
       "      <td>30.201557</td>\n",
       "      <td>-97.667127</td>\n",
       "      <td>4713</td>\n",
       "      <td>9410.0</td>\n",
       "      <td>235768752</td>\n",
       "      <td>Austin-Bergstrom International Airport (AUS), ...</td>\n",
       "      <td>Austin</td>\n",
       "      <td>United States of America</td>\n",
       "      <td>us</td>\n",
       "    </tr>\n",
       "    <tr>\n",
       "      <th>3</th>\n",
       "      <td>10259</td>\n",
       "      <td>32.897462</td>\n",
       "      <td>-97.040348</td>\n",
       "      <td>4083</td>\n",
       "      <td>10259.0</td>\n",
       "      <td>186874070</td>\n",
       "      <td>FAA Tower, International Parkway, Grapevine, T...</td>\n",
       "      <td>Grapevine</td>\n",
       "      <td>United States of America</td>\n",
       "      <td>us</td>\n",
       "    </tr>\n",
       "    <tr>\n",
       "      <th>4</th>\n",
       "      <td>58725</td>\n",
       "      <td>59.650051</td>\n",
       "      <td>17.932262</td>\n",
       "      <td>3476</td>\n",
       "      <td>58725.0</td>\n",
       "      <td>105773201</td>\n",
       "      <td>Stockholm-Arlanda flygplats, 273, Starrmossen,...</td>\n",
       "      <td>Grapevine</td>\n",
       "      <td>Sverige</td>\n",
       "      <td>se</td>\n",
       "    </tr>\n",
       "    <tr>\n",
       "      <th>...</th>\n",
       "      <td>...</td>\n",
       "      <td>...</td>\n",
       "      <td>...</td>\n",
       "      <td>...</td>\n",
       "      <td>...</td>\n",
       "      <td>...</td>\n",
       "      <td>...</td>\n",
       "      <td>...</td>\n",
       "      <td>...</td>\n",
       "      <td>...</td>\n",
       "    </tr>\n",
       "    <tr>\n",
       "      <th>9995</th>\n",
       "      <td>230547</td>\n",
       "      <td>36.005830</td>\n",
       "      <td>-115.084607</td>\n",
       "      <td>56</td>\n",
       "      <td>230547.0</td>\n",
       "      <td>257735126</td>\n",
       "      <td>2265, West Horizon Ridge Parkway, Macdonald Ra...</td>\n",
       "      <td>Henderson</td>\n",
       "      <td>United States of America</td>\n",
       "      <td>us</td>\n",
       "    </tr>\n",
       "    <tr>\n",
       "      <th>9996</th>\n",
       "      <td>45183</td>\n",
       "      <td>35.655814</td>\n",
       "      <td>-97.470548</td>\n",
       "      <td>56</td>\n",
       "      <td>45183.0</td>\n",
       "      <td>145877854</td>\n",
       "      <td>Thatcher Hall, East Hurd Street, Edmond, Oklah...</td>\n",
       "      <td>Edmond</td>\n",
       "      <td>United States of America</td>\n",
       "      <td>us</td>\n",
       "    </tr>\n",
       "    <tr>\n",
       "      <th>9997</th>\n",
       "      <td>164356</td>\n",
       "      <td>48.101030</td>\n",
       "      <td>11.645453</td>\n",
       "      <td>56</td>\n",
       "      <td>164356.0</td>\n",
       "      <td>235795942</td>\n",
       "      <td>Bezirksteil Neuperlach, Stadtbezirk 16 Ramersd...</td>\n",
       "      <td>München</td>\n",
       "      <td>Deutschland</td>\n",
       "      <td>de</td>\n",
       "    </tr>\n",
       "    <tr>\n",
       "      <th>9998</th>\n",
       "      <td>234171</td>\n",
       "      <td>63.825514</td>\n",
       "      <td>20.261439</td>\n",
       "      <td>56</td>\n",
       "      <td>234171.0</td>\n",
       "      <td>46570017</td>\n",
       "      <td>Ginatricot, Rådhustorget, Centrum, Centrala st...</td>\n",
       "      <td>Umeå</td>\n",
       "      <td>Sverige</td>\n",
       "      <td>se</td>\n",
       "    </tr>\n",
       "    <tr>\n",
       "      <th>9999</th>\n",
       "      <td>603750</td>\n",
       "      <td>41.807453</td>\n",
       "      <td>-72.827597</td>\n",
       "      <td>56</td>\n",
       "      <td>603750.0</td>\n",
       "      <td>7703293</td>\n",
       "      <td>Elephant Trail, East Main Street, Old Avon Vil...</td>\n",
       "      <td>Avon</td>\n",
       "      <td>United States of America</td>\n",
       "      <td>us</td>\n",
       "    </tr>\n",
       "  </tbody>\n",
       "</table>\n",
       "<p>10000 rows × 10 columns</p>\n",
       "</div>"
      ],
      "text/plain": [
       "       locid   lat_mean   long_mean  visits  locid_check  osm_place_id  \\\n",
       "0      55033  59.330158   18.058079    5811      55033.0     235973447   \n",
       "1      19542  37.616356 -122.386150    5662      19542.0     235227144   \n",
       "2       9410  30.201557  -97.667127    4713       9410.0     235768752   \n",
       "3      10259  32.897462  -97.040348    4083      10259.0     186874070   \n",
       "4      58725  59.650051   17.932262    3476      58725.0     105773201   \n",
       "...      ...        ...         ...     ...          ...           ...   \n",
       "9995  230547  36.005830 -115.084607      56     230547.0     257735126   \n",
       "9996   45183  35.655814  -97.470548      56      45183.0     145877854   \n",
       "9997  164356  48.101030   11.645453      56     164356.0     235795942   \n",
       "9998  234171  63.825514   20.261439      56     234171.0      46570017   \n",
       "9999  603750  41.807453  -72.827597      56     603750.0       7703293   \n",
       "\n",
       "                                           display_name       city  \\\n",
       "0     Pennfäktaren, Norrmalm, Norrmalms stadsdelsomr...  Stockholm   \n",
       "1     Domestic Garage, Zone F/G, Lomita Park, San Ma...  Stockholm   \n",
       "2     Austin-Bergstrom International Airport (AUS), ...     Austin   \n",
       "3     FAA Tower, International Parkway, Grapevine, T...  Grapevine   \n",
       "4     Stockholm-Arlanda flygplats, 273, Starrmossen,...  Grapevine   \n",
       "...                                                 ...        ...   \n",
       "9995  2265, West Horizon Ridge Parkway, Macdonald Ra...  Henderson   \n",
       "9996  Thatcher Hall, East Hurd Street, Edmond, Oklah...     Edmond   \n",
       "9997  Bezirksteil Neuperlach, Stadtbezirk 16 Ramersd...    München   \n",
       "9998  Ginatricot, Rådhustorget, Centrum, Centrala st...       Umeå   \n",
       "9999  Elephant Trail, East Main Street, Old Avon Vil...       Avon   \n",
       "\n",
       "                       country country_code  \n",
       "0                      Sverige           se  \n",
       "1     United States of America           us  \n",
       "2     United States of America           us  \n",
       "3     United States of America           us  \n",
       "4                      Sverige           se  \n",
       "...                        ...          ...  \n",
       "9995  United States of America           us  \n",
       "9996  United States of America           us  \n",
       "9997               Deutschland           de  \n",
       "9998                   Sverige           se  \n",
       "9999  United States of America           us  \n",
       "\n",
       "[10000 rows x 10 columns]"
      ]
     },
     "execution_count": 48,
     "metadata": {},
     "output_type": "execute_result"
    }
   ],
   "source": [
    "append_df = pd.DataFrame(location_append)[:-1]\n",
    "places_top10_desc = places_top10.join(append_df)\n",
    "\n",
    "places_top10_desc"
   ]
  },
  {
   "cell_type": "code",
   "execution_count": 49,
   "metadata": {},
   "outputs": [],
   "source": [
    "places_top10_desc.to_csv('data/places_top10_desc.csv')"
   ]
  },
  {
   "cell_type": "code",
   "execution_count": 60,
   "metadata": {},
   "outputs": [
    {
     "data": {
      "text/plain": [
       "Austin                1183\n",
       "Stockholm              816\n",
       "San Francisco          517\n",
       "Göteborg               295\n",
       "Dallas                 250\n",
       "                      ... \n",
       "Lower Paia               1\n",
       "East Hertfordshire       1\n",
       "Noordwijk                1\n",
       "Fort Collins             1\n",
       "Edwardsville             1\n",
       "Name: city, Length: 1529, dtype: int64"
      ]
     },
     "execution_count": 60,
     "metadata": {},
     "output_type": "execute_result"
    }
   ],
   "source": [
    "# top cities\n",
    "\n",
    "places_top10_desc['city'].value_counts()"
   ]
  },
  {
   "cell_type": "code",
   "execution_count": 61,
   "metadata": {},
   "outputs": [
    {
     "data": {
      "text/plain": [
       "United States of America       5894\n",
       "Sverige                        1954\n",
       "Deutschland                     412\n",
       "United Kingdom                  338\n",
       "Norge                           269\n",
       "Canada                          126\n",
       "Nederland                       120\n",
       "Saudi Arabia / السعودية         111\n",
       "België - Belgique - Belgien      99\n",
       "ประเทศไทย                        81\n",
       "日本 (Japan)                       79\n",
       "Switzerland                      69\n",
       "Australia                        65\n",
       "France                           43\n",
       "Česká republika                  36\n",
       "Portugal                         33\n",
       "Österreich                       29\n",
       "Danmark                          27\n",
       "Italia                           25\n",
       "Malaysia                         24\n",
       "Singapore                        24\n",
       "España                           19\n",
       "China 中国                         14\n",
       "Magyarország                     14\n",
       "Philippines                      12\n",
       "Brasil                           10\n",
       "Indonesia                         8\n",
       "Suomi                             7\n",
       "India                             5\n",
       "Polska                            5\n",
       "Luxembourg                        5\n",
       "Venezuela                         4\n",
       "South Africa                      4\n",
       "United Arab Emirates              4\n",
       "Taiwan                            3\n",
       "대한민국                              3\n",
       "México                            2\n",
       "Latvija                           2\n",
       "Ireland                           2\n",
       "Hrvatska                          2\n",
       "Россия                            2\n",
       "ישראל                             2\n",
       "Việt Nam                          2\n",
       "New Zealand                       2\n",
       "România                           1\n",
       "Slovensko                         1\n",
       "Ελλάδα                            1\n",
       "Türkiye                           1\n",
       "Chile                             1\n",
       "قطر Qatar                         1\n",
       "Jordan / الأُرْدُن                1\n",
       "Slovenija                         1\n",
       "                                  1\n",
       "Name: country, dtype: int64"
      ]
     },
     "execution_count": 61,
     "metadata": {},
     "output_type": "execute_result"
    }
   ],
   "source": [
    "places_top10_desc['country'].value_counts()"
   ]
  },
  {
   "cell_type": "markdown",
   "metadata": {},
   "source": [
    "#### Centrality of Cities\n",
    "\n",
    "* we would like to understand more about which locations are more influential in social networks\n",
    "* listing the most visted places as shown above gives us an idea of which locations are most popular\n",
    "    * however we are more interested in which places are most influential in terms of number of connections made"
   ]
  },
  {
   "cell_type": "code",
   "execution_count": null,
   "metadata": {},
   "outputs": [],
   "source": []
  },
  {
   "cell_type": "markdown",
   "metadata": {
    "colab_type": "text",
    "id": "Vc34EgY2sP_R"
   },
   "source": [
    "## Graph Representations\n",
    "\n",
    "* having some issues importing Stanford Snap (conflicts with another library called snap)\n",
    "* I'm going to try iGraph in the meantime\n",
    "\n",
    "### Limitations\n",
    "\n",
    "* the max userID will be the number of edges required in the graph (assumption)\n",
    "* using the maximum number of nodes in the graph (196591) takes a long time to generate the graph\n",
    "  * this I would assume makes the algorithms for these graphs tricky to run\n",
    "  * I could also be adding the edges in an unefficient way (explore ways of generating graphs)\n",
    "    * might be better to add edges in batches instead of one edge at a time (explore this)\n",
    "\n",
    "#### Ways to set limits\n",
    "* we can limit the groups to the first n number of users (example only nodes 0 - 1000)\n",
    "  * however under the assumption that userIDs are added based on the time the user adds themselves to the network, then there will be a lot of graphs that aren't connected because they are in geographically seperate locations\n",
    "* a better soltuion would be to take a group of n people in close proximety of one another\n",
    "  * we could find the average latitude and longitude of a users and record this as the area they are generally in\n",
    "  * we'll then randomly select a user and select the n amount of people closest to this user (ranking by the distance between their average locations)\n"
   ]
  },
  {
   "cell_type": "code",
   "execution_count": 17,
   "metadata": {
    "colab": {
     "base_uri": "https://localhost:8080/",
     "height": 35
    },
    "colab_type": "code",
    "id": "u4o3JaqkspRc",
    "outputId": "b4049289-ad49-4073-bc22-4bdd626af1ab"
   },
   "outputs": [
    {
     "data": {
      "text/plain": [
       "196590"
      ]
     },
     "execution_count": 17,
     "metadata": {},
     "output_type": "execute_result"
    }
   ],
   "source": [
    "edgesG = Graph()\n",
    "total_edges = max(edges['u1'].max(), edges['u2'].max())\n",
    "total_edges"
   ]
  },
  {
   "cell_type": "code",
   "execution_count": 18,
   "metadata": {
    "colab": {},
    "colab_type": "code",
    "id": "B9QhZryu1hTX"
   },
   "outputs": [],
   "source": [
    "edgesG.add_vertices(total_edges)"
   ]
  },
  {
   "cell_type": "code",
   "execution_count": 0,
   "metadata": {
    "colab": {},
    "colab_type": "code",
    "id": "eW-zer7Uz6g6"
   },
   "outputs": [],
   "source": [
    "# this takes too long; there's got to be a better way!\n",
    "\n",
    "for i in range(len(edges)):\n",
    "  edgesG.add_edge(edges.loc[i, \"u1\"], edges.loc[i, \"u2\"])"
   ]
  },
  {
   "cell_type": "code",
   "execution_count": 26,
   "metadata": {},
   "outputs": [
    {
     "data": {
      "text/plain": [
       "'IGRAPH UN-- 196591 1900654 -- \\n+ attr: name (v)'"
      ]
     },
     "execution_count": 26,
     "metadata": {},
     "output_type": "execute_result"
    }
   ],
   "source": [
    "#Faster way to make graph from df tuples\n",
    "eG = igraph.Graph.TupleList(edges.itertuples(index=False), directed=False, weights=False)\n",
    "eG.summary()"
   ]
  },
  {
   "cell_type": "code",
   "execution_count": 42,
   "metadata": {},
   "outputs": [
    {
     "name": "stdout",
     "output_type": "stream",
     "text": [
      "29460\n"
     ]
    },
    {
     "data": {
      "text/plain": [
       "igraph.Vertex(<igraph.Graph object at 0x0000022A8E1D25E8>, 307, {'name': 307})"
      ]
     },
     "execution_count": 42,
     "metadata": {},
     "output_type": "execute_result"
    }
   ],
   "source": [
    "#Finds degrees of each vertex and the max degree and its vertex - popularity\n",
    "eG_degrees = eG.indegree()\n",
    "print(max(eG_degrees))\n",
    "eG_max_degree_index = eG_degrees.index(max(eG_degrees))\n",
    "eG.vs[eG_max_degree_index]"
   ]
  },
  {
   "cell_type": "code",
   "execution_count": 53,
   "metadata": {},
   "outputs": [
    {
     "name": "stderr",
     "output_type": "stream",
     "text": [
      "C:\\Users\\Ayan\\Anaconda3\\lib\\site-packages\\ipykernel_launcher.py:2: SettingWithCopyWarning: \n",
      "A value is trying to be set on a copy of a slice from a DataFrame.\n",
      "Try using .loc[row_indexer,col_indexer] = value instead\n",
      "\n",
      "See the caveats in the documentation: http://pandas.pydata.org/pandas-docs/stable/user_guide/indexing.html#returning-a-view-versus-a-copy\n",
      "  \n"
     ]
    },
    {
     "data": {
      "text/html": [
       "<div>\n",
       "<style scoped>\n",
       "    .dataframe tbody tr th:only-of-type {\n",
       "        vertical-align: middle;\n",
       "    }\n",
       "\n",
       "    .dataframe tbody tr th {\n",
       "        vertical-align: top;\n",
       "    }\n",
       "\n",
       "    .dataframe thead th {\n",
       "        text-align: right;\n",
       "    }\n",
       "</style>\n",
       "<table border=\"1\" class=\"dataframe\">\n",
       "  <thead>\n",
       "    <tr style=\"text-align: right;\">\n",
       "      <th></th>\n",
       "      <th>user</th>\n",
       "      <th>locid</th>\n",
       "    </tr>\n",
       "  </thead>\n",
       "  <tbody>\n",
       "    <tr>\n",
       "      <td>0</td>\n",
       "      <td>0</td>\n",
       "      <td>L22847</td>\n",
       "    </tr>\n",
       "    <tr>\n",
       "      <td>1</td>\n",
       "      <td>0</td>\n",
       "      <td>L420315</td>\n",
       "    </tr>\n",
       "    <tr>\n",
       "      <td>2</td>\n",
       "      <td>0</td>\n",
       "      <td>L316637</td>\n",
       "    </tr>\n",
       "    <tr>\n",
       "      <td>3</td>\n",
       "      <td>0</td>\n",
       "      <td>L16516</td>\n",
       "    </tr>\n",
       "    <tr>\n",
       "      <td>4</td>\n",
       "      <td>0</td>\n",
       "      <td>L5535878</td>\n",
       "    </tr>\n",
       "    <tr>\n",
       "      <td>...</td>\n",
       "      <td>...</td>\n",
       "      <td>...</td>\n",
       "    </tr>\n",
       "    <tr>\n",
       "      <td>6442887</td>\n",
       "      <td>196578</td>\n",
       "      <td>L906885</td>\n",
       "    </tr>\n",
       "    <tr>\n",
       "      <td>6442888</td>\n",
       "      <td>196578</td>\n",
       "      <td>L965121</td>\n",
       "    </tr>\n",
       "    <tr>\n",
       "      <td>6442889</td>\n",
       "      <td>196578</td>\n",
       "      <td>L1174322</td>\n",
       "    </tr>\n",
       "    <tr>\n",
       "      <td>6442890</td>\n",
       "      <td>196585</td>\n",
       "      <td>L471724</td>\n",
       "    </tr>\n",
       "    <tr>\n",
       "      <td>6442891</td>\n",
       "      <td>196585</td>\n",
       "      <td>L4555073</td>\n",
       "    </tr>\n",
       "  </tbody>\n",
       "</table>\n",
       "<p>6442892 rows × 2 columns</p>\n",
       "</div>"
      ],
      "text/plain": [
       "           user     locid\n",
       "0             0    L22847\n",
       "1             0   L420315\n",
       "2             0   L316637\n",
       "3             0    L16516\n",
       "4             0  L5535878\n",
       "...         ...       ...\n",
       "6442887  196578   L906885\n",
       "6442888  196578   L965121\n",
       "6442889  196578  L1174322\n",
       "6442890  196585   L471724\n",
       "6442891  196585  L4555073\n",
       "\n",
       "[6442892 rows x 2 columns]"
      ]
     },
     "execution_count": 53,
     "metadata": {},
     "output_type": "execute_result"
    }
   ],
   "source": [
    "user_locids = totalCheckins[['user', 'locid']]\n",
    "user_locids['locid'] = user_locids['locid'].apply(lambda x: 'L' + str(x))\n",
    "user_locids"
   ]
  },
  {
   "cell_type": "code",
   "execution_count": 54,
   "metadata": {},
   "outputs": [
    {
     "data": {
      "text/plain": [
       "'IGRAPH UN-- 1388061 6442892 -- \\n+ attr: name (v)'"
      ]
     },
     "execution_count": 54,
     "metadata": {},
     "output_type": "execute_result"
    }
   ],
   "source": [
    "user_loc_G = igraph.Graph.TupleList(user_locids.itertuples(index=False), directed=False, weights=False)\n",
    "user_loc_G.summary()"
   ]
  },
  {
   "cell_type": "code",
   "execution_count": null,
   "metadata": {},
   "outputs": [],
   "source": []
  },
  {
   "cell_type": "markdown",
   "metadata": {
    "colab_type": "text",
    "id": "QHJo-Twy69xq"
   },
   "source": [
    "## Map APIs\n",
    "\n",
    "* important for querying specific information about locations people visit\n",
    "* data visualization is not an essential part of the project, but is worth exploring if data visualization is easy"
   ]
  },
  {
   "cell_type": "markdown",
   "metadata": {
    "colab_type": "text",
    "id": "4VuliqhVBA4_"
   },
   "source": [
    "### Notes About OSM\n",
    "* [OpenStreetMap Article](https://towardsdatascience.com/loading-data-from-openstreetmap-with-python-and-the-overpass-api-513882a27fd0)\n",
    "\n",
    "* We will be using the Overpass API to get information about our locations\n",
    "  * [Overpass Querying Language](https://wiki.openstreetmap.org/wiki/Overpass_API/Overpass_QL)\n",
    "  * [Site for Testing Overpass Queries](http://overpass-turbo.eu/)\n",
    "\n",
    "\n",
    "* **node**: a specific lat, long point\n",
    "* **relation**: a region (typically for buildings that require multiple polygons\n",
    "  * probably will be using this for our project (need a way to query if a user's location is in a certain relation)\n",
    "  * includes tags which can helps us "
   ]
  },
  {
   "cell_type": "code",
   "execution_count": 0,
   "metadata": {
    "colab": {},
    "colab_type": "code",
    "id": "-GvF3_Rz7FoG"
   },
   "outputs": [],
   "source": [
    "# example of an overpass query that collects all the biergartens in germany\n",
    "# there are a lot of biergartens in Germany lol; so the query will take long to run \n",
    "# notice that it includes every OpenStreetMap datatype (node, way, rel); maybe there are biergarten streets? (way)\n",
    "\n",
    "import requests\n",
    "import json\n",
    "\n",
    "overpass_url = \"http://overpass-api.de/api/interpreter\"\n",
    "overpass_query = \"\"\"\n",
    "[out:json];\n",
    "area[\"ISO3166-1\"=\"DE\"][admin_level=2];\n",
    "(node[\"amenity\"=\"biergarten\"](area);\n",
    " way[\"amenity\"=\"biergarten\"](area);\n",
    " rel[\"amenity\"=\"biergarten\"](area);\n",
    ");\n",
    "out center;\n",
    "\"\"\"\n",
    "response = requests.get(overpass_url, \n",
    "                        params={'data': overpass_query})\n",
    "data = response.json()"
   ]
  },
  {
   "cell_type": "code",
   "execution_count": 0,
   "metadata": {
    "colab": {
     "base_uri": "https://localhost:8080/",
     "height": 1000
    },
    "colab_type": "code",
    "id": "2yXJ3Ait83sN",
    "outputId": "0a914508-ca5a-4de7-ab38-8efc2286231f"
   },
   "outputs": [
    {
     "data": {
      "text/plain": [
       "[{'id': 27318009,\n",
       "  'lat': 52.4200885,\n",
       "  'lon': 13.1763456,\n",
       "  'tags': {'addr:city': 'Berlin',\n",
       "   'addr:housenumber': '260',\n",
       "   'addr:postcode': '14109',\n",
       "   'addr:street': 'Kronprinzessinnenweg',\n",
       "   'amenity': 'biergarten',\n",
       "   'contact:email': 'info@loretta-berlin.de',\n",
       "   'contact:fax': '+49 30 80105334',\n",
       "   'contact:phone': '+49 30 80105333',\n",
       "   'contact:website': 'https://www.loretta-wannsee.de/biergarten/',\n",
       "   'name': 'Loretta',\n",
       "   'opening_hours': '12:00+',\n",
       "   'wheelchair': 'limited'},\n",
       "  'type': 'node'},\n",
       " {'id': 27352197,\n",
       "  'lat': 50.3638373,\n",
       "  'lon': 7.5769021,\n",
       "  'tags': {'amenity': 'biergarten', 'wheelchair': 'limited'},\n",
       "  'type': 'node'},\n",
       " {'id': 27787909,\n",
       "  'lat': 52.9822191,\n",
       "  'lon': 8.845254,\n",
       "  'tags': {'amenity': 'biergarten',\n",
       "   'name': 'Schwarzbiergarten',\n",
       "   'wheelchair': 'limited'},\n",
       "  'type': 'node'},\n",
       " {'id': 29812167,\n",
       "  'lat': 49.4814353,\n",
       "  'lon': 10.993033,\n",
       "  'tags': {'amenity': 'biergarten',\n",
       "   'toilets:wheelchair': 'no',\n",
       "   'wheelchair': 'limited'},\n",
       "  'type': 'node'},\n",
       " {'id': 32628620,\n",
       "  'lat': 47.9927509,\n",
       "  'lon': 7.8558873,\n",
       "  'tags': {'addr:city': 'Freiburg im Breisgau',\n",
       "   'addr:housenumber': '3',\n",
       "   'addr:postcode': '79098',\n",
       "   'addr:street': 'Schlossbergring',\n",
       "   'amenity': 'biergarten',\n",
       "   'contact:email': 'info@kastaniengarten-freiburg.de',\n",
       "   'contact:fax': '+49 761 289602',\n",
       "   'contact:phone': '+49 761 32728',\n",
       "   'contact:website': 'http://www.kastaniengarten-freiburg.de/',\n",
       "   'name': 'Kastaniengarten',\n",
       "   'opening_hours': 'Mo-Su 11:00-24:00',\n",
       "   'phone': '+49 761 32728',\n",
       "   'toilets:wheelchair': 'no',\n",
       "   'website': 'http://www.greiffenegg.de/kastaniengarten.html',\n",
       "   'wheelchair': 'limited'},\n",
       "  'type': 'node'}]"
      ]
     },
     "execution_count": 90,
     "metadata": {
      "tags": []
     },
     "output_type": "execute_result"
    }
   ],
   "source": [
    "# notice how descriptive the API is for relations\n",
    "\n",
    "data['elements'][5:10]"
   ]
  },
  {
   "cell_type": "markdown",
   "metadata": {
    "colab_type": "text",
    "id": "xLmuNT6hLjZl"
   },
   "source": [
    "# Sources\n",
    "\n",
    "A collection of sources to include in the final paper:\n",
    "\n",
    "* [OpenStreetMap Article](https://towardsdatascience.com/loading-data-from-openstreetmap-with-python-and-the-overpass-api-513882a27fd0)"
   ]
  },
  {
   "cell_type": "code",
   "execution_count": 0,
   "metadata": {
    "colab": {},
    "colab_type": "code",
    "id": "Bmd_-LgAIMs8"
   },
   "outputs": [],
   "source": []
  }
 ],
 "metadata": {
  "colab": {
   "collapsed_sections": [],
   "name": "CSC481_Project.ipynb",
   "provenance": [],
   "toc_visible": true
  },
  "kernelspec": {
   "display_name": "Python 3",
   "language": "python",
   "name": "python3"
  },
  "language_info": {
   "codemirror_mode": {
    "name": "ipython",
    "version": 3
   },
   "file_extension": ".py",
   "mimetype": "text/x-python",
   "name": "python",
   "nbconvert_exporter": "python",
   "pygments_lexer": "ipython3",
   "version": "3.7.6"
  }
 },
 "nbformat": 4,
 "nbformat_minor": 1
}

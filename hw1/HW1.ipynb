{
 "cells": [
  {
   "cell_type": "markdown",
   "metadata": {},
   "source": [
    "# HW1\n",
    "\n",
    "* Robert Hensley"
   ]
  },
  {
   "cell_type": "code",
   "execution_count": 1,
   "metadata": {},
   "outputs": [],
   "source": [
    "import snap\n",
    "import gzip"
   ]
  },
  {
   "cell_type": "markdown",
   "metadata": {},
   "source": [
    "## Importing Data\n",
    "\n",
    "* [reading gzip data](https://www.tutorialspoint.com/python-support-for-gzip-files-gzip)\n",
    "* [how to load the data from a file of bytes](https://snap.stanford.edu/snappy/doc/reference/LoadEdgeListStr.html)"
   ]
  },
  {
   "cell_type": "code",
   "execution_count": 9,
   "metadata": {},
   "outputs": [],
   "source": [
    "# read the gzip file\n",
    "with gzip.open(\"amazon0601.txt.gz\", \"rb\") as f:\n",
    "    data = f.read()\n",
    "\n",
    "# write to txt as bytes\n",
    "with open(\"amazon0601.txt\", \"wb\") as f:\n",
    "    f.write(data)"
   ]
  },
  {
   "cell_type": "code",
   "execution_count": 11,
   "metadata": {},
   "outputs": [],
   "source": [
    "G = snap.LoadEdgeListStr(snap.PNGraph, \"amazon0601.txt\", 0, 1)"
   ]
  },
  {
   "cell_type": "code",
   "execution_count": 12,
   "metadata": {},
   "outputs": [
    {
     "data": {
      "text/plain": [
       "<snap.PNGraph; proxy of <Swig Object of type 'PNGraph *' at 0x00000214E76CBE70> >"
      ]
     },
     "execution_count": 12,
     "metadata": {},
     "output_type": "execute_result"
    }
   ],
   "source": [
    "G"
   ]
  },
  {
   "cell_type": "markdown",
   "metadata": {},
   "source": [
    "## Objectives \n",
    "\n",
    "* Number of nodes in the graph "
   ]
  },
  {
   "cell_type": "code",
   "execution_count": 13,
   "metadata": {},
   "outputs": [
    {
     "name": "stdout",
     "output_type": "stream",
     "text": [
      "Number of Nodes: 403394\n"
     ]
    }
   ],
   "source": [
    "print(\"Number of Nodes: %d\" % G.GetNodes())"
   ]
  },
  {
   "cell_type": "markdown",
   "metadata": {},
   "source": [
    "* Number of directed edges in the graph. This is the number of edges (a,b) ∈ E, where a ≠ b. "
   ]
  },
  {
   "cell_type": "code",
   "execution_count": 15,
   "metadata": {},
   "outputs": [
    {
     "name": "stdout",
     "output_type": "stream",
     "text": [
      "Directed Graph: Count of unique directed edges is 3387388\n"
     ]
    }
   ],
   "source": [
    "Count = snap.CntUniqDirEdges(G)\n",
    "print(\"Directed Graph: Count of unique directed edges is %d\" % Count)"
   ]
  },
  {
   "cell_type": "markdown",
   "metadata": {},
   "source": [
    "* Number of undirected edges in the graph. Same as above, except that if both (a,b) and (b,a) are in E, they count once. "
   ]
  },
  {
   "cell_type": "code",
   "execution_count": 17,
   "metadata": {},
   "outputs": [
    {
     "name": "stdout",
     "output_type": "stream",
     "text": [
      "Directed Graph: Count of unique undirected edges is 2443408\n"
     ]
    }
   ],
   "source": [
    "Count = snap.CntUniqUndirEdges(G)\n",
    "print(\"Directed Graph: Count of unique undirected edges is %d\" % Count)"
   ]
  },
  {
   "cell_type": "markdown",
   "metadata": {},
   "source": [
    "* Number of nodes with zero out-degree "
   ]
  },
  {
   "cell_type": "code",
   "execution_count": 19,
   "metadata": {},
   "outputs": [
    {
     "name": "stdout",
     "output_type": "stream",
     "text": [
      "Directed Graph: Count of nodes with out-degree 0 is 955\n"
     ]
    }
   ],
   "source": [
    "Count = snap.CntOutDegNodes(G, 0)\n",
    "print(\"Directed Graph: Count of nodes with out-degree 0 is %d\" % Count)"
   ]
  },
  {
   "cell_type": "markdown",
   "metadata": {},
   "source": [
    "* Number of nodes with zero in-degree "
   ]
  },
  {
   "cell_type": "code",
   "execution_count": 20,
   "metadata": {},
   "outputs": [
    {
     "name": "stdout",
     "output_type": "stream",
     "text": [
      "Directed Graph: Count of nodes with in-degree 0 is 82\n"
     ]
    }
   ],
   "source": [
    "Count = snap.CntInDegNodes(G, 0)\n",
    "print(\"Directed Graph: Count of nodes with in-degree 0 is %d\" % Count)"
   ]
  },
  {
   "cell_type": "markdown",
   "metadata": {},
   "source": [
    "* Number of nodes with more in-coming edges than out-going edges "
   ]
  },
  {
   "cell_type": "code",
   "execution_count": 21,
   "metadata": {},
   "outputs": [
    {
     "ename": "NameError",
     "evalue": "name 'Graph' is not defined",
     "output_type": "error",
     "traceback": [
      "\u001b[1;31m---------------------------------------------------------------------------\u001b[0m",
      "\u001b[1;31mNameError\u001b[0m                                 Traceback (most recent call last)",
      "\u001b[1;32m<ipython-input-21-b5fedc9d58d0>\u001b[0m in \u001b[0;36m<module>\u001b[1;34m\u001b[0m\n\u001b[0;32m      1\u001b[0m \u001b[0mDegToCntV\u001b[0m \u001b[1;33m=\u001b[0m \u001b[0msnap\u001b[0m\u001b[1;33m.\u001b[0m\u001b[0mTIntPrV\u001b[0m\u001b[1;33m(\u001b[0m\u001b[1;33m)\u001b[0m\u001b[1;33m\u001b[0m\u001b[1;33m\u001b[0m\u001b[0m\n\u001b[1;32m----> 2\u001b[1;33m \u001b[0msnap\u001b[0m\u001b[1;33m.\u001b[0m\u001b[0mGetDegCnt\u001b[0m\u001b[1;33m(\u001b[0m\u001b[0mGraph\u001b[0m\u001b[1;33m,\u001b[0m \u001b[0mDegToCntV\u001b[0m\u001b[1;33m)\u001b[0m\u001b[1;33m\u001b[0m\u001b[1;33m\u001b[0m\u001b[0m\n\u001b[0m\u001b[0;32m      3\u001b[0m \u001b[1;32mfor\u001b[0m \u001b[0mitem\u001b[0m \u001b[1;32min\u001b[0m \u001b[0mDegToCntV\u001b[0m\u001b[1;33m:\u001b[0m\u001b[1;33m\u001b[0m\u001b[1;33m\u001b[0m\u001b[0m\n\u001b[0;32m      4\u001b[0m     \u001b[0mprint\u001b[0m\u001b[1;33m(\u001b[0m\u001b[1;34m\"%d nodes with degree %d\"\u001b[0m \u001b[1;33m%\u001b[0m \u001b[1;33m(\u001b[0m\u001b[0mitem\u001b[0m\u001b[1;33m.\u001b[0m\u001b[0mGetVal2\u001b[0m\u001b[1;33m(\u001b[0m\u001b[1;33m)\u001b[0m\u001b[1;33m,\u001b[0m \u001b[0mitem\u001b[0m\u001b[1;33m.\u001b[0m\u001b[0mGetVal1\u001b[0m\u001b[1;33m(\u001b[0m\u001b[1;33m)\u001b[0m\u001b[1;33m)\u001b[0m\u001b[1;33m)\u001b[0m\u001b[1;33m\u001b[0m\u001b[1;33m\u001b[0m\u001b[0m\n",
      "\u001b[1;31mNameError\u001b[0m: name 'Graph' is not defined"
     ]
    }
   ],
   "source": [
    "DegToCntV = snap.TIntPrV()\n",
    "snap.GetDegCnt(Graph, DegToCntV)\n",
    "for item in DegToCntV:\n",
    "    print(\"%d nodes with degree %d\" % (item.GetVal2(), item.GetVal1()))"
   ]
  },
  {
   "cell_type": "markdown",
   "metadata": {},
   "source": [
    "## Final Program"
   ]
  },
  {
   "cell_type": "code",
   "execution_count": 22,
   "metadata": {},
   "outputs": [
    {
     "name": "stdout",
     "output_type": "stream",
     "text": [
      "Number of Nodes: 403394\n",
      "Directed Graph: Count of unique directed edges is 3387388\n",
      "Directed Graph: Count of unique undirected edges is 2443408\n",
      "Directed Graph: Count of nodes with out-degree 0 is 955\n",
      "Directed Graph: Count of nodes with in-degree 0 is 82\n"
     ]
    }
   ],
   "source": [
    "# read the gzip file\n",
    "with gzip.open(\"amazon0601.txt.gz\", \"rb\") as f:\n",
    "    data = f.read()\n",
    "\n",
    "# write to txt as bytes\n",
    "with open(\"amazon0601.txt\", \"wb\") as f:\n",
    "    f.write(data)\n",
    "\n",
    "# Create A Graph Object\n",
    "G = snap.LoadEdgeListStr(snap.PNGraph, \"amazon0601.txt\", 0, 1)\n",
    "\n",
    "# Number of nodes in the graph \n",
    "print(\"Number of Nodes: %d\" % G.GetNodes())\n",
    "\n",
    "# Number of directed edges in the graph\n",
    "Count = snap.CntUniqDirEdges(G)\n",
    "print(\"Directed Graph: Count of unique directed edges is %d\" % Count)\n",
    "\n",
    "# Number of undirected edges in the graph\n",
    "Count = snap.CntUniqUndirEdges(G)\n",
    "print(\"Directed Graph: Count of unique undirected edges is %d\" % Count)\n",
    "\n",
    "# Number of nodes with zero out-degree \n",
    "Count = snap.CntOutDegNodes(G, 0)\n",
    "print(\"Directed Graph: Count of nodes with out-degree 0 is %d\" % Count)\n",
    "\n",
    "# Number of nodes with zero in-degree\n",
    "Count = snap.CntInDegNodes(G, 0)\n",
    "print(\"Directed Graph: Count of nodes with in-degree 0 is %d\" % Count)"
   ]
  }
 ],
 "metadata": {
  "kernelspec": {
   "display_name": "Python 3",
   "language": "python",
   "name": "python3"
  },
  "language_info": {
   "codemirror_mode": {
    "name": "ipython",
    "version": 3
   },
   "file_extension": ".py",
   "mimetype": "text/x-python",
   "name": "python",
   "nbconvert_exporter": "python",
   "pygments_lexer": "ipython3",
   "version": "3.7.6"
  }
 },
 "nbformat": 4,
 "nbformat_minor": 4
}

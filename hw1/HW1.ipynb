{
 "cells": [
  {
   "cell_type": "markdown",
   "metadata": {},
   "source": [
    "# HW1\n",
    "\n",
    "* Robert Hensley"
   ]
  },
  {
   "cell_type": "code",
   "execution_count": 1,
   "metadata": {},
   "outputs": [],
   "source": [
    "import snap\n",
    "import gzip"
   ]
  },
  {
   "cell_type": "markdown",
   "metadata": {},
   "source": [
    "## Importing Data\n",
    "\n",
    "* [reading gzip data](https://www.tutorialspoint.com/python-support-for-gzip-files-gzip)\n",
    "* [how to load the data from a file of bytes](https://snap.stanford.edu/snappy/doc/reference/LoadEdgeListStr.html)"
   ]
  },
  {
   "cell_type": "code",
   "execution_count": 9,
   "metadata": {},
   "outputs": [],
   "source": [
    "# read the gzip file\n",
    "\n",
    "with gzip.open(\"amazon0601.txt.gz\", \"rb\") as f:\n",
    "    data = f.read()\n",
    "\n",
    "# write to txt as bytes\n",
    "with open(\"amazon0601.txt\", \"wb\") as f:\n",
    "    f.write(data)"
   ]
  },
  {
   "cell_type": "code",
   "execution_count": 11,
   "metadata": {},
   "outputs": [],
   "source": [
    "G = snap.LoadEdgeListStr(snap.PNGraph, \"amazon0601.txt\", 0, 1)"
   ]
  },
  {
   "cell_type": "code",
   "execution_count": 12,
   "metadata": {},
   "outputs": [
    {
     "data": {
      "text/plain": [
       "<snap.PNGraph; proxy of <Swig Object of type 'PNGraph *' at 0x00000214E76CBE70> >"
      ]
     },
     "execution_count": 12,
     "metadata": {},
     "output_type": "execute_result"
    }
   ],
   "source": [
    "G"
   ]
  },
  {
   "cell_type": "markdown",
   "metadata": {},
   "source": [
    "## Objectives \n",
    "* Number of nodes in the graph \n",
    "* Number of directed edges in the graph. This is the number of edges (a,b) ∈ E, where a ≠ b.  \n",
    "* Number of undirected edges in the graph. Same as above, except that if both (a,b) and (b,a) are in E, they count once. \n",
    "* Number of nodes with zero out-degree \n",
    "* Number of nodes with zero in-degree \n",
    "* Number of nodes with more in-coming edges than out-going edges "
   ]
  },
  {
   "cell_type": "code",
   "execution_count": null,
   "metadata": {},
   "outputs": [],
   "source": [
    "# loading graph\n",
    "\n",
    "FIn = snap.TFIn(\"amazon0601.txt\")\n",
    "amazon0601 = snap.TNGraph.Load(FIn)"
   ]
  },
  {
   "cell_type": "markdown",
   "metadata": {},
   "source": [
    "## Final Program"
   ]
  },
  {
   "cell_type": "code",
   "execution_count": null,
   "metadata": {},
   "outputs": [],
   "source": []
  }
 ],
 "metadata": {
  "kernelspec": {
   "display_name": "Python 3",
   "language": "python",
   "name": "python3"
  },
  "language_info": {
   "codemirror_mode": {
    "name": "ipython",
    "version": 3
   },
   "file_extension": ".py",
   "mimetype": "text/x-python",
   "name": "python",
   "nbconvert_exporter": "python",
   "pygments_lexer": "ipython3",
   "version": "3.7.6"
  }
 },
 "nbformat": 4,
 "nbformat_minor": 4
}
